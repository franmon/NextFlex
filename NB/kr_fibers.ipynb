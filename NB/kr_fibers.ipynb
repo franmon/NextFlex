{
 "cells": [
  {
   "cell_type": "markdown",
   "metadata": {},
   "source": [
    "<p style=\"font-family: Arial; font-size:3.75em;color:purple; font-style:bold\"><br>\n",
    "'SiPM DST' Study</p><br>"
   ]
  },
  {
   "cell_type": "markdown",
   "metadata": {},
   "source": [
    "# Prepares an analysis for fiber study from FLEX data"
   ]
  },
  {
   "cell_type": "code",
   "execution_count": null,
   "metadata": {},
   "outputs": [],
   "source": [
    "from IPython.core.display import HTML\n",
    "css = open('style-table.css').read() + open('style-notebook.css').read()\n",
    "HTML('<style>{}</style>'.format(css))"
   ]
  },
  {
   "cell_type": "code",
   "execution_count": null,
   "metadata": {},
   "outputs": [],
   "source": [
    "# General importings\n",
    "import os\n",
    "import sys\n",
    "import glob\n",
    "import logging\n",
    "import math\n",
    "import numpy  as np\n",
    "import warnings\n",
    "from scipy.stats import norm\n",
    "import pandas as pd\n",
    "import matplotlib.pyplot as plt\n",
    "from matplotlib import colors\n",
    "\n",
    "# Specific IC stuff\n",
    "import invisible_cities.core.system_of_units  as units\n",
    "\n",
    "from invisible_cities.io.mcinfo_io import load_mcconfiguration\n",
    "from invisible_cities.io.mcinfo_io import load_mcparticles_df\n",
    "from invisible_cities.io.mcinfo_io import load_mchits_df\n",
    "from invisible_cities.io.mcinfo_io import load_mcsensor_positions\n",
    "from invisible_cities.io.mcinfo_io import load_mcsensor_response_df\n",
    "from invisible_cities.io.mcinfo_io import get_sensor_types\n",
    "from invisible_cities.io.mcinfo_io import get_sensor_binning\n",
    "from invisible_cities.io.mcinfo_io import get_event_numbers_in_file\n",
    "from invisible_cities.core.core_functions import in_range\n"
   ]
  },
  {
   "cell_type": "code",
   "execution_count": null,
   "metadata": {},
   "outputs": [],
   "source": [
    "from pynext.pynext_types import SiPM"
   ]
  },
  {
   "cell_type": "code",
   "execution_count": null,
   "metadata": {},
   "outputs": [],
   "source": [
    "from nextflex.krypton_dst import get_evt_true_positions_and_energy"
   ]
  },
  {
   "cell_type": "code",
   "execution_count": 5,
   "metadata": {},
   "outputs": [],
   "source": [
    "%matplotlib inline\n",
    "%load_ext autoreload\n",
    "%autoreload 2"
   ]
  },
  {
   "cell_type": "code",
   "execution_count": 6,
   "metadata": {},
   "outputs": [],
   "source": [
    "plt.rcParams[\"figure.figsize\"] = 8, 6\n",
    "plt.rcParams[\"font.size\"     ] = 14"
   ]
  },
  {
   "cell_type": "markdown",
   "metadata": {},
   "source": [
    "# Code"
   ]
  },
  {
   "cell_type": "markdown",
   "metadata": {},
   "source": [
    "# DATA"
   ]
  },
  {
   "cell_type": "code",
   "execution_count": 7,
   "metadata": {},
   "outputs": [],
   "source": [
    "VERBOSITY = False"
   ]
  },
  {
   "cell_type": "markdown",
   "metadata": {},
   "source": [
    "# Input data"
   ]
  },
  {
   "cell_type": "code",
   "execution_count": 8,
   "metadata": {},
   "outputs": [],
   "source": [
    "iPATH = \"/Users/jj/Development/demoData/flexkr1ns\"\n",
    "file ='NEXT_FLEX.Kr83.ACTIVE.0.next.h5'\n",
    "path =f'{iPATH}/{file}'"
   ]
  },
  {
   "cell_type": "code",
   "execution_count": 9,
   "metadata": {},
   "outputs": [
    {
     "name": "stdout",
     "output_type": "stream",
     "text": [
      "249 input file names ...\n",
      "\n"
     ]
    }
   ],
   "source": [
    "ifnames = glob.glob(f\"{iPATH}/NEXT_FLEX.Kr83.ACTIVE*.h5\")\n",
    "\n",
    "if VERBOSITY:\n",
    "    print(f\"{len(ifnames)} input file names ...\\n\")\n",
    "    for ifname in ifnames:\n",
    "        print(ifname)\n",
    "        #print(get_event_numbers_in_file(ifname))\n",
    "else:\n",
    "    print(f\"{len(ifnames)} input file names ...\\n\")"
   ]
  },
  {
   "cell_type": "code",
   "execution_count": 10,
   "metadata": {},
   "outputs": [
    {
     "name": "stdout",
     "output_type": "stream",
     "text": [
      "                                                param_value\n",
      "param_key                                                  \n",
      "/Geometry/NextFlex/e_lifetime                     10000. ms\n",
      "/Geometry/NextFlex/el_gap_length                    10.  mm\n",
      "/Geometry/NextFlex/el_field_int             16. kilovolt/cm\n",
      "/Geometry/NextFlex/tp_sipm_anode_dist              13.1  mm\n",
      "/Geometry/NextFlex/tp_teflon_thickness               2.1 mm\n",
      "/Geometry/NextFlex/tp_teflon_hole_diam               3.  mm\n",
      "/Geometry/NextFlex/tp_sipm_sizeX                    1.0  mm\n",
      "/Geometry/NextFlex/tp_sipm_pitchX                  15.55 mm\n",
      "num_events                                              200\n",
      "TP_SiPM_binning                                1.000000 mus\n",
      "F_SENSOR_L_binning                             0.001000 mus\n",
      "F_SENSOR_R_binning                             0.001000 mus\n"
     ]
    }
   ],
   "source": [
    "# Verbosing main config parameters\n",
    "mcConfig = load_mcconfiguration(ifnames[0])\n",
    "mcConfig.set_index(\"param_key\", inplace = True)\n",
    "main_params = [\"/Geometry/NextFlex/e_lifetime\", \"/Geometry/NextFlex/el_gap_length\",\n",
    "               \"/Geometry/NextFlex/el_field_int\", \"/Geometry/NextFlex/tp_sipm_anode_dist\",\n",
    "               \"/Geometry/NextFlex/tp_teflon_thickness\", \"/Geometry/NextFlex/tp_teflon_hole_diam\",\n",
    "               \"/Geometry/NextFlex/tp_sipm_sizeX\", \"/Geometry/NextFlex/tp_sipm_pitchX\",\n",
    "               \"num_events\", \"TP_SiPM_binning\", \"F_SENSOR_L_binning\", \"F_SENSOR_R_binning\"]\n",
    "print(mcConfig.loc[main_params])\n"
   ]
  },
  {
   "cell_type": "code",
   "execution_count": 11,
   "metadata": {},
   "outputs": [
    {
     "data": {
      "text/plain": [
       "param_value           15.55 mm\n",
       "Name: /Geometry/NextFlex/tp_sipm_pitchX, dtype: object"
      ]
     },
     "execution_count": 11,
     "metadata": {},
     "output_type": "execute_result"
    }
   ],
   "source": [
    "par = mcConfig.loc[\"/Geometry/NextFlex/tp_sipm_pitchX\"]\n",
    "par"
   ]
  },
  {
   "cell_type": "markdown",
   "metadata": {},
   "source": [
    "## Extract pitch from params"
   ]
  },
  {
   "cell_type": "code",
   "execution_count": 12,
   "metadata": {},
   "outputs": [
    {
     "data": {
      "text/plain": [
       "15.55"
      ]
     },
     "execution_count": 12,
     "metadata": {},
     "output_type": "execute_result"
    }
   ],
   "source": [
    "pitch = float(par.param_value.split(' ')[-2])\n",
    "pitch"
   ]
  },
  {
   "cell_type": "markdown",
   "metadata": {},
   "source": [
    "## Sensors"
   ]
  },
  {
   "cell_type": "code",
   "execution_count": 13,
   "metadata": {},
   "outputs": [
    {
     "data": {
      "text/html": [
       "<div>\n",
       "<style scoped>\n",
       "    .dataframe tbody tr th:only-of-type {\n",
       "        vertical-align: middle;\n",
       "    }\n",
       "\n",
       "    .dataframe tbody tr th {\n",
       "        vertical-align: top;\n",
       "    }\n",
       "\n",
       "    .dataframe thead th {\n",
       "        text-align: right;\n",
       "    }\n",
       "</style>\n",
       "<table border=\"1\" class=\"dataframe\">\n",
       "  <thead>\n",
       "    <tr style=\"text-align: right;\">\n",
       "      <th></th>\n",
       "      <th>bin_width</th>\n",
       "    </tr>\n",
       "    <tr>\n",
       "      <th>sns_name</th>\n",
       "      <th></th>\n",
       "    </tr>\n",
       "  </thead>\n",
       "  <tbody>\n",
       "    <tr>\n",
       "      <th>F_SENSOR_L</th>\n",
       "      <td>1.0</td>\n",
       "    </tr>\n",
       "    <tr>\n",
       "      <th>F_SENSOR_R</th>\n",
       "      <td>1.0</td>\n",
       "    </tr>\n",
       "    <tr>\n",
       "      <th>TP_SiPM</th>\n",
       "      <td>1000.0</td>\n",
       "    </tr>\n",
       "  </tbody>\n",
       "</table>\n",
       "</div>"
      ],
      "text/plain": [
       "            bin_width\n",
       "sns_name             \n",
       "F_SENSOR_L        1.0\n",
       "F_SENSOR_R        1.0\n",
       "TP_SiPM        1000.0"
      ]
     },
     "execution_count": 13,
     "metadata": {},
     "output_type": "execute_result"
    }
   ],
   "source": [
    "get_sensor_binning(ifnames[0])"
   ]
  },
  {
   "cell_type": "code",
   "execution_count": 14,
   "metadata": {},
   "outputs": [
    {
     "data": {
      "text/html": [
       "<div>\n",
       "<style scoped>\n",
       "    .dataframe tbody tr th:only-of-type {\n",
       "        vertical-align: middle;\n",
       "    }\n",
       "\n",
       "    .dataframe tbody tr th {\n",
       "        vertical-align: top;\n",
       "    }\n",
       "\n",
       "    .dataframe thead th {\n",
       "        text-align: right;\n",
       "    }\n",
       "</style>\n",
       "<table border=\"1\" class=\"dataframe\">\n",
       "  <thead>\n",
       "    <tr style=\"text-align: right;\">\n",
       "      <th></th>\n",
       "      <th>sensor_id</th>\n",
       "      <th>sensor_name</th>\n",
       "    </tr>\n",
       "  </thead>\n",
       "  <tbody>\n",
       "    <tr>\n",
       "      <th>0</th>\n",
       "      <td>100130</td>\n",
       "      <td>F_SENSOR_L</td>\n",
       "    </tr>\n",
       "    <tr>\n",
       "      <th>1</th>\n",
       "      <td>101065</td>\n",
       "      <td>F_SENSOR_L</td>\n",
       "    </tr>\n",
       "    <tr>\n",
       "      <th>2</th>\n",
       "      <td>101493</td>\n",
       "      <td>F_SENSOR_L</td>\n",
       "    </tr>\n",
       "    <tr>\n",
       "      <th>3</th>\n",
       "      <td>101517</td>\n",
       "      <td>F_SENSOR_L</td>\n",
       "    </tr>\n",
       "    <tr>\n",
       "      <th>4</th>\n",
       "      <td>101471</td>\n",
       "      <td>F_SENSOR_L</td>\n",
       "    </tr>\n",
       "  </tbody>\n",
       "</table>\n",
       "</div>"
      ],
      "text/plain": [
       "   sensor_id sensor_name\n",
       "0     100130  F_SENSOR_L\n",
       "1     101065  F_SENSOR_L\n",
       "2     101493  F_SENSOR_L\n",
       "3     101517  F_SENSOR_L\n",
       "4     101471  F_SENSOR_L"
      ]
     },
     "execution_count": 14,
     "metadata": {},
     "output_type": "execute_result"
    }
   ],
   "source": [
    "sns_types = get_sensor_types(ifnames[0])\n",
    "sns_types.head()"
   ]
  },
  {
   "cell_type": "code",
   "execution_count": 15,
   "metadata": {},
   "outputs": [
    {
     "data": {
      "text/html": [
       "<div>\n",
       "<style scoped>\n",
       "    .dataframe tbody tr th:only-of-type {\n",
       "        vertical-align: middle;\n",
       "    }\n",
       "\n",
       "    .dataframe tbody tr th {\n",
       "        vertical-align: top;\n",
       "    }\n",
       "\n",
       "    .dataframe thead th {\n",
       "        text-align: right;\n",
       "    }\n",
       "</style>\n",
       "<table border=\"1\" class=\"dataframe\">\n",
       "  <thead>\n",
       "    <tr style=\"text-align: right;\">\n",
       "      <th></th>\n",
       "      <th>sensor_id</th>\n",
       "      <th>sensor_name</th>\n",
       "      <th>x</th>\n",
       "      <th>y</th>\n",
       "      <th>z</th>\n",
       "    </tr>\n",
       "  </thead>\n",
       "  <tbody>\n",
       "    <tr>\n",
       "      <th>0</th>\n",
       "      <td>100130</td>\n",
       "      <td>F_SENSOR_L</td>\n",
       "      <td>248.667206</td>\n",
       "      <td>425.691925</td>\n",
       "      <td>-30.299999</td>\n",
       "    </tr>\n",
       "    <tr>\n",
       "      <th>1</th>\n",
       "      <td>101065</td>\n",
       "      <td>F_SENSOR_L</td>\n",
       "      <td>-457.600677</td>\n",
       "      <td>-183.441086</td>\n",
       "      <td>-30.299999</td>\n",
       "    </tr>\n",
       "    <tr>\n",
       "      <th>2</th>\n",
       "      <td>101493</td>\n",
       "      <td>F_SENSOR_L</td>\n",
       "      <td>-103.480804</td>\n",
       "      <td>482.017334</td>\n",
       "      <td>-30.299999</td>\n",
       "    </tr>\n",
       "    <tr>\n",
       "      <th>3</th>\n",
       "      <td>101517</td>\n",
       "      <td>F_SENSOR_L</td>\n",
       "      <td>-56.016682</td>\n",
       "      <td>489.807251</td>\n",
       "      <td>-30.299999</td>\n",
       "    </tr>\n",
       "    <tr>\n",
       "      <th>4</th>\n",
       "      <td>101471</td>\n",
       "      <td>F_SENSOR_L</td>\n",
       "      <td>-146.135162</td>\n",
       "      <td>470.843414</td>\n",
       "      <td>-30.299999</td>\n",
       "    </tr>\n",
       "  </tbody>\n",
       "</table>\n",
       "</div>"
      ],
      "text/plain": [
       "   sensor_id sensor_name           x           y          z\n",
       "0     100130  F_SENSOR_L  248.667206  425.691925 -30.299999\n",
       "1     101065  F_SENSOR_L -457.600677 -183.441086 -30.299999\n",
       "2     101493  F_SENSOR_L -103.480804  482.017334 -30.299999\n",
       "3     101517  F_SENSOR_L  -56.016682  489.807251 -30.299999\n",
       "4     101471  F_SENSOR_L -146.135162  470.843414 -30.299999"
      ]
     },
     "execution_count": 15,
     "metadata": {},
     "output_type": "execute_result"
    }
   ],
   "source": [
    "sns_positions = load_mcsensor_positions(ifnames[0])\n",
    "sns_positions.head()"
   ]
  },
  {
   "cell_type": "markdown",
   "metadata": {},
   "source": [
    "## SENSORS RESPONSE"
   ]
  },
  {
   "cell_type": "code",
   "execution_count": 16,
   "metadata": {},
   "outputs": [
    {
     "data": {
      "text/html": [
       "<div>\n",
       "<style scoped>\n",
       "    .dataframe tbody tr th:only-of-type {\n",
       "        vertical-align: middle;\n",
       "    }\n",
       "\n",
       "    .dataframe tbody tr th {\n",
       "        vertical-align: top;\n",
       "    }\n",
       "\n",
       "    .dataframe thead th {\n",
       "        text-align: right;\n",
       "    }\n",
       "</style>\n",
       "<table border=\"1\" class=\"dataframe\">\n",
       "  <thead>\n",
       "    <tr style=\"text-align: right;\">\n",
       "      <th></th>\n",
       "      <th></th>\n",
       "      <th>charge</th>\n",
       "      <th>time</th>\n",
       "    </tr>\n",
       "    <tr>\n",
       "      <th>event_id</th>\n",
       "      <th>sensor_id</th>\n",
       "      <th></th>\n",
       "      <th></th>\n",
       "    </tr>\n",
       "  </thead>\n",
       "  <tbody>\n",
       "    <tr>\n",
       "      <th rowspan=\"5\" valign=\"top\">0</th>\n",
       "      <th>100015</th>\n",
       "      <td>1</td>\n",
       "      <td>99285.0</td>\n",
       "    </tr>\n",
       "    <tr>\n",
       "      <th>100015</th>\n",
       "      <td>1</td>\n",
       "      <td>99418.0</td>\n",
       "    </tr>\n",
       "    <tr>\n",
       "      <th>100015</th>\n",
       "      <td>1</td>\n",
       "      <td>99441.0</td>\n",
       "    </tr>\n",
       "    <tr>\n",
       "      <th>100015</th>\n",
       "      <td>1</td>\n",
       "      <td>100022.0</td>\n",
       "    </tr>\n",
       "    <tr>\n",
       "      <th>100015</th>\n",
       "      <td>1</td>\n",
       "      <td>100545.0</td>\n",
       "    </tr>\n",
       "    <tr>\n",
       "      <th>...</th>\n",
       "      <th>...</th>\n",
       "      <td>...</td>\n",
       "      <td>...</td>\n",
       "    </tr>\n",
       "    <tr>\n",
       "      <th>180</th>\n",
       "      <th>1387</th>\n",
       "      <td>1</td>\n",
       "      <td>819000.0</td>\n",
       "    </tr>\n",
       "    <tr>\n",
       "      <th rowspan=\"3\" valign=\"top\">181</th>\n",
       "      <th>1387</th>\n",
       "      <td>1</td>\n",
       "      <td>89000.0</td>\n",
       "    </tr>\n",
       "    <tr>\n",
       "      <th>1387</th>\n",
       "      <td>1</td>\n",
       "      <td>90000.0</td>\n",
       "    </tr>\n",
       "    <tr>\n",
       "      <th>1387</th>\n",
       "      <td>1</td>\n",
       "      <td>93000.0</td>\n",
       "    </tr>\n",
       "    <tr>\n",
       "      <th>183</th>\n",
       "      <th>1387</th>\n",
       "      <td>1</td>\n",
       "      <td>990000.0</td>\n",
       "    </tr>\n",
       "  </tbody>\n",
       "</table>\n",
       "<p>11149046 rows × 2 columns</p>\n",
       "</div>"
      ],
      "text/plain": [
       "                    charge      time\n",
       "event_id sensor_id                  \n",
       "0        100015          1   99285.0\n",
       "         100015          1   99418.0\n",
       "         100015          1   99441.0\n",
       "         100015          1  100022.0\n",
       "         100015          1  100545.0\n",
       "...                    ...       ...\n",
       "180      1387            1  819000.0\n",
       "181      1387            1   89000.0\n",
       "         1387            1   90000.0\n",
       "         1387            1   93000.0\n",
       "183      1387            1  990000.0\n",
       "\n",
       "[11149046 rows x 2 columns]"
      ]
     },
     "execution_count": 16,
     "metadata": {},
     "output_type": "execute_result"
    }
   ],
   "source": [
    "sns_response = load_mcsensor_response_df(path)\n",
    "sns_response"
   ]
  },
  {
   "cell_type": "code",
   "execution_count": 17,
   "metadata": {},
   "outputs": [],
   "source": [
    "sipm_index = 100000\n",
    "fibers_response = sns_response[sns_response.index.get_level_values(\"sensor_id\") >= sipm_index]"
   ]
  },
  {
   "cell_type": "code",
   "execution_count": 18,
   "metadata": {},
   "outputs": [
    {
     "data": {
      "text/html": [
       "<div>\n",
       "<style scoped>\n",
       "    .dataframe tbody tr th:only-of-type {\n",
       "        vertical-align: middle;\n",
       "    }\n",
       "\n",
       "    .dataframe tbody tr th {\n",
       "        vertical-align: top;\n",
       "    }\n",
       "\n",
       "    .dataframe thead th {\n",
       "        text-align: right;\n",
       "    }\n",
       "</style>\n",
       "<table border=\"1\" class=\"dataframe\">\n",
       "  <thead>\n",
       "    <tr style=\"text-align: right;\">\n",
       "      <th></th>\n",
       "      <th></th>\n",
       "      <th>charge</th>\n",
       "      <th>time</th>\n",
       "    </tr>\n",
       "    <tr>\n",
       "      <th>event_id</th>\n",
       "      <th>sensor_id</th>\n",
       "      <th></th>\n",
       "      <th></th>\n",
       "    </tr>\n",
       "  </thead>\n",
       "  <tbody>\n",
       "    <tr>\n",
       "      <th rowspan=\"5\" valign=\"top\">0</th>\n",
       "      <th>100015</th>\n",
       "      <td>1</td>\n",
       "      <td>99285.0</td>\n",
       "    </tr>\n",
       "    <tr>\n",
       "      <th>100015</th>\n",
       "      <td>1</td>\n",
       "      <td>99418.0</td>\n",
       "    </tr>\n",
       "    <tr>\n",
       "      <th>100015</th>\n",
       "      <td>1</td>\n",
       "      <td>99441.0</td>\n",
       "    </tr>\n",
       "    <tr>\n",
       "      <th>100015</th>\n",
       "      <td>1</td>\n",
       "      <td>100022.0</td>\n",
       "    </tr>\n",
       "    <tr>\n",
       "      <th>100015</th>\n",
       "      <td>1</td>\n",
       "      <td>100545.0</td>\n",
       "    </tr>\n",
       "    <tr>\n",
       "      <th>...</th>\n",
       "      <th>...</th>\n",
       "      <td>...</td>\n",
       "      <td>...</td>\n",
       "    </tr>\n",
       "    <tr>\n",
       "      <th rowspan=\"5\" valign=\"top\">199</th>\n",
       "      <th>201513</th>\n",
       "      <td>1</td>\n",
       "      <td>541884.0</td>\n",
       "    </tr>\n",
       "    <tr>\n",
       "      <th>201513</th>\n",
       "      <td>1</td>\n",
       "      <td>542221.0</td>\n",
       "    </tr>\n",
       "    <tr>\n",
       "      <th>201513</th>\n",
       "      <td>1</td>\n",
       "      <td>542693.0</td>\n",
       "    </tr>\n",
       "    <tr>\n",
       "      <th>201513</th>\n",
       "      <td>1</td>\n",
       "      <td>543320.0</td>\n",
       "    </tr>\n",
       "    <tr>\n",
       "      <th>201513</th>\n",
       "      <td>1</td>\n",
       "      <td>545392.0</td>\n",
       "    </tr>\n",
       "  </tbody>\n",
       "</table>\n",
       "<p>10964876 rows × 2 columns</p>\n",
       "</div>"
      ],
      "text/plain": [
       "                    charge      time\n",
       "event_id sensor_id                  \n",
       "0        100015          1   99285.0\n",
       "         100015          1   99418.0\n",
       "         100015          1   99441.0\n",
       "         100015          1  100022.0\n",
       "         100015          1  100545.0\n",
       "...                    ...       ...\n",
       "199      201513          1  541884.0\n",
       "         201513          1  542221.0\n",
       "         201513          1  542693.0\n",
       "         201513          1  543320.0\n",
       "         201513          1  545392.0\n",
       "\n",
       "[10964876 rows x 2 columns]"
      ]
     },
     "execution_count": 18,
     "metadata": {},
     "output_type": "execute_result"
    }
   ],
   "source": [
    "fibers_response"
   ]
  },
  {
   "cell_type": "code",
   "execution_count": 19,
   "metadata": {},
   "outputs": [],
   "source": [
    "ifb = fibers_response.index"
   ]
  },
  {
   "cell_type": "code",
   "execution_count": 20,
   "metadata": {},
   "outputs": [
    {
     "data": {
      "text/plain": [
       "array([100000, 100001, 100002, ..., 201542, 201543, 201544], dtype=uint64)"
      ]
     },
     "execution_count": 20,
     "metadata": {},
     "output_type": "execute_result"
    }
   ],
   "source": [
    "np.unique(fibers_response.index.get_level_values(1).values)"
   ]
  },
  {
   "cell_type": "code",
   "execution_count": 58,
   "metadata": {},
   "outputs": [
    {
     "data": {
      "text/plain": [
       "array([100000, 100001, 100002, ..., 201542, 201543, 201544], dtype=uint64)"
      ]
     },
     "execution_count": 58,
     "metadata": {},
     "output_type": "execute_result"
    }
   ],
   "source": [
    "evt = fibers_response.loc[1]\n",
    "fi  = np.unique(evt.index.values)\n",
    "fi"
   ]
  },
  {
   "cell_type": "code",
   "execution_count": 59,
   "metadata": {},
   "outputs": [
    {
     "data": {
      "text/plain": [
       "3090"
      ]
     },
     "execution_count": 59,
     "metadata": {},
     "output_type": "execute_result"
    }
   ],
   "source": [
    "len(fi)"
   ]
  },
  {
   "cell_type": "code",
   "execution_count": 60,
   "metadata": {},
   "outputs": [
    {
     "data": {
      "text/html": [
       "<div>\n",
       "<style scoped>\n",
       "    .dataframe tbody tr th:only-of-type {\n",
       "        vertical-align: middle;\n",
       "    }\n",
       "\n",
       "    .dataframe tbody tr th {\n",
       "        vertical-align: top;\n",
       "    }\n",
       "\n",
       "    .dataframe thead th {\n",
       "        text-align: right;\n",
       "    }\n",
       "</style>\n",
       "<table border=\"1\" class=\"dataframe\">\n",
       "  <thead>\n",
       "    <tr style=\"text-align: right;\">\n",
       "      <th></th>\n",
       "      <th>charge</th>\n",
       "      <th>time</th>\n",
       "    </tr>\n",
       "    <tr>\n",
       "      <th>sensor_id</th>\n",
       "      <th></th>\n",
       "      <th></th>\n",
       "    </tr>\n",
       "  </thead>\n",
       "  <tbody>\n",
       "    <tr>\n",
       "      <th>100015</th>\n",
       "      <td>1</td>\n",
       "      <td>1061322.0</td>\n",
       "    </tr>\n",
       "    <tr>\n",
       "      <th>100015</th>\n",
       "      <td>1</td>\n",
       "      <td>1062742.0</td>\n",
       "    </tr>\n",
       "    <tr>\n",
       "      <th>100015</th>\n",
       "      <td>1</td>\n",
       "      <td>1062837.0</td>\n",
       "    </tr>\n",
       "    <tr>\n",
       "      <th>100015</th>\n",
       "      <td>1</td>\n",
       "      <td>1063175.0</td>\n",
       "    </tr>\n",
       "    <tr>\n",
       "      <th>100015</th>\n",
       "      <td>1</td>\n",
       "      <td>1063300.0</td>\n",
       "    </tr>\n",
       "    <tr>\n",
       "      <th>...</th>\n",
       "      <td>...</td>\n",
       "      <td>...</td>\n",
       "    </tr>\n",
       "    <tr>\n",
       "      <th>201513</th>\n",
       "      <td>1</td>\n",
       "      <td>1066751.0</td>\n",
       "    </tr>\n",
       "    <tr>\n",
       "      <th>201513</th>\n",
       "      <td>1</td>\n",
       "      <td>1068106.0</td>\n",
       "    </tr>\n",
       "    <tr>\n",
       "      <th>201513</th>\n",
       "      <td>1</td>\n",
       "      <td>1068378.0</td>\n",
       "    </tr>\n",
       "    <tr>\n",
       "      <th>201513</th>\n",
       "      <td>1</td>\n",
       "      <td>1069507.0</td>\n",
       "    </tr>\n",
       "    <tr>\n",
       "      <th>201513</th>\n",
       "      <td>1</td>\n",
       "      <td>1069699.0</td>\n",
       "    </tr>\n",
       "  </tbody>\n",
       "</table>\n",
       "<p>55766 rows × 2 columns</p>\n",
       "</div>"
      ],
      "text/plain": [
       "           charge       time\n",
       "sensor_id                   \n",
       "100015          1  1061322.0\n",
       "100015          1  1062742.0\n",
       "100015          1  1062837.0\n",
       "100015          1  1063175.0\n",
       "100015          1  1063300.0\n",
       "...           ...        ...\n",
       "201513          1  1066751.0\n",
       "201513          1  1068106.0\n",
       "201513          1  1068378.0\n",
       "201513          1  1069507.0\n",
       "201513          1  1069699.0\n",
       "\n",
       "[55766 rows x 2 columns]"
      ]
     },
     "execution_count": 60,
     "metadata": {},
     "output_type": "execute_result"
    }
   ],
   "source": [
    "evt"
   ]
  },
  {
   "cell_type": "code",
   "execution_count": 41,
   "metadata": {},
   "outputs": [
    {
     "data": {
      "text/plain": [
       "UInt64Index([100015, 100015, 100015, 100015, 100015, 100015, 100015, 100015,\n",
       "             100015, 100015,\n",
       "             ...\n",
       "             200478, 200478, 201513, 201513, 201513, 201513, 201513, 201513,\n",
       "             201513, 201513],\n",
       "            dtype='uint64', name='sensor_id', length=55837)"
      ]
     },
     "execution_count": 41,
     "metadata": {},
     "output_type": "execute_result"
    }
   ],
   "source": [
    "evt.index"
   ]
  },
  {
   "cell_type": "code",
   "execution_count": 42,
   "metadata": {},
   "outputs": [],
   "source": [
    "grouped = evt.groupby(level=0)"
   ]
  },
  {
   "cell_type": "code",
   "execution_count": 64,
   "metadata": {},
   "outputs": [],
   "source": [
    "fn = []\n",
    "tmin = []\n",
    "for fid, group in grouped:\n",
    "    fn.append(fid)\n",
    "    tmin.append(group['time'].min())"
   ]
  },
  {
   "cell_type": "code",
   "execution_count": 68,
   "metadata": {},
   "outputs": [
    {
     "ename": "TypeError",
     "evalue": "'>' not supported between instances of 'list' and 'int'",
     "output_type": "error",
     "traceback": [
      "\u001b[0;31m---------------------------------------------------------------------------\u001b[0m",
      "\u001b[0;31mTypeError\u001b[0m                                 Traceback (most recent call last)",
      "\u001b[0;32m<ipython-input-68-139632a57556>\u001b[0m in \u001b[0;36m<module>\u001b[0;34m\u001b[0m\n\u001b[0;32m----> 1\u001b[0;31m \u001b[0mplt\u001b[0m\u001b[0;34m.\u001b[0m\u001b[0mhist\u001b[0m\u001b[0;34m(\u001b[0m\u001b[0mtmin\u001b[0m\u001b[0;34m[\u001b[0m\u001b[0mtmin\u001b[0m\u001b[0;34m>\u001b[0m\u001b[0;36m80000\u001b[0m\u001b[0;34m]\u001b[0m\u001b[0;34m)\u001b[0m\u001b[0;34m\u001b[0m\u001b[0;34m\u001b[0m\u001b[0m\n\u001b[0m",
      "\u001b[0;31mTypeError\u001b[0m: '>' not supported between instances of 'list' and 'int'"
     ]
    }
   ],
   "source": [
    "plt.hist(tmin[tmin>80000])"
   ]
  },
  {
   "cell_type": "code",
   "execution_count": null,
   "metadata": {},
   "outputs": [],
   "source": []
  },
  {
   "cell_type": "code",
   "execution_count": null,
   "metadata": {},
   "outputs": [],
   "source": []
  },
  {
   "cell_type": "code",
   "execution_count": null,
   "metadata": {},
   "outputs": [],
   "source": [
    "from ig in grouped.first()"
   ]
  },
  {
   "cell_type": "code",
   "execution_count": null,
   "metadata": {},
   "outputs": [],
   "source": []
  },
  {
   "cell_type": "code",
   "execution_count": 28,
   "metadata": {},
   "outputs": [
    {
     "data": {
      "text/plain": [
       "100000"
      ]
     },
     "execution_count": 28,
     "metadata": {},
     "output_type": "execute_result"
    }
   ],
   "source": [
    "fi[0]"
   ]
  },
  {
   "cell_type": "code",
   "execution_count": 35,
   "metadata": {},
   "outputs": [
    {
     "data": {
      "text/plain": [
       "99285.0"
      ]
     },
     "execution_count": 35,
     "metadata": {},
     "output_type": "execute_result"
    }
   ],
   "source": [
    "(evt.loc[100015].time).iloc[0] "
   ]
  },
  {
   "cell_type": "code",
   "execution_count": 40,
   "metadata": {},
   "outputs": [
    {
     "data": {
      "text/plain": [
       "sensor_id\n",
       "100001       0.0\n",
       "100001       8.0\n",
       "100001     462.0\n",
       "100001     794.0\n",
       "100001     945.0\n",
       "100001    1329.0\n",
       "100001    1583.0\n",
       "100001    1732.0\n",
       "100001    1803.0\n",
       "100001    1902.0\n",
       "100001    1966.0\n",
       "100001    2403.0\n",
       "100001    2655.0\n",
       "100001    2722.0\n",
       "100001    2914.0\n",
       "100001    3454.0\n",
       "100001    4789.0\n",
       "Name: time, dtype: float64"
      ]
     },
     "execution_count": 40,
     "metadata": {},
     "output_type": "execute_result"
    }
   ],
   "source": [
    "evt.loc[100001].time - (evt.loc[100001].time).iloc[0] "
   ]
  },
  {
   "cell_type": "code",
   "execution_count": 70,
   "metadata": {},
   "outputs": [],
   "source": [
    "def fibers_time_integral(fibers_response):\n",
    "        grouped_multiple = fibers_response.groupby(['event_id', 'sensor_id']).agg({'charge': ['sum']})\n",
    "        grouped_multiple.columns = ['tot_charge']\n",
    "        return grouped_multiple.reset_index()\n"
   ]
  },
  {
   "cell_type": "code",
   "execution_count": 71,
   "metadata": {},
   "outputs": [],
   "source": [
    "fti = fibers_time_integral(fibers_response)"
   ]
  },
  {
   "cell_type": "code",
   "execution_count": 72,
   "metadata": {},
   "outputs": [
    {
     "data": {
      "text/html": [
       "<div>\n",
       "<style scoped>\n",
       "    .dataframe tbody tr th:only-of-type {\n",
       "        vertical-align: middle;\n",
       "    }\n",
       "\n",
       "    .dataframe tbody tr th {\n",
       "        vertical-align: top;\n",
       "    }\n",
       "\n",
       "    .dataframe thead th {\n",
       "        text-align: right;\n",
       "    }\n",
       "</style>\n",
       "<table border=\"1\" class=\"dataframe\">\n",
       "  <thead>\n",
       "    <tr style=\"text-align: right;\">\n",
       "      <th></th>\n",
       "      <th>event_id</th>\n",
       "      <th>sensor_id</th>\n",
       "      <th>tot_charge</th>\n",
       "    </tr>\n",
       "  </thead>\n",
       "  <tbody>\n",
       "    <tr>\n",
       "      <th>0</th>\n",
       "      <td>0</td>\n",
       "      <td>100000</td>\n",
       "      <td>18</td>\n",
       "    </tr>\n",
       "    <tr>\n",
       "      <th>1</th>\n",
       "      <td>0</td>\n",
       "      <td>100001</td>\n",
       "      <td>17</td>\n",
       "    </tr>\n",
       "    <tr>\n",
       "      <th>2</th>\n",
       "      <td>0</td>\n",
       "      <td>100002</td>\n",
       "      <td>24</td>\n",
       "    </tr>\n",
       "    <tr>\n",
       "      <th>3</th>\n",
       "      <td>0</td>\n",
       "      <td>100003</td>\n",
       "      <td>19</td>\n",
       "    </tr>\n",
       "    <tr>\n",
       "      <th>4</th>\n",
       "      <td>0</td>\n",
       "      <td>100004</td>\n",
       "      <td>18</td>\n",
       "    </tr>\n",
       "    <tr>\n",
       "      <th>...</th>\n",
       "      <td>...</td>\n",
       "      <td>...</td>\n",
       "      <td>...</td>\n",
       "    </tr>\n",
       "    <tr>\n",
       "      <th>617989</th>\n",
       "      <td>199</td>\n",
       "      <td>201540</td>\n",
       "      <td>11</td>\n",
       "    </tr>\n",
       "    <tr>\n",
       "      <th>617990</th>\n",
       "      <td>199</td>\n",
       "      <td>201541</td>\n",
       "      <td>13</td>\n",
       "    </tr>\n",
       "    <tr>\n",
       "      <th>617991</th>\n",
       "      <td>199</td>\n",
       "      <td>201542</td>\n",
       "      <td>16</td>\n",
       "    </tr>\n",
       "    <tr>\n",
       "      <th>617992</th>\n",
       "      <td>199</td>\n",
       "      <td>201543</td>\n",
       "      <td>7</td>\n",
       "    </tr>\n",
       "    <tr>\n",
       "      <th>617993</th>\n",
       "      <td>199</td>\n",
       "      <td>201544</td>\n",
       "      <td>15</td>\n",
       "    </tr>\n",
       "  </tbody>\n",
       "</table>\n",
       "<p>617994 rows × 3 columns</p>\n",
       "</div>"
      ],
      "text/plain": [
       "        event_id  sensor_id  tot_charge\n",
       "0              0     100000          18\n",
       "1              0     100001          17\n",
       "2              0     100002          24\n",
       "3              0     100003          19\n",
       "4              0     100004          18\n",
       "...          ...        ...         ...\n",
       "617989       199     201540          11\n",
       "617990       199     201541          13\n",
       "617991       199     201542          16\n",
       "617992       199     201543           7\n",
       "617993       199     201544          15\n",
       "\n",
       "[617994 rows x 3 columns]"
      ]
     },
     "execution_count": 72,
     "metadata": {},
     "output_type": "execute_result"
    }
   ],
   "source": [
    "fti"
   ]
  },
  {
   "cell_type": "code",
   "execution_count": 78,
   "metadata": {},
   "outputs": [],
   "source": [
    "def fibers_time_min(fibers_response):\n",
    "        grouped_multiple = fibers_response.groupby(['event_id', 'sensor_id']).agg({'time': ['min', 'max']})\n",
    "        grouped_multiple.columns = ['min_time', 'max_time']\n",
    "        return grouped_multiple.reset_index()\n"
   ]
  },
  {
   "cell_type": "code",
   "execution_count": 79,
   "metadata": {},
   "outputs": [],
   "source": [
    "ftm = fibers_time_min(fibers_response)"
   ]
  },
  {
   "cell_type": "code",
   "execution_count": 80,
   "metadata": {},
   "outputs": [
    {
     "data": {
      "text/plain": [
       "<matplotlib.axes._subplots.AxesSubplot at 0x7fbdb8397610>"
      ]
     },
     "execution_count": 80,
     "metadata": {},
     "output_type": "execute_result"
    },
    {
     "data": {
      "image/png": "[encoded data removed]",
      "text/plain": [
       "<Figure size 576x432 with 1 Axes>"
      ]
     },
     "metadata": {
      "needs_background": "light"
     },
     "output_type": "display_data"
    }
   ],
   "source": [
    "ftm['min_time'].hist()"
   ]
  },
  {
   "cell_type": "code",
   "execution_count": 81,
   "metadata": {},
   "outputs": [
    {
     "data": {
      "text/plain": [
       "<matplotlib.axes._subplots.AxesSubplot at 0x7fbdf94304d0>"
      ]
     },
     "execution_count": 81,
     "metadata": {},
     "output_type": "execute_result"
    },
    {
     "data": {
      "image/png": "[encoded data removed]",
      "text/plain": [
       "<Figure size 576x432 with 1 Axes>"
      ]
     },
     "metadata": {
      "needs_background": "light"
     },
     "output_type": "display_data"
    }
   ],
   "source": [
    "ftm['max_time'].hist()"
   ]
  },
  {
   "cell_type": "code",
   "execution_count": 82,
   "metadata": {},
   "outputs": [
    {
     "data": {
      "text/html": [
       "<div>\n",
       "<style scoped>\n",
       "    .dataframe tbody tr th:only-of-type {\n",
       "        vertical-align: middle;\n",
       "    }\n",
       "\n",
       "    .dataframe tbody tr th {\n",
       "        vertical-align: top;\n",
       "    }\n",
       "\n",
       "    .dataframe thead th {\n",
       "        text-align: right;\n",
       "    }\n",
       "</style>\n",
       "<table border=\"1\" class=\"dataframe\">\n",
       "  <thead>\n",
       "    <tr style=\"text-align: right;\">\n",
       "      <th></th>\n",
       "      <th>event_id</th>\n",
       "      <th>sensor_id</th>\n",
       "      <th>min_time</th>\n",
       "      <th>max_time</th>\n",
       "    </tr>\n",
       "  </thead>\n",
       "  <tbody>\n",
       "    <tr>\n",
       "      <th>0</th>\n",
       "      <td>0</td>\n",
       "      <td>100000</td>\n",
       "      <td>98633.0</td>\n",
       "      <td>103301.0</td>\n",
       "    </tr>\n",
       "    <tr>\n",
       "      <th>1</th>\n",
       "      <td>0</td>\n",
       "      <td>100001</td>\n",
       "      <td>98624.0</td>\n",
       "      <td>103413.0</td>\n",
       "    </tr>\n",
       "    <tr>\n",
       "      <th>2</th>\n",
       "      <td>0</td>\n",
       "      <td>100002</td>\n",
       "      <td>98512.0</td>\n",
       "      <td>103847.0</td>\n",
       "    </tr>\n",
       "    <tr>\n",
       "      <th>3</th>\n",
       "      <td>0</td>\n",
       "      <td>100003</td>\n",
       "      <td>99142.0</td>\n",
       "      <td>103536.0</td>\n",
       "    </tr>\n",
       "    <tr>\n",
       "      <th>4</th>\n",
       "      <td>0</td>\n",
       "      <td>100004</td>\n",
       "      <td>97738.0</td>\n",
       "      <td>102636.0</td>\n",
       "    </tr>\n",
       "    <tr>\n",
       "      <th>...</th>\n",
       "      <td>...</td>\n",
       "      <td>...</td>\n",
       "      <td>...</td>\n",
       "      <td>...</td>\n",
       "    </tr>\n",
       "    <tr>\n",
       "      <th>617989</th>\n",
       "      <td>199</td>\n",
       "      <td>201540</td>\n",
       "      <td>539632.0</td>\n",
       "      <td>542615.0</td>\n",
       "    </tr>\n",
       "    <tr>\n",
       "      <th>617990</th>\n",
       "      <td>199</td>\n",
       "      <td>201541</td>\n",
       "      <td>537309.0</td>\n",
       "      <td>541981.0</td>\n",
       "    </tr>\n",
       "    <tr>\n",
       "      <th>617991</th>\n",
       "      <td>199</td>\n",
       "      <td>201542</td>\n",
       "      <td>536662.0</td>\n",
       "      <td>542937.0</td>\n",
       "    </tr>\n",
       "    <tr>\n",
       "      <th>617992</th>\n",
       "      <td>199</td>\n",
       "      <td>201543</td>\n",
       "      <td>537538.0</td>\n",
       "      <td>542299.0</td>\n",
       "    </tr>\n",
       "    <tr>\n",
       "      <th>617993</th>\n",
       "      <td>199</td>\n",
       "      <td>201544</td>\n",
       "      <td>538074.0</td>\n",
       "      <td>544963.0</td>\n",
       "    </tr>\n",
       "  </tbody>\n",
       "</table>\n",
       "<p>617994 rows × 4 columns</p>\n",
       "</div>"
      ],
      "text/plain": [
       "        event_id  sensor_id  min_time  max_time\n",
       "0              0     100000   98633.0  103301.0\n",
       "1              0     100001   98624.0  103413.0\n",
       "2              0     100002   98512.0  103847.0\n",
       "3              0     100003   99142.0  103536.0\n",
       "4              0     100004   97738.0  102636.0\n",
       "...          ...        ...       ...       ...\n",
       "617989       199     201540  539632.0  542615.0\n",
       "617990       199     201541  537309.0  541981.0\n",
       "617991       199     201542  536662.0  542937.0\n",
       "617992       199     201543  537538.0  542299.0\n",
       "617993       199     201544  538074.0  544963.0\n",
       "\n",
       "[617994 rows x 4 columns]"
      ]
     },
     "execution_count": 82,
     "metadata": {},
     "output_type": "execute_result"
    }
   ],
   "source": [
    "ftm"
   ]
  },
  {
   "cell_type": "code",
   "execution_count": null,
   "metadata": {},
   "outputs": [],
   "source": []
  },
  {
   "cell_type": "code",
   "execution_count": null,
   "metadata": {},
   "outputs": [],
   "source": []
  },
  {
   "cell_type": "code",
   "execution_count": 24,
   "metadata": {},
   "outputs": [],
   "source": [
    "def fiber_analysis(fiberdf, verbose=False, ic=100):\n",
    "    \n",
    "    def get_event_numbers():\n",
    "        return np.unique(fiberdf.index.get_level_values(0).values)\n",
    "    def get_fiber_numbers():\n",
    "        return np.unique(evt.index.values)\n",
    "\n",
    "    ii = 0\n",
    "    for i in get_event_numbers():\n",
    "        evt = fiberdf.loc[i]\n",
    "        if len(evt) == 0:\n",
    "            print(f' event = {ii} number = {i} is corrupted, skipping')\n",
    "            continue\n",
    "\n",
    "        if ii%ic == 0 and verbose:\n",
    "            print(f' event number = {i}, index = {evt.index}')\n",
    "            \n",
    "        iii = 0\n",
    "        for j in get_fiber_numbers():\n",
    "            fiber = evt.loc[j]\n",
    "            if ii%ic == 0 and iii < 10 and verbose:\n",
    "                print(f' fiber = {j} charge = {fiber.charge}, time = {fiber.time}')\n",
    "            iii+=1\n",
    "        ii+=1\n",
    "            \n"
   ]
  },
  {
   "cell_type": "code",
   "execution_count": 25,
   "metadata": {},
   "outputs": [
    {
     "name": "stdout",
     "output_type": "stream",
     "text": [
      " event number = 0, index = UInt64Index([100015, 100015, 100015, 100015, 100015, 100015, 100015, 100015,\n",
      "             100015, 100015,\n",
      "             ...\n",
      "             200478, 200478, 201513, 201513, 201513, 201513, 201513, 201513,\n",
      "             201513, 201513],\n",
      "            dtype='uint64', name='sensor_id', length=55837)\n",
      " fiber = 100000 charge = sensor_id\n",
      "100000    1\n",
      "100000    1\n",
      "100000    1\n",
      "100000    1\n",
      "100000    1\n",
      "100000    1\n",
      "100000    1\n",
      "100000    1\n",
      "100000    1\n",
      "100000    1\n",
      "100000    1\n",
      "100000    1\n",
      "100000    1\n",
      "100000    1\n",
      "100000    1\n",
      "100000    1\n",
      "100000    1\n",
      "100000    1\n",
      "Name: charge, dtype: uint32, time = sensor_id\n",
      "100000     98633.0\n",
      "100000     99873.0\n",
      "100000     99969.0\n",
      "100000    100055.0\n",
      "100000    100458.0\n",
      "100000    100948.0\n",
      "100000    101039.0\n",
      "100000    101475.0\n",
      "100000    101488.0\n",
      "100000    101516.0\n",
      "100000    101778.0\n",
      "100000    102133.0\n",
      "100000    102151.0\n",
      "100000    102509.0\n",
      "100000    102603.0\n",
      "100000    102776.0\n",
      "100000    103249.0\n",
      "100000    103301.0\n",
      "Name: time, dtype: float64\n",
      " fiber = 100001 charge = sensor_id\n",
      "100001    1\n",
      "100001    1\n",
      "100001    1\n",
      "100001    1\n",
      "100001    1\n",
      "100001    1\n",
      "100001    1\n",
      "100001    1\n",
      "100001    1\n",
      "100001    1\n",
      "100001    1\n",
      "100001    1\n",
      "100001    1\n",
      "100001    1\n",
      "100001    1\n",
      "100001    1\n",
      "100001    1\n",
      "Name: charge, dtype: uint32, time = sensor_id\n",
      "100001     98624.0\n",
      "100001     98632.0\n",
      "100001     99086.0\n",
      "100001     99418.0\n",
      "100001     99569.0\n",
      "100001     99953.0\n",
      "100001    100207.0\n",
      "100001    100356.0\n",
      "100001    100427.0\n",
      "100001    100526.0\n",
      "100001    100590.0\n",
      "100001    101027.0\n",
      "100001    101279.0\n",
      "100001    101346.0\n",
      "100001    101538.0\n",
      "100001    102078.0\n",
      "100001    103413.0\n",
      "Name: time, dtype: float64\n",
      " fiber = 100002 charge = sensor_id\n",
      "100002    1\n",
      "100002    1\n",
      "100002    1\n",
      "100002    1\n",
      "100002    1\n",
      "100002    1\n",
      "100002    1\n",
      "100002    1\n",
      "100002    1\n",
      "100002    1\n",
      "100002    1\n",
      "100002    1\n",
      "100002    1\n",
      "100002    1\n",
      "100002    1\n",
      "100002    1\n",
      "100002    1\n",
      "100002    1\n",
      "100002    1\n",
      "100002    1\n",
      "100002    1\n",
      "100002    1\n",
      "100002    1\n",
      "100002    1\n",
      "Name: charge, dtype: uint32, time = sensor_id\n",
      "100002     98512.0\n",
      "100002     99445.0\n",
      "100002     99626.0\n",
      "100002     99702.0\n",
      "100002     99734.0\n",
      "100002    100052.0\n",
      "100002    100358.0\n",
      "100002    100473.0\n",
      "100002    100919.0\n",
      "100002    101094.0\n",
      "100002    101118.0\n",
      "100002    101422.0\n",
      "100002    101581.0\n",
      "100002    101628.0\n",
      "100002    101748.0\n",
      "100002    101868.0\n",
      "100002    102411.0\n",
      "100002    102469.0\n",
      "100002    102659.0\n",
      "100002    102672.0\n",
      "100002    102867.0\n",
      "100002    103365.0\n",
      "100002    103587.0\n",
      "100002    103847.0\n",
      "Name: time, dtype: float64\n",
      " fiber = 100003 charge = sensor_id\n",
      "100003    1\n",
      "100003    1\n",
      "100003    1\n",
      "100003    1\n",
      "100003    1\n",
      "100003    1\n",
      "100003    1\n",
      "100003    1\n",
      "100003    1\n",
      "100003    1\n",
      "100003    1\n",
      "100003    1\n",
      "100003    1\n",
      "100003    1\n",
      "100003    1\n",
      "100003    1\n",
      "100003    1\n",
      "100003    1\n",
      "100003    1\n",
      "Name: charge, dtype: uint32, time = sensor_id\n",
      "100003     99142.0\n",
      "100003     99252.0\n",
      "100003     99956.0\n",
      "100003     99971.0\n",
      "100003    100077.0\n",
      "100003    100221.0\n",
      "100003    100783.0\n",
      "100003    100794.0\n",
      "100003    101011.0\n",
      "100003    101128.0\n",
      "100003    101442.0\n",
      "100003    101984.0\n",
      "100003    101997.0\n",
      "100003    102189.0\n",
      "100003    102234.0\n",
      "100003    102678.0\n",
      "100003    102885.0\n",
      "100003    103249.0\n",
      "100003    103536.0\n",
      "Name: time, dtype: float64\n",
      " fiber = 100004 charge = sensor_id\n",
      "100004    1\n",
      "100004    1\n",
      "100004    1\n",
      "100004    1\n",
      "100004    1\n",
      "100004    1\n",
      "100004    1\n",
      "100004    1\n",
      "100004    1\n",
      "100004    1\n",
      "100004    1\n",
      "100004    1\n",
      "100004    1\n",
      "100004    1\n",
      "100004    1\n",
      "100004    1\n",
      "100004    1\n",
      "100004    1\n",
      "Name: charge, dtype: uint32, time = sensor_id\n",
      "100004     97738.0\n",
      "100004     98892.0\n",
      "100004     98961.0\n",
      "100004     99448.0\n",
      "100004     99479.0\n",
      "100004     99757.0\n",
      "100004    100692.0\n",
      "100004    100778.0\n",
      "100004    100999.0\n",
      "100004    101148.0\n",
      "100004    101218.0\n",
      "100004    101573.0\n",
      "100004    101959.0\n",
      "100004    102103.0\n",
      "100004    102312.0\n",
      "100004    102387.0\n",
      "100004    102441.0\n",
      "100004    102636.0\n",
      "Name: time, dtype: float64\n",
      " fiber = 100005 charge = sensor_id\n",
      "100005    1\n",
      "100005    1\n",
      "100005    1\n",
      "100005    1\n",
      "100005    1\n",
      "100005    1\n",
      "100005    1\n",
      "100005    1\n",
      "100005    1\n",
      "100005    1\n",
      "100005    1\n",
      "100005    1\n",
      "100005    1\n",
      "100005    1\n",
      "100005    1\n",
      "100005    1\n",
      "100005    1\n",
      "100005    1\n",
      "100005    1\n",
      "100005    1\n",
      "100005    1\n",
      "100005    1\n",
      "100005    1\n",
      "100005    1\n",
      "100005    1\n",
      "100005    1\n",
      "Name: charge, dtype: uint32, time = sensor_id\n",
      "100005     98566.0\n",
      "100005     98902.0\n",
      "100005     99180.0\n",
      "100005     99849.0\n",
      "100005     99940.0\n",
      "100005     99946.0\n",
      "100005     99986.0\n",
      "100005    100186.0\n",
      "100005    100392.0\n",
      "100005    100411.0\n",
      "100005    100436.0\n",
      "100005    100461.0\n",
      "100005    100514.0\n",
      "100005    100974.0\n",
      "100005    100976.0\n",
      "100005    101007.0\n",
      "100005    101295.0\n",
      "100005    101760.0\n",
      "100005    102032.0\n",
      "100005    102182.0\n",
      "100005    102421.0\n",
      "100005    102747.0\n",
      "100005    102787.0\n",
      "100005    103357.0\n",
      "100005    103575.0\n",
      "100005    103915.0\n",
      "Name: time, dtype: float64\n",
      " fiber = 100006 charge = sensor_id\n",
      "100006    1\n",
      "100006    1\n",
      "100006    1\n",
      "100006    1\n",
      "100006    1\n",
      "100006    1\n",
      "100006    1\n",
      "100006    1\n",
      "100006    1\n",
      "100006    1\n",
      "100006    1\n",
      "100006    1\n",
      "100006    1\n",
      "100006    1\n",
      "100006    1\n",
      "100006    1\n",
      "100006    1\n",
      "100006    1\n",
      "Name: charge, dtype: uint32, time = sensor_id\n",
      "100006     99322.0\n",
      "100006     99855.0\n",
      "100006     99895.0\n",
      "100006    100976.0\n",
      "100006    101383.0\n",
      "100006    101440.0\n",
      "100006    101607.0\n",
      "100006    101645.0\n",
      "100006    102085.0\n",
      "100006    102226.0\n",
      "100006    102227.0\n",
      "100006    102423.0\n",
      "100006    102978.0\n",
      "100006    102986.0\n",
      "100006    103006.0\n",
      "100006    103395.0\n",
      "100006    103446.0\n",
      "100006    103600.0\n",
      "Name: time, dtype: float64\n",
      " fiber = 100007 charge = sensor_id\n",
      "100007    1\n",
      "100007    1\n",
      "100007    1\n",
      "100007    1\n",
      "100007    1\n",
      "100007    1\n",
      "100007    1\n",
      "100007    1\n",
      "100007    1\n",
      "100007    1\n",
      "100007    1\n",
      "100007    1\n",
      "100007    1\n",
      "100007    1\n",
      "100007    1\n",
      "100007    1\n",
      "100007    1\n",
      "100007    1\n",
      "100007    1\n",
      "100007    1\n",
      "Name: charge, dtype: uint32, time = sensor_id\n",
      "100007     99458.0\n",
      "100007     99506.0\n",
      "100007     99913.0\n",
      "100007    100443.0\n",
      "100007    100788.0\n",
      "100007    100827.0\n",
      "100007    100888.0\n",
      "100007    101056.0\n",
      "100007    101077.0\n",
      "100007    101412.0\n",
      "100007    101419.0\n",
      "100007    101559.0\n",
      "100007    101651.0\n",
      "100007    101759.0\n",
      "100007    101895.0\n",
      "100007    102718.0\n",
      "100007    102750.0\n",
      "100007    102774.0\n",
      "100007    103074.0\n",
      "100007    103901.0\n",
      "Name: time, dtype: float64\n",
      " fiber = 100008 charge = sensor_id\n",
      "100008    1\n",
      "100008    1\n",
      "100008    1\n",
      "100008    1\n",
      "100008    1\n",
      "100008    1\n",
      "100008    1\n",
      "100008    1\n",
      "100008    1\n",
      "100008    1\n",
      "100008    1\n",
      "100008    1\n",
      "100008    1\n",
      "100008    1\n",
      "Name: charge, dtype: uint32, time = sensor_id\n",
      "100008     99116.0\n",
      "100008     99278.0\n",
      "100008    100817.0\n",
      "100008    100877.0\n",
      "100008    101213.0\n",
      "100008    101240.0\n",
      "100008    101249.0\n",
      "100008    101792.0\n",
      "100008    101850.0\n",
      "100008    102390.0\n",
      "100008    102428.0\n",
      "100008    102904.0\n",
      "100008    103459.0\n",
      "100008    103853.0\n",
      "Name: time, dtype: float64\n",
      " fiber = 100009 charge = sensor_id\n",
      "100009    1\n",
      "100009    1\n",
      "100009    1\n",
      "100009    1\n",
      "100009    1\n",
      "100009    1\n",
      "100009    1\n",
      "100009    1\n",
      "100009    1\n",
      "100009    1\n",
      "100009    1\n",
      "100009    1\n",
      "100009    1\n",
      "100009    1\n",
      "100009    1\n",
      "100009    1\n",
      "100009    1\n",
      "100009    1\n",
      "100009    1\n",
      "100009    1\n",
      "Name: charge, dtype: uint32, time = sensor_id\n",
      "100009     98845.0\n",
      "100009     99454.0\n",
      "100009     99815.0\n",
      "100009    100247.0\n",
      "100009    100330.0\n",
      "100009    100517.0\n",
      "100009    100811.0\n",
      "100009    100904.0\n",
      "100009    101107.0\n",
      "100009    101267.0\n",
      "100009    101860.0\n",
      "100009    101979.0\n",
      "100009    102005.0\n",
      "100009    102082.0\n",
      "100009    102227.0\n",
      "100009    102526.0\n",
      "100009    102545.0\n",
      "100009    102892.0\n",
      "100009    103054.0\n",
      "100009    103334.0\n",
      "Name: time, dtype: float64\n"
     ]
    },
    {
     "ename": "KeyboardInterrupt",
     "evalue": "",
     "output_type": "error",
     "traceback": [
      "\u001b[0;31m---------------------------------------------------------------------------\u001b[0m",
      "\u001b[0;31mKeyboardInterrupt\u001b[0m                         Traceback (most recent call last)",
      "\u001b[0;32m<ipython-input-25-adbb4d46454e>\u001b[0m in \u001b[0;36m<module>\u001b[0;34m\u001b[0m\n\u001b[0;32m----> 1\u001b[0;31m \u001b[0mfiber_analysis\u001b[0m\u001b[0;34m(\u001b[0m\u001b[0mfibers_response\u001b[0m\u001b[0;34m,\u001b[0m \u001b[0mverbose\u001b[0m\u001b[0;34m=\u001b[0m\u001b[0;32mTrue\u001b[0m\u001b[0;34m,\u001b[0m \u001b[0mic\u001b[0m\u001b[0;34m=\u001b[0m\u001b[0;36m100\u001b[0m\u001b[0;34m)\u001b[0m\u001b[0;34m\u001b[0m\u001b[0;34m\u001b[0m\u001b[0m\n\u001b[0m",
      "\u001b[0;32m<ipython-input-24-85bdea10583b>\u001b[0m in \u001b[0;36mfiber_analysis\u001b[0;34m(fiberdf, verbose, ic)\u001b[0m\n\u001b[1;32m     19\u001b[0m         \u001b[0miii\u001b[0m \u001b[0;34m=\u001b[0m \u001b[0;36m0\u001b[0m\u001b[0;34m\u001b[0m\u001b[0;34m\u001b[0m\u001b[0m\n\u001b[1;32m     20\u001b[0m         \u001b[0;32mfor\u001b[0m \u001b[0mj\u001b[0m \u001b[0;32min\u001b[0m \u001b[0mget_fiber_numbers\u001b[0m\u001b[0;34m(\u001b[0m\u001b[0;34m)\u001b[0m\u001b[0;34m:\u001b[0m\u001b[0;34m\u001b[0m\u001b[0;34m\u001b[0m\u001b[0m\n\u001b[0;32m---> 21\u001b[0;31m             \u001b[0mfiber\u001b[0m \u001b[0;34m=\u001b[0m \u001b[0mevt\u001b[0m\u001b[0;34m.\u001b[0m\u001b[0mloc\u001b[0m\u001b[0;34m[\u001b[0m\u001b[0mj\u001b[0m\u001b[0;34m]\u001b[0m\u001b[0;34m\u001b[0m\u001b[0;34m\u001b[0m\u001b[0m\n\u001b[0m\u001b[1;32m     22\u001b[0m             \u001b[0;32mif\u001b[0m \u001b[0mii\u001b[0m\u001b[0;34m%\u001b[0m\u001b[0mic\u001b[0m \u001b[0;34m==\u001b[0m \u001b[0;36m0\u001b[0m \u001b[0;32mand\u001b[0m \u001b[0miii\u001b[0m \u001b[0;34m<\u001b[0m \u001b[0;36m10\u001b[0m \u001b[0;32mand\u001b[0m \u001b[0mverbose\u001b[0m\u001b[0;34m:\u001b[0m\u001b[0;34m\u001b[0m\u001b[0;34m\u001b[0m\u001b[0m\n\u001b[1;32m     23\u001b[0m                 \u001b[0mprint\u001b[0m\u001b[0;34m(\u001b[0m\u001b[0;34mf' fiber = {j} charge = {fiber.charge}, time = {fiber.time}'\u001b[0m\u001b[0;34m)\u001b[0m\u001b[0;34m\u001b[0m\u001b[0;34m\u001b[0m\u001b[0m\n",
      "\u001b[0;32m~/miniconda3/envs/IC-3.7-2020-06-16/lib/python3.7/site-packages/pandas/core/indexing.py\u001b[0m in \u001b[0;36m__getitem__\u001b[0;34m(self, key)\u001b[0m\n\u001b[1;32m   1766\u001b[0m \u001b[0;34m\u001b[0m\u001b[0m\n\u001b[1;32m   1767\u001b[0m             \u001b[0mmaybe_callable\u001b[0m \u001b[0;34m=\u001b[0m \u001b[0mcom\u001b[0m\u001b[0;34m.\u001b[0m\u001b[0mapply_if_callable\u001b[0m\u001b[0;34m(\u001b[0m\u001b[0mkey\u001b[0m\u001b[0;34m,\u001b[0m \u001b[0mself\u001b[0m\u001b[0;34m.\u001b[0m\u001b[0mobj\u001b[0m\u001b[0;34m)\u001b[0m\u001b[0;34m\u001b[0m\u001b[0;34m\u001b[0m\u001b[0m\n\u001b[0;32m-> 1768\u001b[0;31m             \u001b[0;32mreturn\u001b[0m \u001b[0mself\u001b[0m\u001b[0;34m.\u001b[0m\u001b[0m_getitem_axis\u001b[0m\u001b[0;34m(\u001b[0m\u001b[0mmaybe_callable\u001b[0m\u001b[0;34m,\u001b[0m \u001b[0maxis\u001b[0m\u001b[0;34m=\u001b[0m\u001b[0maxis\u001b[0m\u001b[0;34m)\u001b[0m\u001b[0;34m\u001b[0m\u001b[0;34m\u001b[0m\u001b[0m\n\u001b[0m\u001b[1;32m   1769\u001b[0m \u001b[0;34m\u001b[0m\u001b[0m\n\u001b[1;32m   1770\u001b[0m     \u001b[0;32mdef\u001b[0m \u001b[0m_is_scalar_access\u001b[0m\u001b[0;34m(\u001b[0m\u001b[0mself\u001b[0m\u001b[0;34m,\u001b[0m \u001b[0mkey\u001b[0m\u001b[0;34m:\u001b[0m \u001b[0mTuple\u001b[0m\u001b[0;34m)\u001b[0m\u001b[0;34m:\u001b[0m\u001b[0;34m\u001b[0m\u001b[0;34m\u001b[0m\u001b[0m\n",
      "\u001b[0;32m~/miniconda3/envs/IC-3.7-2020-06-16/lib/python3.7/site-packages/pandas/core/indexing.py\u001b[0m in \u001b[0;36m_getitem_axis\u001b[0;34m(self, key, axis)\u001b[0m\n\u001b[1;32m   1963\u001b[0m         \u001b[0;31m# fall thru to straight lookup\u001b[0m\u001b[0;34m\u001b[0m\u001b[0;34m\u001b[0m\u001b[0;34m\u001b[0m\u001b[0m\n\u001b[1;32m   1964\u001b[0m         \u001b[0mself\u001b[0m\u001b[0;34m.\u001b[0m\u001b[0m_validate_key\u001b[0m\u001b[0;34m(\u001b[0m\u001b[0mkey\u001b[0m\u001b[0;34m,\u001b[0m \u001b[0maxis\u001b[0m\u001b[0;34m)\u001b[0m\u001b[0;34m\u001b[0m\u001b[0;34m\u001b[0m\u001b[0m\n\u001b[0;32m-> 1965\u001b[0;31m         \u001b[0;32mreturn\u001b[0m \u001b[0mself\u001b[0m\u001b[0;34m.\u001b[0m\u001b[0m_get_label\u001b[0m\u001b[0;34m(\u001b[0m\u001b[0mkey\u001b[0m\u001b[0;34m,\u001b[0m \u001b[0maxis\u001b[0m\u001b[0;34m=\u001b[0m\u001b[0maxis\u001b[0m\u001b[0;34m)\u001b[0m\u001b[0;34m\u001b[0m\u001b[0;34m\u001b[0m\u001b[0m\n\u001b[0m\u001b[1;32m   1966\u001b[0m \u001b[0;34m\u001b[0m\u001b[0m\n\u001b[1;32m   1967\u001b[0m \u001b[0;34m\u001b[0m\u001b[0m\n",
      "\u001b[0;32m~/miniconda3/envs/IC-3.7-2020-06-16/lib/python3.7/site-packages/pandas/core/indexing.py\u001b[0m in \u001b[0;36m_get_label\u001b[0;34m(self, label, axis)\u001b[0m\n\u001b[1;32m    623\u001b[0m             \u001b[0;32mraise\u001b[0m \u001b[0mIndexingError\u001b[0m\u001b[0;34m(\u001b[0m\u001b[0;34m\"no slices here, handle elsewhere\"\u001b[0m\u001b[0;34m)\u001b[0m\u001b[0;34m\u001b[0m\u001b[0;34m\u001b[0m\u001b[0m\n\u001b[1;32m    624\u001b[0m \u001b[0;34m\u001b[0m\u001b[0m\n\u001b[0;32m--> 625\u001b[0;31m         \u001b[0;32mreturn\u001b[0m \u001b[0mself\u001b[0m\u001b[0;34m.\u001b[0m\u001b[0mobj\u001b[0m\u001b[0;34m.\u001b[0m\u001b[0m_xs\u001b[0m\u001b[0;34m(\u001b[0m\u001b[0mlabel\u001b[0m\u001b[0;34m,\u001b[0m \u001b[0maxis\u001b[0m\u001b[0;34m=\u001b[0m\u001b[0maxis\u001b[0m\u001b[0;34m)\u001b[0m\u001b[0;34m\u001b[0m\u001b[0;34m\u001b[0m\u001b[0m\n\u001b[0m\u001b[1;32m    626\u001b[0m \u001b[0;34m\u001b[0m\u001b[0m\n\u001b[1;32m    627\u001b[0m     \u001b[0;32mdef\u001b[0m \u001b[0m_get_loc\u001b[0m\u001b[0;34m(\u001b[0m\u001b[0mself\u001b[0m\u001b[0;34m,\u001b[0m \u001b[0mkey\u001b[0m\u001b[0;34m:\u001b[0m \u001b[0mint\u001b[0m\u001b[0;34m,\u001b[0m \u001b[0maxis\u001b[0m\u001b[0;34m:\u001b[0m \u001b[0mint\u001b[0m\u001b[0;34m)\u001b[0m\u001b[0;34m:\u001b[0m\u001b[0;34m\u001b[0m\u001b[0;34m\u001b[0m\u001b[0m\n",
      "\u001b[0;32m~/miniconda3/envs/IC-3.7-2020-06-16/lib/python3.7/site-packages/pandas/core/generic.py\u001b[0m in \u001b[0;36mxs\u001b[0;34m(self, key, axis, level, drop_level)\u001b[0m\n\u001b[1;32m   3539\u001b[0m             \u001b[0;32mif\u001b[0m \u001b[0misinstance\u001b[0m\u001b[0;34m(\u001b[0m\u001b[0mloc\u001b[0m\u001b[0;34m,\u001b[0m \u001b[0mnp\u001b[0m\u001b[0;34m.\u001b[0m\u001b[0mndarray\u001b[0m\u001b[0;34m)\u001b[0m\u001b[0;34m:\u001b[0m\u001b[0;34m\u001b[0m\u001b[0;34m\u001b[0m\u001b[0m\n\u001b[1;32m   3540\u001b[0m                 \u001b[0;32mif\u001b[0m \u001b[0mloc\u001b[0m\u001b[0;34m.\u001b[0m\u001b[0mdtype\u001b[0m \u001b[0;34m==\u001b[0m \u001b[0mnp\u001b[0m\u001b[0;34m.\u001b[0m\u001b[0mbool_\u001b[0m\u001b[0;34m:\u001b[0m\u001b[0;34m\u001b[0m\u001b[0;34m\u001b[0m\u001b[0m\n\u001b[0;32m-> 3541\u001b[0;31m                     \u001b[0;34m(\u001b[0m\u001b[0minds\u001b[0m\u001b[0;34m,\u001b[0m\u001b[0;34m)\u001b[0m \u001b[0;34m=\u001b[0m \u001b[0mloc\u001b[0m\u001b[0;34m.\u001b[0m\u001b[0mnonzero\u001b[0m\u001b[0;34m(\u001b[0m\u001b[0;34m)\u001b[0m\u001b[0;34m\u001b[0m\u001b[0;34m\u001b[0m\u001b[0m\n\u001b[0m\u001b[1;32m   3542\u001b[0m                     \u001b[0;32mreturn\u001b[0m \u001b[0mself\u001b[0m\u001b[0;34m.\u001b[0m\u001b[0m_take_with_is_copy\u001b[0m\u001b[0;34m(\u001b[0m\u001b[0minds\u001b[0m\u001b[0;34m,\u001b[0m \u001b[0maxis\u001b[0m\u001b[0;34m=\u001b[0m\u001b[0maxis\u001b[0m\u001b[0;34m)\u001b[0m\u001b[0;34m\u001b[0m\u001b[0;34m\u001b[0m\u001b[0m\n\u001b[1;32m   3543\u001b[0m                 \u001b[0;32melse\u001b[0m\u001b[0;34m:\u001b[0m\u001b[0;34m\u001b[0m\u001b[0;34m\u001b[0m\u001b[0m\n",
      "\u001b[0;31mKeyboardInterrupt\u001b[0m: "
     ]
    }
   ],
   "source": [
    "fiber_analysis(fibers_response, verbose=True, ic=100)"
   ]
  },
  {
   "cell_type": "code",
   "execution_count": null,
   "metadata": {},
   "outputs": [],
   "source": []
  },
  {
   "cell_type": "code",
   "execution_count": null,
   "metadata": {},
   "outputs": [],
   "source": [
    "fevt0 = fibers_response.loc[0]"
   ]
  },
  {
   "cell_type": "code",
   "execution_count": null,
   "metadata": {},
   "outputs": [],
   "source": [
    "fevt0"
   ]
  },
  {
   "cell_type": "code",
   "execution_count": null,
   "metadata": {},
   "outputs": [],
   "source": [
    "f15 = fevt0.loc[100015]"
   ]
  },
  {
   "cell_type": "code",
   "execution_count": null,
   "metadata": {},
   "outputs": [],
   "source": [
    "f15"
   ]
  },
  {
   "cell_type": "code",
   "execution_count": null,
   "metadata": {},
   "outputs": [],
   "source": [
    "f15.plot(kind='scatter', x='charge', y='time')"
   ]
  },
  {
   "cell_type": "code",
   "execution_count": null,
   "metadata": {},
   "outputs": [],
   "source": []
  },
  {
   "cell_type": "code",
   "execution_count": null,
   "metadata": {},
   "outputs": [],
   "source": [
    "grouped_multiple = sipm_response.groupby(['event_id', 'sensor_id']).agg({'charge': ['sum']})\n",
    "grouped_multiple.columns = ['tot_charge']\n",
    "sipmdf = grouped_multiple.reset_index()\n",
    "sipmdf\n"
   ]
  },
  {
   "cell_type": "code",
   "execution_count": null,
   "metadata": {},
   "outputs": [],
   "source": [
    "sipm0 = sipmdf[sipmdf.event_id==0]\n",
    "sipm0"
   ]
  },
  {
   "cell_type": "code",
   "execution_count": null,
   "metadata": {},
   "outputs": [],
   "source": [
    "sipm0.tot_charge.max()"
   ]
  },
  {
   "cell_type": "code",
   "execution_count": null,
   "metadata": {},
   "outputs": [],
   "source": [
    "sipmdf['tot_charge'].plot(kind='hist', color='blue')"
   ]
  },
  {
   "cell_type": "code",
   "execution_count": null,
   "metadata": {},
   "outputs": [],
   "source": [
    "_, _, _ = plt.hist(sipmdf.groupby('sensor_id').tot_charge.max(), bins=50)"
   ]
  },
  {
   "cell_type": "code",
   "execution_count": null,
   "metadata": {},
   "outputs": [],
   "source": [
    "true_positions['S1e'] = fibers_response[fibers_response.time < s1_time].groupby('event_id').charge.sum()\n",
    "true_positions['S2e'] = fibers_response[fibers_response.time > s1_time].groupby('event_id').charge.sum()"
   ]
  },
  {
   "cell_type": "code",
   "execution_count": null,
   "metadata": {},
   "outputs": [],
   "source": [
    "true_positions"
   ]
  },
  {
   "cell_type": "code",
   "execution_count": null,
   "metadata": {},
   "outputs": [],
   "source": [
    "true_positions.plot(kind='scatter', x='true_x', y='true_y', c='S2e', cmap='viridis')"
   ]
  },
  {
   "cell_type": "code",
   "execution_count": null,
   "metadata": {},
   "outputs": [],
   "source": [
    "true_positions.plot(kind='scatter', x='true_x', y='true_y', c='S1e', cmap='viridis')"
   ]
  },
  {
   "cell_type": "code",
   "execution_count": null,
   "metadata": {},
   "outputs": [],
   "source": [
    "def kr_dst2(ifnames, sipm_map, key_sensor_fibres = 100000, s1_time = 1.*units.mus, verbose=False, ic=100):\n",
    "    \"\"\"Prepares an analysis dst for Krypton, including:\n",
    "    \n",
    "    1. True positions from the MC\n",
    "    2. Computed positions from Barycenter (around SiPM with max charge) -- after integrating all time bins\n",
    "    3. S1e from fibers --- MC response\n",
    "    2. S2e from MC     --- MC response\n",
    "    \n",
    "    \"\"\"\n",
    "    \n",
    "    def get_file_name(ifname):\n",
    "        lname = ifname.split('.')\n",
    "        t1 = \".\".join(lname[1:-1])\n",
    "        t = \"\".join([lname[0],t1])\n",
    "        f =f\"{t}.csv\"\n",
    "        return f\n",
    "\n",
    "    def sipm_time_integral():\n",
    "        grouped_multiple = sipm_response.groupby(['event_id', 'sensor_id']).agg({'charge': ['sum']})\n",
    "        grouped_multiple.columns = ['tot_charge']\n",
    "        return grouped_multiple.reset_index()\n",
    "            \n",
    "    def get_q(evt, ix):\n",
    "        if ix != NN:\n",
    "            q = evt[evt.sensor_id==ix].tot_charge.values[0]\n",
    "        else:\n",
    "            q = 0        \n",
    "        return q\n",
    "    \n",
    "    def get_pos(vz, vq):\n",
    "        return np.dot(vz, vq) / np.sum(vq) \n",
    "    \n",
    "    def get_krdf():\n",
    "      \n",
    "        sipmdf = sipm_time_integral()\n",
    "        \n",
    "        if verbose:\n",
    "            print(sipmdf)\n",
    "        \n",
    "        krdf = get_evt_true_positions_and_energy(mcParts)\n",
    "        krdf['S1e'] = fibers_response[fibers_response.time < s1_time].groupby('event_id').charge.sum()\n",
    "        krdf['S2e'] = fibers_response[fibers_response.time > s1_time].groupby('event_id').charge.sum()\n",
    "        \n",
    "        if verbose:\n",
    "            print(krdf)\n",
    "\n",
    "        xMax = []\n",
    "        xPos = []\n",
    "        yMax = []\n",
    "        yPos = []\n",
    "\n",
    "        qMax = []\n",
    "        qL   = []\n",
    "        qR   = []\n",
    "        qU   = []\n",
    "        qD   = []\n",
    "\n",
    "        if verbose:\n",
    "            print(krdf.index)\n",
    "        \n",
    "        ii = 0\n",
    "        for i in krdf.index:\n",
    "            if ii%ic == 0:\n",
    "                print(f' event = {ii} event number = {i}')\n",
    "            \n",
    "            ii+=1\n",
    "\n",
    "            evt          = sipmdf[sipmdf.event_id==i]\n",
    "            qmax         = evt.tot_charge.max()\n",
    "            iqmax        = evt[evt.tot_charge==qmax].sensor_id.values[0]\n",
    "\n",
    "            qmaxdf       = sipm_map[sipm_map.sensor_id==iqmax]\n",
    "            xqmax, yqmax =  qmaxdf.x.values[0], qmaxdf.y.values[0]\n",
    "            xl, xr       =  qmaxdf.xl.values[0], qmaxdf.xr.values[0]\n",
    "            yu, yd       =  qmaxdf.yu.values[0], qmaxdf.yd.values[0]\n",
    "\n",
    "            ql = get_q(evt, qmaxdf.id_xl.values[0])\n",
    "            qr = get_q(evt, qmaxdf.id_xr.values[0])\n",
    "            qu = get_q(evt, qmaxdf.id_yu.values[0])\n",
    "            qd = get_q(evt, qmaxdf.id_yd.values[0])\n",
    "\n",
    "            xp = get_pos(np.array([xqmax, xl, xr]), np.array([qmax, ql, qr]))\n",
    "            yp = get_pos(np.array([yqmax, yu, yd]), np.array([qmax, qu, qd]))\n",
    "\n",
    "            xMax.append(xqmax)\n",
    "            xPos.append(xp)\n",
    "            yMax.append(yqmax)\n",
    "            yPos.append(yp)\n",
    "            qMax.append(qmax) \n",
    "            qL.append(ql)   \n",
    "            qR.append(qr)   \n",
    "            qU.append(qu)   \n",
    "            qD.append(qd)   \n",
    "\n",
    "\n",
    "        krdf['xmax'] = xMax\n",
    "        krdf['ymax'] = yMax\n",
    "        krdf['xpos'] = xPos\n",
    "        krdf['ypos'] = yPos\n",
    "        krdf['qmax'] = qMax\n",
    "        krdf['ql']   = qL\n",
    "        krdf['qr']   = qR\n",
    "        krdf['qu']   = qU\n",
    "        krdf['qd']   = qD\n",
    "\n",
    "        return krdf, ii\n",
    "    \n",
    "    # Glue files\n",
    "    \n",
    "    GF =[]\n",
    "    BF =[]\n",
    "    with warnings.catch_warnings(record=True) as w:\n",
    "        warnings.simplefilter(\"always\")\n",
    "        for ifname in ifnames:\n",
    "            print(f'reading file {ifname}')\n",
    "            \n",
    "            try: \n",
    "                mcParts = load_mcparticles_df(ifname)\n",
    "            except:\n",
    "                print(f'Failed reading mcparticles ={ifname}')\n",
    "                BF.append(ifname)\n",
    "                continue\n",
    "            \n",
    "            try:\n",
    "                sns_response = load_mcsensor_response_df(ifname)\n",
    "            except:\n",
    "                print(f'Failed reading sns_response ={ifname}')\n",
    "                continue\n",
    "\n",
    "            GF.append(ifname)\n",
    "            fibers_response = sns_response[sns_response.index.get_level_values(\"sensor_id\") >= key_sensor_fibres]\n",
    "            sipm_response   = sns_response[sns_response.index.get_level_values(\"sensor_id\") < key_sensor_fibres]\n",
    "                                                          \n",
    "            krdf, nof = get_krdf()\n",
    "            file = get_file_name(ifname)\n",
    "            print(f'saving file {file}, with {nof} events')\n",
    "            krdf.to_csv(file)\n",
    "\n",
    "    return GF, BF, nof, krdf\n",
    "        "
   ]
  },
  {
   "cell_type": "code",
   "execution_count": null,
   "metadata": {},
   "outputs": [],
   "source": [
    "gf, bf, nof, krdf = kr_dst2(['/Users/jj/Development/demoData/flex/NEXT_FLEX.Kr83.ACTIVE.0.next.h5'], \n",
    "                            sipm_map, key_sensor_fibres = 100000, s1_time = 1.*units.mus, verbose=False, ic=100)"
   ]
  },
  {
   "cell_type": "code",
   "execution_count": null,
   "metadata": {},
   "outputs": [],
   "source": [
    "krdf"
   ]
  },
  {
   "cell_type": "code",
   "execution_count": null,
   "metadata": {},
   "outputs": [],
   "source": [
    "def kr_join_dst(ifnames, verbose=False, ic=100):\n",
    "    \"\"\"Joins the csv dst files\n",
    "        \n",
    "    \"\"\"\n",
    "    \n",
    "    krdst           = pd.DataFrame()\n",
    "    BF =[]\n",
    "    with warnings.catch_warnings(record=True) as w:\n",
    "        warnings.simplefilter(\"always\")\n",
    "        for ifname in ifnames:\n",
    "            if verbose:\n",
    "                print(f'reading file {ifname}')\n",
    "            try: \n",
    "                kdst = pd.read_csv(ifname)\n",
    "            except:\n",
    "                print(f'Failed reading csv dst file ={ifname}')\n",
    "                BF.append(ifname)\n",
    "                continue\n",
    "            \n",
    "            if verbose:\n",
    "                print(kdst)\n",
    "            krdst = krdst.append(kdst)\n",
    "            \n",
    "    return krdst, BF\n",
    "\n",
    "\n",
    "        \n",
    "        "
   ]
  },
  {
   "cell_type": "code",
   "execution_count": null,
   "metadata": {},
   "outputs": [],
   "source": [
    "ifnames = glob.glob(f\"{iPATH}/NEXT_FLEXKr83.ACTIVE.3*.csv\")"
   ]
  },
  {
   "cell_type": "code",
   "execution_count": null,
   "metadata": {},
   "outputs": [],
   "source": [
    "ifnames"
   ]
  },
  {
   "cell_type": "code",
   "execution_count": null,
   "metadata": {},
   "outputs": [],
   "source": [
    "krdst, BF = kr_join_dst(ifnames, verbose=False)"
   ]
  },
  {
   "cell_type": "code",
   "execution_count": null,
   "metadata": {},
   "outputs": [],
   "source": [
    "krdst"
   ]
  },
  {
   "cell_type": "code",
   "execution_count": null,
   "metadata": {},
   "outputs": [],
   "source": [
    "krdst = pd.read_csv('/Users/jj/Development/demoData/flex/krdf_1.csv')"
   ]
  },
  {
   "cell_type": "code",
   "execution_count": null,
   "metadata": {},
   "outputs": [],
   "source": [
    "def sigma_max_true(krdst, true='true_x', var='xmax', bins=10, alpha=0.6, color='g'):\n",
    "    dx = (krdst[true] - krdst[var]).values\n",
    "    mu, std = norm.fit(dx)\n",
    "    plt.hist(dx, bins=bins, density=True, alpha=alpha, color=color)\n",
    "    xmin, xmax = plt.xlim()\n",
    "    x = np.linspace(xmin, xmax, 100)\n",
    "    p = norm.pdf(x, mu, std)\n",
    "    plt.plot(x, p, 'k', linewidth=2)\n",
    "    title = \"Fit results: mu = %.2f,  std = %.2f\" % (mu, std)\n",
    "    plt.title(title)\n",
    "    plt.show()\n",
    "    "
   ]
  },
  {
   "cell_type": "code",
   "execution_count": null,
   "metadata": {},
   "outputs": [],
   "source": [
    "sigma_max_true(krdst, true='true_x', var='xmax', bins=100, alpha=0.6, color='g')"
   ]
  },
  {
   "cell_type": "code",
   "execution_count": null,
   "metadata": {},
   "outputs": [],
   "source": [
    "sigma_max_true(krdst, true='true_x', var='xpos', bins=100, alpha=0.6, color='g')"
   ]
  },
  {
   "cell_type": "code",
   "execution_count": null,
   "metadata": {},
   "outputs": [],
   "source": [
    "sigma_max_true(krdst, true='true_y', var='ypos', bins=100, alpha=0.6, color='g')"
   ]
  },
  {
   "cell_type": "code",
   "execution_count": null,
   "metadata": {},
   "outputs": [],
   "source": [
    "krdst.plot(kind='scatter', x='xpos', y='ypos', c='S2e', cmap='viridis')"
   ]
  },
  {
   "cell_type": "code",
   "execution_count": null,
   "metadata": {},
   "outputs": [],
   "source": [
    "krdst.plot(kind='scatter', x='xmax', y='ymax', c='S2e', cmap='viridis')"
   ]
  },
  {
   "cell_type": "code",
   "execution_count": null,
   "metadata": {},
   "outputs": [],
   "source": [
    "krdst.plot(kind='scatter', x='true_x', y='true_y', c='S2e', cmap='viridis')"
   ]
  },
  {
   "cell_type": "code",
   "execution_count": null,
   "metadata": {},
   "outputs": [],
   "source": [
    "krdst['S2e'].plot(kind='hist', bins=100, color='blue')"
   ]
  },
  {
   "cell_type": "code",
   "execution_count": null,
   "metadata": {},
   "outputs": [],
   "source": [
    "krdst['qmax'].plot(kind='hist', bins=100, color='blue')"
   ]
  },
  {
   "cell_type": "code",
   "execution_count": null,
   "metadata": {},
   "outputs": [],
   "source": [
    "krdst[['qu','qd','ql','qr']].plot(kind='hist', bins=50)"
   ]
  },
  {
   "cell_type": "code",
   "execution_count": null,
   "metadata": {},
   "outputs": [],
   "source": []
  },
  {
   "cell_type": "code",
   "execution_count": null,
   "metadata": {},
   "outputs": [],
   "source": [
    "def histo_s1(s1fid = 200, bins=100, alpha=0.6, color='g'):\n",
    "    \n",
    "    s1df = krdst[krdst.S1e < s1fid]\n",
    "    plt.hist(s1df.S1e.values, bins=bins, density=True, alpha=alpha, color=color)\n",
    "    plt.show()\n"
   ]
  },
  {
   "cell_type": "code",
   "execution_count": null,
   "metadata": {},
   "outputs": [],
   "source": [
    "histo_s1()"
   ]
  },
  {
   "cell_type": "code",
   "execution_count": 83,
   "metadata": {},
   "outputs": [
    {
     "data": {
      "text/plain": [
       "0.03225806451612903"
      ]
     },
     "execution_count": 83,
     "metadata": {},
     "output_type": "execute_result"
    }
   ],
   "source": [
    "100 / 3100"
   ]
  },
  {
   "cell_type": "code",
   "execution_count": null,
   "metadata": {},
   "outputs": [],
   "source": []
  }
 ],
 "metadata": {
  "kernelspec": {
   "display_name": "Python 3",
   "language": "python",
   "name": "python3"
  },
  "language_info": {
   "codemirror_mode": {
    "name": "ipython",
    "version": 3
   },
   "file_extension": ".py",
   "mimetype": "text/x-python",
   "name": "python",
   "nbconvert_exporter": "python",
   "pygments_lexer": "ipython3",
   "version": "3.7.7"
  }
 },
 "nbformat": 4,
 "nbformat_minor": 4
}
