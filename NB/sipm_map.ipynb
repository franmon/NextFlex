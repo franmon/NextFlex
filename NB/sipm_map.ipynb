{
 "cells": [
  {
   "cell_type": "markdown",
   "metadata": {},
   "source": [
    "<p style=\"font-family: Arial; font-size:3.75em;color:purple; font-style:bold\"><br>\n",
    "'SiPM MAP' Study</p><br>"
   ]
  },
  {
   "cell_type": "markdown",
   "metadata": {},
   "source": [
    "# This notebook computes a sipm map needed for the NextFlex studies"
   ]
  },
  {
   "cell_type": "code",
   "execution_count": 38,
   "metadata": {},
   "outputs": [
    {
     "data": {
      "text/html": [
       "<style>body {\n",
       "    margin: 0;\n",
       "    font-family: Helvetica;\n",
       "}\n",
       "table.dataframe {\n",
       "    border-collapse: collapse;\n",
       "    border: none;\n",
       "}\n",
       "table.dataframe tr {\n",
       "    border: none;\n",
       "}\n",
       "table.dataframe td, table.dataframe th {\n",
       "    margin: 0;\n",
       "    border: 1px solid white;\n",
       "    padding-left: 0.25em;\n",
       "    padding-right: 0.25em;\n",
       "}\n",
       "table.dataframe th:not(:empty) {\n",
       "    background-color: #fec;\n",
       "    text-align: left;\n",
       "    font-weight: normal;\n",
       "}\n",
       "table.dataframe tr:nth-child(2) th:empty {\n",
       "    border-left: none;\n",
       "    border-right: 1px dashed #888;\n",
       "}\n",
       "table.dataframe td {\n",
       "    border: 2px solid #ccf;\n",
       "    background-color: #f4f4ff;\n",
       "}\n",
       "h3 {\n",
       "    color: white;\n",
       "    background-color: black;\n",
       "    padding: 0.5em;\n",
       "}\n",
       "</style>"
      ],
      "text/plain": [
       "<IPython.core.display.HTML object>"
      ]
     },
     "execution_count": 38,
     "metadata": {},
     "output_type": "execute_result"
    }
   ],
   "source": [
    "from IPython.core.display import HTML\n",
    "css = open('style-table.css').read() + open('style-notebook.css').read()\n",
    "HTML('<style>{}</style>'.format(css))"
   ]
  },
  {
   "cell_type": "code",
   "execution_count": 39,
   "metadata": {},
   "outputs": [],
   "source": [
    "# General importings\n",
    "import os\n",
    "import sys\n",
    "import glob\n",
    "import logging\n",
    "import math\n",
    "import numpy  as np\n",
    "import tables as tb\n",
    "import pandas as pd\n",
    "import matplotlib.pyplot as plt\n",
    "from matplotlib import colors\n",
    "\n",
    "# Specific IC stuff\n",
    "import invisible_cities.core.system_of_units  as units\n",
    "\n",
    "from invisible_cities.io.mcinfo_io import load_mcconfiguration\n",
    "from invisible_cities.io.mcinfo_io import load_mcparticles_df\n",
    "from invisible_cities.io.mcinfo_io import load_mchits_df\n",
    "from invisible_cities.io.mcinfo_io import load_mcsensor_positions\n",
    "from invisible_cities.io.mcinfo_io import load_mcsensor_response_df\n",
    "from invisible_cities.io.mcinfo_io import get_sensor_types\n",
    "from invisible_cities.io.mcinfo_io import get_sensor_binning\n",
    "from invisible_cities.io.mcinfo_io import get_event_numbers_in_file\n",
    "from invisible_cities.core.core_functions import in_range\n"
   ]
  },
  {
   "cell_type": "code",
   "execution_count": 40,
   "metadata": {},
   "outputs": [
    {
     "name": "stdout",
     "output_type": "stream",
     "text": [
      "The autoreload extension is already loaded. To reload it, use:\n",
      "  %reload_ext autoreload\n"
     ]
    }
   ],
   "source": [
    "%matplotlib inline\n",
    "%load_ext autoreload\n",
    "%autoreload 2"
   ]
  },
  {
   "cell_type": "code",
   "execution_count": 41,
   "metadata": {},
   "outputs": [],
   "source": [
    "plt.rcParams[\"figure.figsize\"] = 8, 6\n",
    "plt.rcParams[\"font.size\"     ] = 14"
   ]
  },
  {
   "cell_type": "markdown",
   "metadata": {},
   "source": [
    "# Code"
   ]
  },
  {
   "cell_type": "code",
   "execution_count": 42,
   "metadata": {},
   "outputs": [],
   "source": [
    "NN= -999999  # No Number, a trick to aovid nans in data structs\n",
    "\n",
    "\n",
    "class NNN:\n",
    "\n",
    "    def __getattr__(self, _):\n",
    "        return NN\n"
   ]
  },
  {
   "cell_type": "code",
   "execution_count": 43,
   "metadata": {},
   "outputs": [],
   "source": [
    "def sipm_pos(sipm_positions, pitch, verbose=False, eps=0.1, icount=100):\n",
    "    \"\"\"Takes a dataframe with the sipm_positions and:\n",
    "    1. drops z position (not needed)\n",
    "    2. for each sipm computes the xl, xr, yu, yd positions corresponding to:\n",
    "       xl : sipm to the left along x axis of the sipm at position (x,y)\n",
    "       xr : sipm to the right along x axis of the sipm at position (x,y)\n",
    "       yu : sipm up along y axis of the sipm at position (x,y)\n",
    "       yd : sipm down along y axis of the sipm at position (x,y)\n",
    "       \n",
    "    \"\"\"\n",
    "    \n",
    "    def return_index(x,y):\n",
    "        spx = sipm_positions[in_range(sipm_positions.x, x-eps, x+eps)]\n",
    "        spxy = spx[in_range(spx.y, y-eps, y+eps)]\n",
    "        if len(spxy.sensor_id.values) > 0:\n",
    "            return spxy.sensor_id.values[0]\n",
    "        else:\n",
    "            return NN\n",
    "\n",
    "    \n",
    "    def compute_position(px, py, PMIN, PMAX, coord):\n",
    "        if verbose: \n",
    "            print(f'compute position: px ={px}, py = {py}')\n",
    "        \n",
    "        xl, xr = px - pitch, px + pitch \n",
    "        if coord == 'x':\n",
    "            ixl = return_index(xl,py)\n",
    "            ixr = return_index(xr,py)\n",
    "        else:\n",
    "            ixl = return_index(py,xl)\n",
    "            ixr = return_index(py,xr)\n",
    "\n",
    "        if ixl   == NN:\n",
    "            xl = NN\n",
    "        elif ixr == NN:\n",
    "            xr = NN\n",
    "\n",
    "        return xl, xr\n",
    "\n",
    "    xL = []\n",
    "    xR = []\n",
    "    yU = []\n",
    "    yD = []\n",
    "    \n",
    "    X = sipm_positions.x.values\n",
    "    Y = sipm_positions.y.values\n",
    "    new_positions = (sipm_positions.drop(columns=['z','index'])).copy()\n",
    "    for i, (xpos, ypos) in enumerate(zip(X,Y)): \n",
    "        if verbose and i%icount == 0:\n",
    "            print(i)\n",
    "        \n",
    "        xl, xr = compute_position(xpos, ypos, XMIN, XMAX, coord='x')\n",
    "        yu, yd  = compute_position(ypos, xpos, YMIN, YMAX, coord='y')\n",
    "        \n",
    "        if verbose and i%icount == 0:\n",
    "            print(f' sipm = {i}, x = {xpos}, y = {ypos}, xl = {xl}, yl = {yu}, xr = {xr}, yd = {yd}')\n",
    "            \n",
    "        \n",
    "        xL.append(xl)\n",
    "        xR.append(xr)\n",
    "        yU.append(yu)\n",
    "        yD.append(yd)\n",
    "    \n",
    "    new_positions['xl'] = xL\n",
    "    new_positions['xr'] = xR\n",
    "    new_positions['yu'] = yD  # yD is really yup\n",
    "    new_positions['yd'] = yU\n",
    "    \n",
    "    return new_positions\n",
    "    \n",
    "    \n",
    " "
   ]
  },
  {
   "cell_type": "code",
   "execution_count": 44,
   "metadata": {},
   "outputs": [],
   "source": [
    "def sipm_pos_test(sipm_map, pitch, verbose=False, eps=0.1, icount=100):\n",
    "    \"\"\"Tests that the difference between left-right (up-down) is 2 * pitch\n",
    "       skipping SiPMs in the edges\n",
    "    \"\"\"\n",
    "    XL = sipm_map.xl.values\n",
    "    XR = sipm_map.xr.values\n",
    "    YU = sipm_map.yu.values\n",
    "    YD = sipm_map.yd.values\n",
    "    P = np.array(len(XL) *[2 * pitch])\n",
    "    DX = [xr - xl if xl != NN and xr != NN else 2 * pitch for xl,xr in zip(XL, XR) ]\n",
    "    DY = [yu - yd if yu != NN and yd != NN else 2 * pitch for yu,yd in zip(YU, YD) ]\n",
    "    t1 = np.allclose(DX, P, rtol=1e-03, atol=1e-03)\n",
    "    t2 = np.allclose(DY, P, rtol=1e-03, atol=1e-03)\n",
    "    return t1 and t2\n",
    "    "
   ]
  },
  {
   "cell_type": "code",
   "execution_count": 45,
   "metadata": {},
   "outputs": [],
   "source": [
    "def sipm_indx(sipm_map, eps=0.1):\n",
    "    \"\"\"Takes a dataframe with the sipm_map and adds de sipm indexes of xl, xr, yl, yr\n",
    "    \"\"\"\n",
    "    def index_search(xv, yv, XL):\n",
    "        spx  = sipm_map[in_range(sipm_map.x, xv - eps, xv + eps)] \n",
    "        spxy = spx[in_range(spx.y, yv - eps, yv + eps)]\n",
    "        if len(spxy.sensor_id.values) == 1:\n",
    "            XL.append(spxy.sensor_id.values[0])\n",
    "        else:\n",
    "            XL.append(NN)\n",
    "    iXL=[]\n",
    "    iXR=[]\n",
    "    iYU=[]\n",
    "    iYD=[]\n",
    "    for i in sipm_map.index:\n",
    "        sipm = sipm_map.loc[i]\n",
    "        index_search(sipm.xl, sipm.y,  iXL)\n",
    "        index_search(sipm.xr, sipm.y,  iXR)\n",
    "        index_search(sipm.x,  sipm.yu, iYU)\n",
    "        index_search(sipm.x,  sipm.yd, iYD)\n",
    "\n",
    "    sipm_map['id_xl'] = iXL\n",
    "    sipm_map['id_xr'] = iXR\n",
    "    sipm_map['id_yu'] = iYU\n",
    "    sipm_map['id_yd'] = iYD\n"
   ]
  },
  {
   "cell_type": "code",
   "execution_count": 46,
   "metadata": {},
   "outputs": [],
   "source": [
    "def sipm_indx_test(sipm_map, eps=0.1):\n",
    "    \"\"\"Checks that the indexes match along one direction (X --- indexes always jump in units one one)\n",
    "    \"\"\"\n",
    "    XL = sipm_map.id_xl.values\n",
    "    XR = sipm_map.id_xr.values\n",
    "    YU = sipm_map.id_yu.values\n",
    "    YD = sipm_map.id_yd.values\n",
    "    DX = [xr - xl if xl != NN and xr != NN else 2 for xl,xr in zip(XL, XR) ]\n",
    "    t1 = np.allclose(DX, 2, rtol=1e-03, atol=1e-03)\n",
    "    return t1\n"
   ]
  },
  {
   "cell_type": "markdown",
   "metadata": {},
   "source": [
    "# DATA"
   ]
  },
  {
   "cell_type": "code",
   "execution_count": 47,
   "metadata": {},
   "outputs": [],
   "source": [
    "VERBOSITY = True"
   ]
  },
  {
   "cell_type": "markdown",
   "metadata": {},
   "source": [
    "# Input data"
   ]
  },
  {
   "cell_type": "code",
   "execution_count": 50,
   "metadata": {},
   "outputs": [
    {
     "name": "stdout",
     "output_type": "stream",
     "text": [
      "                                                param_value\n",
      "param_key                                                  \n",
      "/Geometry/NextFlex/e_lifetime                     10000. ms\n",
      "/Geometry/NextFlex/el_gap_length                    10.  mm\n",
      "/Geometry/NextFlex/el_field_int             16. kilovolt/cm\n",
      "/Geometry/NextFlex/tp_sipm_anode_dist              13.1  mm\n",
      "/Geometry/NextFlex/tp_teflon_thickness               2.1 mm\n",
      "/Geometry/NextFlex/tp_teflon_hole_diam               3.  mm\n",
      "/Geometry/NextFlex/tp_sipm_sizeX                    1.0  mm\n",
      "/Geometry/NextFlex/tp_sipm_pitchX                  15.55 mm\n",
      "num_events                                              500\n",
      "TP_SiPM_binning                                1.000000 mus\n",
      "F_SENSOR_L_binning                             1.000000 mus\n",
      "F_SENSOR_R_binning                             1.000000 mus\n"
     ]
    }
   ],
   "source": [
    "# Verbosing main config parameters\n",
    "if VERBOSITY:\n",
    "    mcConfig = load_mcconfiguration('/Users/jj/Development/demoData/flex/NEXT_FLEX.Kr83.ACTIVE.0.next.h5')\n",
    "    mcConfig.set_index(\"param_key\", inplace = True)\n",
    "    main_params = [\"/Geometry/NextFlex/e_lifetime\", \"/Geometry/NextFlex/el_gap_length\",\n",
    "                   \"/Geometry/NextFlex/el_field_int\", \"/Geometry/NextFlex/tp_sipm_anode_dist\",\n",
    "                   \"/Geometry/NextFlex/tp_teflon_thickness\", \"/Geometry/NextFlex/tp_teflon_hole_diam\",\n",
    "                   \"/Geometry/NextFlex/tp_sipm_sizeX\", \"/Geometry/NextFlex/tp_sipm_pitchX\",\n",
    "                   \"num_events\", \"TP_SiPM_binning\", \"F_SENSOR_L_binning\", \"F_SENSOR_R_binning\"]\n",
    "    print(mcConfig.loc[main_params])\n"
   ]
  },
  {
   "cell_type": "code",
   "execution_count": 51,
   "metadata": {},
   "outputs": [
    {
     "data": {
      "text/plain": [
       "param_value           15.55 mm\n",
       "Name: /Geometry/NextFlex/tp_sipm_pitchX, dtype: object"
      ]
     },
     "execution_count": 51,
     "metadata": {},
     "output_type": "execute_result"
    }
   ],
   "source": [
    "par = mcConfig.loc[\"/Geometry/NextFlex/tp_sipm_pitchX\"]\n",
    "par"
   ]
  },
  {
   "cell_type": "markdown",
   "metadata": {},
   "source": [
    "## Extract pitch from params"
   ]
  },
  {
   "cell_type": "code",
   "execution_count": 52,
   "metadata": {},
   "outputs": [
    {
     "data": {
      "text/plain": [
       "15.55"
      ]
     },
     "execution_count": 52,
     "metadata": {},
     "output_type": "execute_result"
    }
   ],
   "source": [
    "pitch = float(par.param_value.split(' ')[-2])\n",
    "pitch"
   ]
  },
  {
   "cell_type": "markdown",
   "metadata": {},
   "source": [
    "## SiPMs are at indices < 10000 in dataframes "
   ]
  },
  {
   "cell_type": "code",
   "execution_count": 53,
   "metadata": {},
   "outputs": [],
   "source": [
    "sipm_index = 10000"
   ]
  },
  {
   "cell_type": "markdown",
   "metadata": {},
   "source": [
    "## Sensors"
   ]
  },
  {
   "cell_type": "code",
   "execution_count": 54,
   "metadata": {},
   "outputs": [
    {
     "data": {
      "text/html": [
       "<div>\n",
       "<style scoped>\n",
       "    .dataframe tbody tr th:only-of-type {\n",
       "        vertical-align: middle;\n",
       "    }\n",
       "\n",
       "    .dataframe tbody tr th {\n",
       "        vertical-align: top;\n",
       "    }\n",
       "\n",
       "    .dataframe thead th {\n",
       "        text-align: right;\n",
       "    }\n",
       "</style>\n",
       "<table border=\"1\" class=\"dataframe\">\n",
       "  <thead>\n",
       "    <tr style=\"text-align: right;\">\n",
       "      <th></th>\n",
       "      <th>bin_width</th>\n",
       "    </tr>\n",
       "    <tr>\n",
       "      <th>sns_name</th>\n",
       "      <th></th>\n",
       "    </tr>\n",
       "  </thead>\n",
       "  <tbody>\n",
       "    <tr>\n",
       "      <th>F_SENSOR_L</th>\n",
       "      <td>1000.0</td>\n",
       "    </tr>\n",
       "    <tr>\n",
       "      <th>F_SENSOR_R</th>\n",
       "      <td>1000.0</td>\n",
       "    </tr>\n",
       "    <tr>\n",
       "      <th>TP_SiPM</th>\n",
       "      <td>1000.0</td>\n",
       "    </tr>\n",
       "  </tbody>\n",
       "</table>\n",
       "</div>"
      ],
      "text/plain": [
       "            bin_width\n",
       "sns_name             \n",
       "F_SENSOR_L     1000.0\n",
       "F_SENSOR_R     1000.0\n",
       "TP_SiPM        1000.0"
      ]
     },
     "execution_count": 54,
     "metadata": {},
     "output_type": "execute_result"
    }
   ],
   "source": [
    "get_sensor_binning('/Users/jj/Development/demoData/flex/NEXT_FLEX.Kr83.ACTIVE.0.next.h5')"
   ]
  },
  {
   "cell_type": "code",
   "execution_count": 55,
   "metadata": {},
   "outputs": [
    {
     "data": {
      "text/html": [
       "<div>\n",
       "<style scoped>\n",
       "    .dataframe tbody tr th:only-of-type {\n",
       "        vertical-align: middle;\n",
       "    }\n",
       "\n",
       "    .dataframe tbody tr th {\n",
       "        vertical-align: top;\n",
       "    }\n",
       "\n",
       "    .dataframe thead th {\n",
       "        text-align: right;\n",
       "    }\n",
       "</style>\n",
       "<table border=\"1\" class=\"dataframe\">\n",
       "  <thead>\n",
       "    <tr style=\"text-align: right;\">\n",
       "      <th></th>\n",
       "      <th>sensor_id</th>\n",
       "      <th>sensor_name</th>\n",
       "    </tr>\n",
       "  </thead>\n",
       "  <tbody>\n",
       "    <tr>\n",
       "      <th>0</th>\n",
       "      <td>101521</td>\n",
       "      <td>F_SENSOR_L</td>\n",
       "    </tr>\n",
       "    <tr>\n",
       "      <th>1</th>\n",
       "      <td>101182</td>\n",
       "      <td>F_SENSOR_L</td>\n",
       "    </tr>\n",
       "    <tr>\n",
       "      <th>2</th>\n",
       "      <td>100055</td>\n",
       "      <td>F_SENSOR_L</td>\n",
       "    </tr>\n",
       "    <tr>\n",
       "      <th>3</th>\n",
       "      <td>101440</td>\n",
       "      <td>F_SENSOR_L</td>\n",
       "    </tr>\n",
       "    <tr>\n",
       "      <th>4</th>\n",
       "      <td>100910</td>\n",
       "      <td>F_SENSOR_L</td>\n",
       "    </tr>\n",
       "  </tbody>\n",
       "</table>\n",
       "</div>"
      ],
      "text/plain": [
       "   sensor_id sensor_name\n",
       "0     101521  F_SENSOR_L\n",
       "1     101182  F_SENSOR_L\n",
       "2     100055  F_SENSOR_L\n",
       "3     101440  F_SENSOR_L\n",
       "4     100910  F_SENSOR_L"
      ]
     },
     "execution_count": 55,
     "metadata": {},
     "output_type": "execute_result"
    }
   ],
   "source": [
    "sns_types = get_sensor_types('/Users/jj/Development/demoData/flex/NEXT_FLEX.Kr83.ACTIVE.0.next.h5')\n",
    "sns_types.head()"
   ]
  },
  {
   "cell_type": "code",
   "execution_count": 56,
   "metadata": {},
   "outputs": [
    {
     "data": {
      "text/html": [
       "<div>\n",
       "<style scoped>\n",
       "    .dataframe tbody tr th:only-of-type {\n",
       "        vertical-align: middle;\n",
       "    }\n",
       "\n",
       "    .dataframe tbody tr th {\n",
       "        vertical-align: top;\n",
       "    }\n",
       "\n",
       "    .dataframe thead th {\n",
       "        text-align: right;\n",
       "    }\n",
       "</style>\n",
       "<table border=\"1\" class=\"dataframe\">\n",
       "  <thead>\n",
       "    <tr style=\"text-align: right;\">\n",
       "      <th></th>\n",
       "      <th>sensor_id</th>\n",
       "      <th>sensor_name</th>\n",
       "      <th>x</th>\n",
       "      <th>y</th>\n",
       "      <th>z</th>\n",
       "    </tr>\n",
       "  </thead>\n",
       "  <tbody>\n",
       "    <tr>\n",
       "      <th>0</th>\n",
       "      <td>101521</td>\n",
       "      <td>F_SENSOR_L</td>\n",
       "      <td>-48.041859</td>\n",
       "      <td>490.653625</td>\n",
       "      <td>-30.299999</td>\n",
       "    </tr>\n",
       "    <tr>\n",
       "      <th>1</th>\n",
       "      <td>101182</td>\n",
       "      <td>F_SENSOR_L</td>\n",
       "      <td>-490.797882</td>\n",
       "      <td>46.545097</td>\n",
       "      <td>-30.299999</td>\n",
       "    </tr>\n",
       "    <tr>\n",
       "      <th>2</th>\n",
       "      <td>100055</td>\n",
       "      <td>F_SENSOR_L</td>\n",
       "      <td>109.353745</td>\n",
       "      <td>480.718994</td>\n",
       "      <td>-30.299999</td>\n",
       "    </tr>\n",
       "    <tr>\n",
       "      <th>3</th>\n",
       "      <td>101440</td>\n",
       "      <td>F_SENSOR_L</td>\n",
       "      <td>-204.177673</td>\n",
       "      <td>448.732086</td>\n",
       "      <td>-30.299999</td>\n",
       "    </tr>\n",
       "    <tr>\n",
       "      <th>4</th>\n",
       "      <td>100910</td>\n",
       "      <td>F_SENSOR_L</td>\n",
       "      <td>-261.533508</td>\n",
       "      <td>-417.910553</td>\n",
       "      <td>-30.299999</td>\n",
       "    </tr>\n",
       "  </tbody>\n",
       "</table>\n",
       "</div>"
      ],
      "text/plain": [
       "   sensor_id sensor_name           x           y          z\n",
       "0     101521  F_SENSOR_L  -48.041859  490.653625 -30.299999\n",
       "1     101182  F_SENSOR_L -490.797882   46.545097 -30.299999\n",
       "2     100055  F_SENSOR_L  109.353745  480.718994 -30.299999\n",
       "3     101440  F_SENSOR_L -204.177673  448.732086 -30.299999\n",
       "4     100910  F_SENSOR_L -261.533508 -417.910553 -30.299999"
      ]
     },
     "execution_count": 56,
     "metadata": {},
     "output_type": "execute_result"
    }
   ],
   "source": [
    "sns_positions = load_mcsensor_positions('/Users/jj/Development/demoData/flex/NEXT_FLEX.Kr83.ACTIVE.0.next.h5')\n",
    "sns_positions.head()"
   ]
  },
  {
   "cell_type": "markdown",
   "metadata": {},
   "source": [
    "## SiPM map"
   ]
  },
  {
   "cell_type": "code",
   "execution_count": 57,
   "metadata": {},
   "outputs": [
    {
     "data": {
      "text/html": [
       "<div>\n",
       "<style scoped>\n",
       "    .dataframe tbody tr th:only-of-type {\n",
       "        vertical-align: middle;\n",
       "    }\n",
       "\n",
       "    .dataframe tbody tr th {\n",
       "        vertical-align: top;\n",
       "    }\n",
       "\n",
       "    .dataframe thead th {\n",
       "        text-align: right;\n",
       "    }\n",
       "</style>\n",
       "<table border=\"1\" class=\"dataframe\">\n",
       "  <thead>\n",
       "    <tr style=\"text-align: right;\">\n",
       "      <th></th>\n",
       "      <th>index</th>\n",
       "      <th>sensor_id</th>\n",
       "      <th>sensor_name</th>\n",
       "      <th>x</th>\n",
       "      <th>y</th>\n",
       "      <th>z</th>\n",
       "    </tr>\n",
       "  </thead>\n",
       "  <tbody>\n",
       "    <tr>\n",
       "      <th>0</th>\n",
       "      <td>3090</td>\n",
       "      <td>1040</td>\n",
       "      <td>TP_SiPM</td>\n",
       "      <td>15.550000</td>\n",
       "      <td>-450.950012</td>\n",
       "      <td>-23.4</td>\n",
       "    </tr>\n",
       "    <tr>\n",
       "      <th>1</th>\n",
       "      <td>3091</td>\n",
       "      <td>4059</td>\n",
       "      <td>TP_SiPM</td>\n",
       "      <td>93.300003</td>\n",
       "      <td>450.950012</td>\n",
       "      <td>-23.4</td>\n",
       "    </tr>\n",
       "    <tr>\n",
       "      <th>2</th>\n",
       "      <td>3092</td>\n",
       "      <td>3753</td>\n",
       "      <td>TP_SiPM</td>\n",
       "      <td>-62.200001</td>\n",
       "      <td>326.549988</td>\n",
       "      <td>-23.4</td>\n",
       "    </tr>\n",
       "    <tr>\n",
       "      <th>3</th>\n",
       "      <td>3093</td>\n",
       "      <td>3842</td>\n",
       "      <td>TP_SiPM</td>\n",
       "      <td>-77.750000</td>\n",
       "      <td>357.649994</td>\n",
       "      <td>-23.4</td>\n",
       "    </tr>\n",
       "    <tr>\n",
       "      <th>4</th>\n",
       "      <td>3094</td>\n",
       "      <td>3797</td>\n",
       "      <td>TP_SiPM</td>\n",
       "      <td>-93.300003</td>\n",
       "      <td>342.100006</td>\n",
       "      <td>-23.4</td>\n",
       "    </tr>\n",
       "  </tbody>\n",
       "</table>\n",
       "</div>"
      ],
      "text/plain": [
       "   index  sensor_id sensor_name          x           y     z\n",
       "0   3090       1040     TP_SiPM  15.550000 -450.950012 -23.4\n",
       "1   3091       4059     TP_SiPM  93.300003  450.950012 -23.4\n",
       "2   3092       3753     TP_SiPM -62.200001  326.549988 -23.4\n",
       "3   3093       3842     TP_SiPM -77.750000  357.649994 -23.4\n",
       "4   3094       3797     TP_SiPM -93.300003  342.100006 -23.4"
      ]
     },
     "execution_count": 57,
     "metadata": {},
     "output_type": "execute_result"
    }
   ],
   "source": [
    "sipm_positions = sns_positions[sns_positions.sensor_id<sipm_index].reset_index()\n",
    "sipm_positions.head()"
   ]
  },
  {
   "cell_type": "code",
   "execution_count": 58,
   "metadata": {},
   "outputs": [
    {
     "name": "stdout",
     "output_type": "stream",
     "text": [
      "XMAX = 482.04998779296875 XMIN = -482.04998779296875 YMAX = 482.04998779296875 YMIN = -482.04998779296875\n"
     ]
    }
   ],
   "source": [
    "XMAX = sipm_positions.x.max()\n",
    "XMIN = sipm_positions.x.min()\n",
    "YMAX = sipm_positions.y.max()\n",
    "YMIN = sipm_positions.y.min()\n",
    "print(f'XMAX = {XMAX} XMIN = {XMIN} YMAX = {YMAX} YMIN = {YMIN}')"
   ]
  },
  {
   "cell_type": "code",
   "execution_count": 59,
   "metadata": {},
   "outputs": [],
   "source": [
    "sipm_map = sipm_pos(sipm_positions, pitch, verbose=False, eps=0.1)"
   ]
  },
  {
   "cell_type": "code",
   "execution_count": 60,
   "metadata": {},
   "outputs": [
    {
     "data": {
      "text/html": [
       "<div>\n",
       "<style scoped>\n",
       "    .dataframe tbody tr th:only-of-type {\n",
       "        vertical-align: middle;\n",
       "    }\n",
       "\n",
       "    .dataframe tbody tr th {\n",
       "        vertical-align: top;\n",
       "    }\n",
       "\n",
       "    .dataframe thead th {\n",
       "        text-align: right;\n",
       "    }\n",
       "</style>\n",
       "<table border=\"1\" class=\"dataframe\">\n",
       "  <thead>\n",
       "    <tr style=\"text-align: right;\">\n",
       "      <th></th>\n",
       "      <th>sensor_id</th>\n",
       "      <th>sensor_name</th>\n",
       "      <th>x</th>\n",
       "      <th>y</th>\n",
       "      <th>xl</th>\n",
       "      <th>xr</th>\n",
       "      <th>yu</th>\n",
       "      <th>yd</th>\n",
       "    </tr>\n",
       "  </thead>\n",
       "  <tbody>\n",
       "    <tr>\n",
       "      <th>0</th>\n",
       "      <td>1040</td>\n",
       "      <td>TP_SiPM</td>\n",
       "      <td>15.550000</td>\n",
       "      <td>-450.950012</td>\n",
       "      <td>1.907349e-07</td>\n",
       "      <td>31.100000</td>\n",
       "      <td>-435.400012</td>\n",
       "      <td>-466.500012</td>\n",
       "    </tr>\n",
       "    <tr>\n",
       "      <th>1</th>\n",
       "      <td>4059</td>\n",
       "      <td>TP_SiPM</td>\n",
       "      <td>93.300003</td>\n",
       "      <td>450.950012</td>\n",
       "      <td>7.775000e+01</td>\n",
       "      <td>108.850003</td>\n",
       "      <td>466.500012</td>\n",
       "      <td>435.400012</td>\n",
       "    </tr>\n",
       "    <tr>\n",
       "      <th>2</th>\n",
       "      <td>3753</td>\n",
       "      <td>TP_SiPM</td>\n",
       "      <td>-62.200001</td>\n",
       "      <td>326.549988</td>\n",
       "      <td>-7.775000e+01</td>\n",
       "      <td>-46.650001</td>\n",
       "      <td>342.099988</td>\n",
       "      <td>310.999988</td>\n",
       "    </tr>\n",
       "    <tr>\n",
       "      <th>3</th>\n",
       "      <td>3842</td>\n",
       "      <td>TP_SiPM</td>\n",
       "      <td>-77.750000</td>\n",
       "      <td>357.649994</td>\n",
       "      <td>-9.330000e+01</td>\n",
       "      <td>-62.200000</td>\n",
       "      <td>373.199994</td>\n",
       "      <td>342.099994</td>\n",
       "    </tr>\n",
       "    <tr>\n",
       "      <th>4</th>\n",
       "      <td>3797</td>\n",
       "      <td>TP_SiPM</td>\n",
       "      <td>-93.300003</td>\n",
       "      <td>342.100006</td>\n",
       "      <td>-1.088500e+02</td>\n",
       "      <td>-77.750003</td>\n",
       "      <td>357.650006</td>\n",
       "      <td>326.550006</td>\n",
       "    </tr>\n",
       "    <tr>\n",
       "      <th>...</th>\n",
       "      <td>...</td>\n",
       "      <td>...</td>\n",
       "      <td>...</td>\n",
       "      <td>...</td>\n",
       "      <td>...</td>\n",
       "      <td>...</td>\n",
       "      <td>...</td>\n",
       "      <td>...</td>\n",
       "    </tr>\n",
       "    <tr>\n",
       "      <th>3088</th>\n",
       "      <td>1717</td>\n",
       "      <td>TP_SiPM</td>\n",
       "      <td>311.000000</td>\n",
       "      <td>-217.699997</td>\n",
       "      <td>2.954500e+02</td>\n",
       "      <td>326.550000</td>\n",
       "      <td>-202.149997</td>\n",
       "      <td>-233.249997</td>\n",
       "    </tr>\n",
       "    <tr>\n",
       "      <th>3089</th>\n",
       "      <td>2317</td>\n",
       "      <td>TP_SiPM</td>\n",
       "      <td>357.649994</td>\n",
       "      <td>-62.200001</td>\n",
       "      <td>3.421000e+02</td>\n",
       "      <td>373.199994</td>\n",
       "      <td>-46.650001</td>\n",
       "      <td>-77.750001</td>\n",
       "    </tr>\n",
       "    <tr>\n",
       "      <th>3090</th>\n",
       "      <td>1676</td>\n",
       "      <td>TP_SiPM</td>\n",
       "      <td>-326.549988</td>\n",
       "      <td>-217.699997</td>\n",
       "      <td>-3.421000e+02</td>\n",
       "      <td>-310.999988</td>\n",
       "      <td>-202.149997</td>\n",
       "      <td>-233.249997</td>\n",
       "    </tr>\n",
       "    <tr>\n",
       "      <th>3091</th>\n",
       "      <td>3517</td>\n",
       "      <td>TP_SiPM</td>\n",
       "      <td>186.600006</td>\n",
       "      <td>248.800003</td>\n",
       "      <td>1.710500e+02</td>\n",
       "      <td>202.150006</td>\n",
       "      <td>264.350003</td>\n",
       "      <td>233.250003</td>\n",
       "    </tr>\n",
       "    <tr>\n",
       "      <th>3092</th>\n",
       "      <td>2241</td>\n",
       "      <td>TP_SiPM</td>\n",
       "      <td>139.949997</td>\n",
       "      <td>-77.750000</td>\n",
       "      <td>1.244000e+02</td>\n",
       "      <td>155.499997</td>\n",
       "      <td>-62.200000</td>\n",
       "      <td>-93.300000</td>\n",
       "    </tr>\n",
       "  </tbody>\n",
       "</table>\n",
       "<p>3093 rows × 8 columns</p>\n",
       "</div>"
      ],
      "text/plain": [
       "      sensor_id sensor_name           x           y            xl          xr  \\\n",
       "0          1040     TP_SiPM   15.550000 -450.950012  1.907349e-07   31.100000   \n",
       "1          4059     TP_SiPM   93.300003  450.950012  7.775000e+01  108.850003   \n",
       "2          3753     TP_SiPM  -62.200001  326.549988 -7.775000e+01  -46.650001   \n",
       "3          3842     TP_SiPM  -77.750000  357.649994 -9.330000e+01  -62.200000   \n",
       "4          3797     TP_SiPM  -93.300003  342.100006 -1.088500e+02  -77.750003   \n",
       "...         ...         ...         ...         ...           ...         ...   \n",
       "3088       1717     TP_SiPM  311.000000 -217.699997  2.954500e+02  326.550000   \n",
       "3089       2317     TP_SiPM  357.649994  -62.200001  3.421000e+02  373.199994   \n",
       "3090       1676     TP_SiPM -326.549988 -217.699997 -3.421000e+02 -310.999988   \n",
       "3091       3517     TP_SiPM  186.600006  248.800003  1.710500e+02  202.150006   \n",
       "3092       2241     TP_SiPM  139.949997  -77.750000  1.244000e+02  155.499997   \n",
       "\n",
       "              yu          yd  \n",
       "0    -435.400012 -466.500012  \n",
       "1     466.500012  435.400012  \n",
       "2     342.099988  310.999988  \n",
       "3     373.199994  342.099994  \n",
       "4     357.650006  326.550006  \n",
       "...          ...         ...  \n",
       "3088 -202.149997 -233.249997  \n",
       "3089  -46.650001  -77.750001  \n",
       "3090 -202.149997 -233.249997  \n",
       "3091  264.350003  233.250003  \n",
       "3092  -62.200000  -93.300000  \n",
       "\n",
       "[3093 rows x 8 columns]"
      ]
     },
     "execution_count": 60,
     "metadata": {},
     "output_type": "execute_result"
    }
   ],
   "source": [
    "sipm_map"
   ]
  },
  {
   "cell_type": "code",
   "execution_count": 61,
   "metadata": {},
   "outputs": [
    {
     "data": {
      "text/plain": [
       "True"
      ]
     },
     "execution_count": 61,
     "metadata": {},
     "output_type": "execute_result"
    }
   ],
   "source": [
    "sipm_pos_test(sipm_map, pitch, verbose=False, eps=0.1, icount=100)"
   ]
  },
  {
   "cell_type": "code",
   "execution_count": 62,
   "metadata": {},
   "outputs": [],
   "source": [
    "sipm_indx(sipm_map)"
   ]
  },
  {
   "cell_type": "code",
   "execution_count": 63,
   "metadata": {},
   "outputs": [
    {
     "data": {
      "text/html": [
       "<div>\n",
       "<style scoped>\n",
       "    .dataframe tbody tr th:only-of-type {\n",
       "        vertical-align: middle;\n",
       "    }\n",
       "\n",
       "    .dataframe tbody tr th {\n",
       "        vertical-align: top;\n",
       "    }\n",
       "\n",
       "    .dataframe thead th {\n",
       "        text-align: right;\n",
       "    }\n",
       "</style>\n",
       "<table border=\"1\" class=\"dataframe\">\n",
       "  <thead>\n",
       "    <tr style=\"text-align: right;\">\n",
       "      <th></th>\n",
       "      <th>sensor_id</th>\n",
       "      <th>sensor_name</th>\n",
       "      <th>x</th>\n",
       "      <th>y</th>\n",
       "      <th>xl</th>\n",
       "      <th>xr</th>\n",
       "      <th>yu</th>\n",
       "      <th>yd</th>\n",
       "      <th>id_xl</th>\n",
       "      <th>id_xr</th>\n",
       "      <th>id_yu</th>\n",
       "      <th>id_yd</th>\n",
       "    </tr>\n",
       "  </thead>\n",
       "  <tbody>\n",
       "    <tr>\n",
       "      <th>0</th>\n",
       "      <td>1040</td>\n",
       "      <td>TP_SiPM</td>\n",
       "      <td>15.550000</td>\n",
       "      <td>-450.950012</td>\n",
       "      <td>1.907349e-07</td>\n",
       "      <td>31.100000</td>\n",
       "      <td>-435.400012</td>\n",
       "      <td>-466.500012</td>\n",
       "      <td>1039</td>\n",
       "      <td>1041</td>\n",
       "      <td>1066</td>\n",
       "      <td>1019</td>\n",
       "    </tr>\n",
       "    <tr>\n",
       "      <th>1</th>\n",
       "      <td>4059</td>\n",
       "      <td>TP_SiPM</td>\n",
       "      <td>93.300003</td>\n",
       "      <td>450.950012</td>\n",
       "      <td>7.775000e+01</td>\n",
       "      <td>108.850003</td>\n",
       "      <td>466.500012</td>\n",
       "      <td>435.400012</td>\n",
       "      <td>4058</td>\n",
       "      <td>4060</td>\n",
       "      <td>4080</td>\n",
       "      <td>4033</td>\n",
       "    </tr>\n",
       "    <tr>\n",
       "      <th>2</th>\n",
       "      <td>3753</td>\n",
       "      <td>TP_SiPM</td>\n",
       "      <td>-62.200001</td>\n",
       "      <td>326.549988</td>\n",
       "      <td>-7.775000e+01</td>\n",
       "      <td>-46.650001</td>\n",
       "      <td>342.099988</td>\n",
       "      <td>310.999988</td>\n",
       "      <td>3752</td>\n",
       "      <td>3754</td>\n",
       "      <td>3799</td>\n",
       "      <td>3705</td>\n",
       "    </tr>\n",
       "    <tr>\n",
       "      <th>3</th>\n",
       "      <td>3842</td>\n",
       "      <td>TP_SiPM</td>\n",
       "      <td>-77.750000</td>\n",
       "      <td>357.649994</td>\n",
       "      <td>-9.330000e+01</td>\n",
       "      <td>-62.200000</td>\n",
       "      <td>373.199994</td>\n",
       "      <td>342.099994</td>\n",
       "      <td>3841</td>\n",
       "      <td>3843</td>\n",
       "      <td>3884</td>\n",
       "      <td>3798</td>\n",
       "    </tr>\n",
       "    <tr>\n",
       "      <th>4</th>\n",
       "      <td>3797</td>\n",
       "      <td>TP_SiPM</td>\n",
       "      <td>-93.300003</td>\n",
       "      <td>342.100006</td>\n",
       "      <td>-1.088500e+02</td>\n",
       "      <td>-77.750003</td>\n",
       "      <td>357.650006</td>\n",
       "      <td>326.550006</td>\n",
       "      <td>3796</td>\n",
       "      <td>3798</td>\n",
       "      <td>3841</td>\n",
       "      <td>3751</td>\n",
       "    </tr>\n",
       "    <tr>\n",
       "      <th>...</th>\n",
       "      <td>...</td>\n",
       "      <td>...</td>\n",
       "      <td>...</td>\n",
       "      <td>...</td>\n",
       "      <td>...</td>\n",
       "      <td>...</td>\n",
       "      <td>...</td>\n",
       "      <td>...</td>\n",
       "      <td>...</td>\n",
       "      <td>...</td>\n",
       "      <td>...</td>\n",
       "      <td>...</td>\n",
       "    </tr>\n",
       "    <tr>\n",
       "      <th>3088</th>\n",
       "      <td>1717</td>\n",
       "      <td>TP_SiPM</td>\n",
       "      <td>311.000000</td>\n",
       "      <td>-217.699997</td>\n",
       "      <td>2.954500e+02</td>\n",
       "      <td>326.550000</td>\n",
       "      <td>-202.149997</td>\n",
       "      <td>-233.249997</td>\n",
       "      <td>1716</td>\n",
       "      <td>1718</td>\n",
       "      <td>1774</td>\n",
       "      <td>1661</td>\n",
       "    </tr>\n",
       "    <tr>\n",
       "      <th>3089</th>\n",
       "      <td>2317</td>\n",
       "      <td>TP_SiPM</td>\n",
       "      <td>357.649994</td>\n",
       "      <td>-62.200001</td>\n",
       "      <td>3.421000e+02</td>\n",
       "      <td>373.199994</td>\n",
       "      <td>-46.650001</td>\n",
       "      <td>-77.750001</td>\n",
       "      <td>2316</td>\n",
       "      <td>2318</td>\n",
       "      <td>2380</td>\n",
       "      <td>2255</td>\n",
       "    </tr>\n",
       "    <tr>\n",
       "      <th>3090</th>\n",
       "      <td>1676</td>\n",
       "      <td>TP_SiPM</td>\n",
       "      <td>-326.549988</td>\n",
       "      <td>-217.699997</td>\n",
       "      <td>-3.421000e+02</td>\n",
       "      <td>-310.999988</td>\n",
       "      <td>-202.149997</td>\n",
       "      <td>-233.249997</td>\n",
       "      <td>1675</td>\n",
       "      <td>1677</td>\n",
       "      <td>1733</td>\n",
       "      <td>1620</td>\n",
       "    </tr>\n",
       "    <tr>\n",
       "      <th>3091</th>\n",
       "      <td>3517</td>\n",
       "      <td>TP_SiPM</td>\n",
       "      <td>186.600006</td>\n",
       "      <td>248.800003</td>\n",
       "      <td>1.710500e+02</td>\n",
       "      <td>202.150006</td>\n",
       "      <td>264.350003</td>\n",
       "      <td>233.250003</td>\n",
       "      <td>3516</td>\n",
       "      <td>3518</td>\n",
       "      <td>3570</td>\n",
       "      <td>3463</td>\n",
       "    </tr>\n",
       "    <tr>\n",
       "      <th>3092</th>\n",
       "      <td>2241</td>\n",
       "      <td>TP_SiPM</td>\n",
       "      <td>139.949997</td>\n",
       "      <td>-77.750000</td>\n",
       "      <td>1.244000e+02</td>\n",
       "      <td>155.499997</td>\n",
       "      <td>-62.200000</td>\n",
       "      <td>-93.300000</td>\n",
       "      <td>2240</td>\n",
       "      <td>2242</td>\n",
       "      <td>2303</td>\n",
       "      <td>2180</td>\n",
       "    </tr>\n",
       "  </tbody>\n",
       "</table>\n",
       "<p>3093 rows × 12 columns</p>\n",
       "</div>"
      ],
      "text/plain": [
       "      sensor_id sensor_name           x           y            xl          xr  \\\n",
       "0          1040     TP_SiPM   15.550000 -450.950012  1.907349e-07   31.100000   \n",
       "1          4059     TP_SiPM   93.300003  450.950012  7.775000e+01  108.850003   \n",
       "2          3753     TP_SiPM  -62.200001  326.549988 -7.775000e+01  -46.650001   \n",
       "3          3842     TP_SiPM  -77.750000  357.649994 -9.330000e+01  -62.200000   \n",
       "4          3797     TP_SiPM  -93.300003  342.100006 -1.088500e+02  -77.750003   \n",
       "...         ...         ...         ...         ...           ...         ...   \n",
       "3088       1717     TP_SiPM  311.000000 -217.699997  2.954500e+02  326.550000   \n",
       "3089       2317     TP_SiPM  357.649994  -62.200001  3.421000e+02  373.199994   \n",
       "3090       1676     TP_SiPM -326.549988 -217.699997 -3.421000e+02 -310.999988   \n",
       "3091       3517     TP_SiPM  186.600006  248.800003  1.710500e+02  202.150006   \n",
       "3092       2241     TP_SiPM  139.949997  -77.750000  1.244000e+02  155.499997   \n",
       "\n",
       "              yu          yd  id_xl  id_xr  id_yu  id_yd  \n",
       "0    -435.400012 -466.500012   1039   1041   1066   1019  \n",
       "1     466.500012  435.400012   4058   4060   4080   4033  \n",
       "2     342.099988  310.999988   3752   3754   3799   3705  \n",
       "3     373.199994  342.099994   3841   3843   3884   3798  \n",
       "4     357.650006  326.550006   3796   3798   3841   3751  \n",
       "...          ...         ...    ...    ...    ...    ...  \n",
       "3088 -202.149997 -233.249997   1716   1718   1774   1661  \n",
       "3089  -46.650001  -77.750001   2316   2318   2380   2255  \n",
       "3090 -202.149997 -233.249997   1675   1677   1733   1620  \n",
       "3091  264.350003  233.250003   3516   3518   3570   3463  \n",
       "3092  -62.200000  -93.300000   2240   2242   2303   2180  \n",
       "\n",
       "[3093 rows x 12 columns]"
      ]
     },
     "execution_count": 63,
     "metadata": {},
     "output_type": "execute_result"
    }
   ],
   "source": [
    "sipm_map"
   ]
  },
  {
   "cell_type": "code",
   "execution_count": 64,
   "metadata": {},
   "outputs": [
    {
     "data": {
      "text/plain": [
       "True"
      ]
     },
     "execution_count": 64,
     "metadata": {},
     "output_type": "execute_result"
    }
   ],
   "source": [
    "sipm_indx_test(sipm_map)"
   ]
  },
  {
   "cell_type": "code",
   "execution_count": 65,
   "metadata": {},
   "outputs": [
    {
     "data": {
      "text/plain": [
       "<matplotlib.axes._subplots.AxesSubplot at 0x7f8361968a90>"
      ]
     },
     "execution_count": 65,
     "metadata": {},
     "output_type": "execute_result"
    },
    {
     "data": {
      "image/png": "[encoded data removed]",
      "text/plain": [
       "<Figure size 576x432 with 1 Axes>"
      ]
     },
     "metadata": {
      "needs_background": "light"
     },
     "output_type": "display_data"
    }
   ],
   "source": [
    "sipm_map.plot(kind='scatter', x='x', y='y')"
   ]
  },
  {
   "cell_type": "code",
   "execution_count": 66,
   "metadata": {},
   "outputs": [
    {
     "data": {
      "text/plain": [
       "<matplotlib.axes._subplots.AxesSubplot at 0x7f8361bf0b10>"
      ]
     },
     "execution_count": 66,
     "metadata": {},
     "output_type": "execute_result"
    },
    {
     "data": {
      "image/png": "[encoded data removed]",
      "text/plain": [
       "<Figure size 576x432 with 1 Axes>"
      ]
     },
     "metadata": {
      "needs_background": "light"
     },
     "output_type": "display_data"
    }
   ],
   "source": [
    "sipm_map.plot(kind='scatter', x='x', y='xl')"
   ]
  },
  {
   "cell_type": "code",
   "execution_count": 67,
   "metadata": {},
   "outputs": [
    {
     "data": {
      "text/plain": [
       "<matplotlib.axes._subplots.AxesSubplot at 0x7f83303cedd0>"
      ]
     },
     "execution_count": 67,
     "metadata": {},
     "output_type": "execute_result"
    },
    {
     "data": {
      "image/png": "[encoded data removed]",
      "text/plain": [
       "<Figure size 576x432 with 1 Axes>"
      ]
     },
     "metadata": {
      "needs_background": "light"
     },
     "output_type": "display_data"
    }
   ],
   "source": [
    "sipm_map.plot(kind='scatter', x='x', y='xr')"
   ]
  },
  {
   "cell_type": "code",
   "execution_count": 68,
   "metadata": {},
   "outputs": [
    {
     "data": {
      "text/plain": [
       "<matplotlib.axes._subplots.AxesSubplot at 0x7f8361af7a90>"
      ]
     },
     "execution_count": 68,
     "metadata": {},
     "output_type": "execute_result"
    },
    {
     "data": {
      "image/png": "[encoded data removed]",
      "text/plain": [
       "<Figure size 576x432 with 1 Axes>"
      ]
     },
     "metadata": {
      "needs_background": "light"
     },
     "output_type": "display_data"
    }
   ],
   "source": [
    "sipm_map.plot(kind='scatter', x='y', y='yu')"
   ]
  },
  {
   "cell_type": "code",
   "execution_count": 69,
   "metadata": {},
   "outputs": [
    {
     "data": {
      "text/plain": [
       "<matplotlib.axes._subplots.AxesSubplot at 0x7f83305d9e50>"
      ]
     },
     "execution_count": 69,
     "metadata": {},
     "output_type": "execute_result"
    },
    {
     "data": {
      "image/png": "[encoded data removed]",
      "text/plain": [
       "<Figure size 576x432 with 1 Axes>"
      ]
     },
     "metadata": {
      "needs_background": "light"
     },
     "output_type": "display_data"
    }
   ],
   "source": [
    "sipm_map.plot(kind='scatter', x='y', y='yd')"
   ]
  },
  {
   "cell_type": "code",
   "execution_count": 70,
   "metadata": {},
   "outputs": [],
   "source": [
    "sipm_map.to_csv('sipm_map.csv')"
   ]
  },
  {
   "cell_type": "code",
   "execution_count": null,
   "metadata": {},
   "outputs": [],
   "source": []
  }
 ],
 "metadata": {
  "kernelspec": {
   "display_name": "Python 3",
   "language": "python",
   "name": "python3"
  },
  "language_info": {
   "codemirror_mode": {
    "name": "ipython",
    "version": 3
   },
   "file_extension": ".py",
   "mimetype": "text/x-python",
   "name": "python",
   "nbconvert_exporter": "python",
   "pygments_lexer": "ipython3",
   "version": "3.7.7"
  }
 },
 "nbformat": 4,
 "nbformat_minor": 4
}
