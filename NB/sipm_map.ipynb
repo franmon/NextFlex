{
 "cells": [
  {
   "cell_type": "markdown",
   "metadata": {},
   "source": [
    "<p style=\"font-family: Arial; font-size:3.75em;color:purple; font-style:bold\"><br>\n",
    "'SiPM MAP' Study</p><br>"
   ]
  },
  {
   "cell_type": "markdown",
   "metadata": {},
   "source": [
    "# This notebook computes a sipm map needed for the NextFlex studies"
   ]
  },
  {
   "cell_type": "code",
   "execution_count": 1,
   "metadata": {},
   "outputs": [
    {
     "data": {
      "text/html": [
       "<style>body {\n",
       "    margin: 0;\n",
       "    font-family: Helvetica;\n",
       "}\n",
       "table.dataframe {\n",
       "    border-collapse: collapse;\n",
       "    border: none;\n",
       "}\n",
       "table.dataframe tr {\n",
       "    border: none;\n",
       "}\n",
       "table.dataframe td, table.dataframe th {\n",
       "    margin: 0;\n",
       "    border: 1px solid white;\n",
       "    padding-left: 0.25em;\n",
       "    padding-right: 0.25em;\n",
       "}\n",
       "table.dataframe th:not(:empty) {\n",
       "    background-color: #fec;\n",
       "    text-align: left;\n",
       "    font-weight: normal;\n",
       "}\n",
       "table.dataframe tr:nth-child(2) th:empty {\n",
       "    border-left: none;\n",
       "    border-right: 1px dashed #888;\n",
       "}\n",
       "table.dataframe td {\n",
       "    border: 2px solid #ccf;\n",
       "    background-color: #f4f4ff;\n",
       "}\n",
       "h3 {\n",
       "    color: white;\n",
       "    background-color: black;\n",
       "    padding: 0.5em;\n",
       "}\n",
       "</style>"
      ],
      "text/plain": [
       "<IPython.core.display.HTML object>"
      ]
     },
     "execution_count": 1,
     "metadata": {},
     "output_type": "execute_result"
    }
   ],
   "source": [
    "from IPython.core.display import HTML\n",
    "css = open('style-table.css').read() + open('style-notebook.css').read()\n",
    "HTML('<style>{}</style>'.format(css))"
   ]
  },
  {
   "cell_type": "code",
   "execution_count": 2,
   "metadata": {},
   "outputs": [],
   "source": [
    "# General importings\n",
    "import os\n",
    "import sys\n",
    "import glob\n",
    "import logging\n",
    "import math\n",
    "import numpy  as np\n",
    "import tables as tb\n",
    "import pandas as pd\n",
    "import matplotlib.pyplot as plt\n",
    "from matplotlib import colors\n",
    "\n",
    "# Specific IC stuff\n",
    "import invisible_cities.core.system_of_units  as units\n",
    "\n",
    "from invisible_cities.io.mcinfo_io import load_mcconfiguration\n",
    "from invisible_cities.io.mcinfo_io import load_mcparticles_df\n",
    "from invisible_cities.io.mcinfo_io import load_mchits_df\n",
    "from invisible_cities.io.mcinfo_io import load_mcsensor_positions\n",
    "from invisible_cities.io.mcinfo_io import load_mcsensor_response_df\n",
    "from invisible_cities.io.mcinfo_io import get_sensor_types\n",
    "from invisible_cities.io.mcinfo_io import get_sensor_binning\n",
    "from invisible_cities.io.mcinfo_io import get_event_numbers_in_file\n",
    "from invisible_cities.core.core_functions import in_range\n"
   ]
  },
  {
   "cell_type": "code",
   "execution_count": 3,
   "metadata": {},
   "outputs": [],
   "source": [
    "%matplotlib inline\n",
    "%load_ext autoreload\n",
    "%autoreload 2"
   ]
  },
  {
   "cell_type": "code",
   "execution_count": 4,
   "metadata": {},
   "outputs": [],
   "source": [
    "plt.rcParams[\"figure.figsize\"] = 8, 6\n",
    "plt.rcParams[\"font.size\"     ] = 14"
   ]
  },
  {
   "cell_type": "markdown",
   "metadata": {},
   "source": [
    "# Code"
   ]
  },
  {
   "cell_type": "code",
   "execution_count": 5,
   "metadata": {},
   "outputs": [],
   "source": [
    "NN= -999999  # No Number, a trick to aovid nans in data structs\n",
    "\n",
    "\n",
    "class NNN:\n",
    "\n",
    "    def __getattr__(self, _):\n",
    "        return NN\n"
   ]
  },
  {
   "cell_type": "code",
   "execution_count": 23,
   "metadata": {},
   "outputs": [],
   "source": [
    "def sipm_pos(sipm_positions, pitch, verbose=False, eps=0.1, icount=100):\n",
    "    \"\"\"Takes a dataframe with the sipm_positions and:\n",
    "    1. drops z position (not needed)\n",
    "    2. for each sipm computes the xl, xr, yu, yd positions corresponding to:\n",
    "       xl : sipm to the left along x axis of the sipm at position (x,y)\n",
    "       xr : sipm to the right along x axis of the sipm at position (x,y)\n",
    "       yu : sipm up along y axis of the sipm at position (x,y)\n",
    "       yd : sipm down along y axis of the sipm at position (x,y)\n",
    "       \n",
    "    \"\"\"\n",
    "    \n",
    "    def return_index(x,y):\n",
    "        spx = sipm_positions[in_range(sipm_positions.x, x-eps, x+eps)]\n",
    "        spxy = spx[in_range(spx.y, y-eps, y+eps)]\n",
    "        if len(spxy.sensor_id.values) > 0:\n",
    "            return spxy.sensor_id.values[0]\n",
    "        else:\n",
    "            return NN\n",
    "\n",
    "    \n",
    "    def compute_position(px, py, PMIN, PMAX, coord):\n",
    "        if verbose: \n",
    "            print(f'compute position: px ={px}, py = {py}')\n",
    "        \n",
    "        xl, xr = px - pitch, px + pitch \n",
    "        if coord == 'x':\n",
    "            ixl = return_index(xl,py)\n",
    "            ixr = return_index(xr,py)\n",
    "        else:\n",
    "            ixl = return_index(py,xl)\n",
    "            ixr = return_index(py,xr)\n",
    "\n",
    "        if ixl   == NN:\n",
    "            xl = NN\n",
    "        elif ixr == NN:\n",
    "            xr = NN\n",
    "\n",
    "        return xl, xr\n",
    "\n",
    "    xL = []\n",
    "    xR = []\n",
    "    yU = []\n",
    "    yD = []\n",
    "    \n",
    "    X = sipm_positions.x.values\n",
    "    Y = sipm_positions.y.values\n",
    "    new_positions = (sipm_positions.drop(columns=['z','index'])).copy()\n",
    "    for i, (xpos, ypos) in enumerate(zip(X,Y)): \n",
    "        if verbose and i%icount == 0:\n",
    "            print(i)\n",
    "        \n",
    "        xl, xr = compute_position(xpos, ypos, XMIN, XMAX, coord='x')\n",
    "        yu, yd  = compute_position(ypos, xpos, YMIN, YMAX, coord='y')\n",
    "        \n",
    "        if verbose and i%icount == 0:\n",
    "            print(f' sipm = {i}, x = {xpos}, y = {ypos}, xl = {xl}, yl = {yu}, xr = {xr}, yd = {yd}')\n",
    "            \n",
    "        \n",
    "        xL.append(xl)\n",
    "        xR.append(xr)\n",
    "        yU.append(yu)\n",
    "        yD.append(yd)\n",
    "    \n",
    "    new_positions['xl'] = xL\n",
    "    new_positions['xr'] = xR\n",
    "    new_positions['yu'] = yD  # yD is really yup\n",
    "    new_positions['yd'] = yU\n",
    "    \n",
    "    return new_positions\n",
    "    \n",
    "    \n",
    " "
   ]
  },
  {
   "cell_type": "code",
   "execution_count": 7,
   "metadata": {},
   "outputs": [],
   "source": [
    "def sipm_pos_test(sipm_map, pitch, verbose=False, eps=0.1, icount=100):\n",
    "    \"\"\"Tests that the difference between left-right (up-down) is 2 * pitch\n",
    "       skipping SiPMs in the edges\n",
    "    \"\"\"\n",
    "    XL = sipm_map.xl.values\n",
    "    XR = sipm_map.xr.values\n",
    "    YU = sipm_map.yu.values\n",
    "    YD = sipm_map.yd.values\n",
    "    P = np.array(len(XL) *[2 * pitch])\n",
    "    DX = [xr - xl if xl != NN and xr != NN else 2 * pitch for xl,xr in zip(XL, XR) ]\n",
    "    DY = [yu - yd if yu != NN and yd != NN else 2 * pitch for yu,yd in zip(YU, YD) ]\n",
    "    t1 = np.allclose(DX, P, rtol=1e-03, atol=1e-03)\n",
    "    t2 = np.allclose(DY, P, rtol=1e-03, atol=1e-03)\n",
    "    return t1 and t2\n",
    "    "
   ]
  },
  {
   "cell_type": "code",
   "execution_count": 27,
   "metadata": {},
   "outputs": [],
   "source": [
    "def sipm_indx(sipm_map, eps=0.1):\n",
    "    \"\"\"Takes a dataframe with the sipm_map and adds de sipm indexes of xl, xr, yl, yr\n",
    "    \"\"\"\n",
    "    def index_search(xv, yv, XL):\n",
    "        spx  = sipm_map[in_range(sipm_map.x, xv - eps, xv + eps)] \n",
    "        spxy = spx[in_range(spx.y, yv - eps, yv + eps)]\n",
    "        if len(spxy.sensor_id.values) == 1:\n",
    "            XL.append(spxy.sensor_id.values[0])\n",
    "        else:\n",
    "            XL.append(NN)\n",
    "    iXL=[]\n",
    "    iXR=[]\n",
    "    iYU=[]\n",
    "    iYD=[]\n",
    "    for i in sipm_map.index:\n",
    "        sipm = sipm_map.loc[i]\n",
    "        index_search(sipm.xl, sipm.y,  iXL)\n",
    "        index_search(sipm.xr, sipm.y,  iXR)\n",
    "        index_search(sipm.x,  sipm.yu, iYU)\n",
    "        index_search(sipm.x,  sipm.yd, iYD)\n",
    "\n",
    "    sipm_map['id_xl'] = iXL\n",
    "    sipm_map['id_xr'] = iXR\n",
    "    sipm_map['id_yu'] = iYU\n",
    "    sipm_map['id_yd'] = iYD\n"
   ]
  },
  {
   "cell_type": "code",
   "execution_count": 30,
   "metadata": {},
   "outputs": [],
   "source": [
    "def sipm_indx_test(sipm_map, eps=0.1):\n",
    "    \"\"\"Checks that the indexes match along one direction (X --- indexes always jump in units one one)\n",
    "    \"\"\"\n",
    "    XL = sipm_map.id_xl.values\n",
    "    XR = sipm_map.id_xr.values\n",
    "    YU = sipm_map.id_yu.values\n",
    "    YD = sipm_map.id_yd.values\n",
    "    DX = [xr - xl if xl != NN and xr != NN else 2 for xl,xr in zip(XL, XR) ]\n",
    "    t1 = np.allclose(DX, 2, rtol=1e-03, atol=1e-03)\n",
    "    return t1\n"
   ]
  },
  {
   "cell_type": "markdown",
   "metadata": {},
   "source": [
    "# DATA"
   ]
  },
  {
   "cell_type": "code",
   "execution_count": 8,
   "metadata": {},
   "outputs": [],
   "source": [
    "VERBOSITY = True"
   ]
  },
  {
   "cell_type": "markdown",
   "metadata": {},
   "source": [
    "# Input data"
   ]
  },
  {
   "cell_type": "code",
   "execution_count": 9,
   "metadata": {},
   "outputs": [],
   "source": [
    "iPATH = \"/Users/jj/Development/demoData/flex\""
   ]
  },
  {
   "cell_type": "code",
   "execution_count": 10,
   "metadata": {},
   "outputs": [
    {
     "name": "stdout",
     "output_type": "stream",
     "text": [
      "2 input file names ...\n",
      "\n",
      "/Users/jj/Development/demoData/flex/NEXT_FLEX.Kr83.ACTIVE.0.next.h5\n",
      "[ 0  1  2  3  4  5  6  7  8  9 10 11 12 13 14 15 16 17 18 19 20 21 22 23\n",
      " 24 25 26 27 28 29 30 31 32 33 34 35 36 37 38 39 40 41 42 43 44 45 46 47\n",
      " 48 49 50 51 52 53 54 55 56 57 58 59 60 61 62 63 64 65 66 67 68 69 70 71\n",
      " 72 73 74 75 76 77 78 79 80 81 82 83 84 85 86 87 88 89 90 91 92 93 94 95\n",
      " 96 97 98 99]\n",
      "/Users/jj/Development/demoData/flex/NEXT_FLEX.Kr83.ACTIVE.1.next.h5\n",
      "[100 101 102 103 104 105 106 107 108 109 110 111 112 113 114 115 116 117\n",
      " 118 119 120 121 122 123 124 125 126 127 128 129 130 131 132 133 134 135\n",
      " 136 137 138 139 140 141 142 143 144 145 146 147 148 149 150 151 152 153\n",
      " 154 155 156 157 158 159 160 161 162 163 164 165 166 167 168 169 170 171\n",
      " 172 173 174 175 176 177 178 179 180 181 182 183 184 185 186 187 188 189\n",
      " 190 191 192 193 194 195 196 197 198 199]\n"
     ]
    }
   ],
   "source": [
    "ifnames = glob.glob(f\"{iPATH}/*.h5\")\n",
    "\n",
    "if VERBOSITY:\n",
    "    print(f\"{len(ifnames)} input file names ...\\n\")\n",
    "    for ifname in ifnames:\n",
    "        print(ifname)\n",
    "        print(get_event_numbers_in_file(ifname))"
   ]
  },
  {
   "cell_type": "code",
   "execution_count": 11,
   "metadata": {},
   "outputs": [
    {
     "name": "stdout",
     "output_type": "stream",
     "text": [
      "                                                param_value\n",
      "param_key                                                  \n",
      "/Geometry/NextFlex/e_lifetime                     10000. ms\n",
      "/Geometry/NextFlex/el_gap_length                    10.  mm\n",
      "/Geometry/NextFlex/el_field_int             16. kilovolt/cm\n",
      "/Geometry/NextFlex/tp_sipm_anode_dist              13.1  mm\n",
      "/Geometry/NextFlex/tp_teflon_thickness               2.1 mm\n",
      "/Geometry/NextFlex/tp_teflon_hole_diam               3.  mm\n",
      "/Geometry/NextFlex/tp_sipm_sizeX                    1.0  mm\n",
      "/Geometry/NextFlex/tp_sipm_pitchX                  15.55 mm\n",
      "num_events                                              100\n",
      "TP_SiPM_binning                                1.000000 mus\n",
      "F_SENSOR_L_binning                             0.001000 mus\n",
      "F_SENSOR_R_binning                             0.001000 mus\n"
     ]
    }
   ],
   "source": [
    "# Verbosing main config parameters\n",
    "if VERBOSITY:\n",
    "    mcConfig = load_mcconfiguration(ifnames[0])\n",
    "    mcConfig.set_index(\"param_key\", inplace = True)\n",
    "    main_params = [\"/Geometry/NextFlex/e_lifetime\", \"/Geometry/NextFlex/el_gap_length\",\n",
    "                   \"/Geometry/NextFlex/el_field_int\", \"/Geometry/NextFlex/tp_sipm_anode_dist\",\n",
    "                   \"/Geometry/NextFlex/tp_teflon_thickness\", \"/Geometry/NextFlex/tp_teflon_hole_diam\",\n",
    "                   \"/Geometry/NextFlex/tp_sipm_sizeX\", \"/Geometry/NextFlex/tp_sipm_pitchX\",\n",
    "                   \"num_events\", \"TP_SiPM_binning\", \"F_SENSOR_L_binning\", \"F_SENSOR_R_binning\"]\n",
    "    print(mcConfig.loc[main_params])\n"
   ]
  },
  {
   "cell_type": "code",
   "execution_count": 12,
   "metadata": {},
   "outputs": [
    {
     "data": {
      "text/plain": [
       "param_value           15.55 mm\n",
       "Name: /Geometry/NextFlex/tp_sipm_pitchX, dtype: object"
      ]
     },
     "execution_count": 12,
     "metadata": {},
     "output_type": "execute_result"
    }
   ],
   "source": [
    "par = mcConfig.loc[\"/Geometry/NextFlex/tp_sipm_pitchX\"]\n",
    "par"
   ]
  },
  {
   "cell_type": "markdown",
   "metadata": {},
   "source": [
    "## Extract pitch from params"
   ]
  },
  {
   "cell_type": "code",
   "execution_count": 13,
   "metadata": {},
   "outputs": [
    {
     "data": {
      "text/plain": [
       "15.55"
      ]
     },
     "execution_count": 13,
     "metadata": {},
     "output_type": "execute_result"
    }
   ],
   "source": [
    "pitch = float(par.param_value.split(' ')[-2])\n",
    "pitch"
   ]
  },
  {
   "cell_type": "markdown",
   "metadata": {},
   "source": [
    "## SiPMs are at indices < 10000 in dataframes "
   ]
  },
  {
   "cell_type": "code",
   "execution_count": 17,
   "metadata": {},
   "outputs": [],
   "source": [
    "sipm_index = 10000"
   ]
  },
  {
   "cell_type": "markdown",
   "metadata": {},
   "source": [
    "## Sensors"
   ]
  },
  {
   "cell_type": "code",
   "execution_count": 14,
   "metadata": {},
   "outputs": [
    {
     "data": {
      "text/html": [
       "<div>\n",
       "<style scoped>\n",
       "    .dataframe tbody tr th:only-of-type {\n",
       "        vertical-align: middle;\n",
       "    }\n",
       "\n",
       "    .dataframe tbody tr th {\n",
       "        vertical-align: top;\n",
       "    }\n",
       "\n",
       "    .dataframe thead th {\n",
       "        text-align: right;\n",
       "    }\n",
       "</style>\n",
       "<table border=\"1\" class=\"dataframe\">\n",
       "  <thead>\n",
       "    <tr style=\"text-align: right;\">\n",
       "      <th></th>\n",
       "      <th>bin_width</th>\n",
       "    </tr>\n",
       "    <tr>\n",
       "      <th>sns_name</th>\n",
       "      <th></th>\n",
       "    </tr>\n",
       "  </thead>\n",
       "  <tbody>\n",
       "    <tr>\n",
       "      <th>F_SENSOR_L</th>\n",
       "      <td>1.0</td>\n",
       "    </tr>\n",
       "    <tr>\n",
       "      <th>F_SENSOR_R</th>\n",
       "      <td>1.0</td>\n",
       "    </tr>\n",
       "    <tr>\n",
       "      <th>TP_SiPM</th>\n",
       "      <td>1000.0</td>\n",
       "    </tr>\n",
       "  </tbody>\n",
       "</table>\n",
       "</div>"
      ],
      "text/plain": [
       "            bin_width\n",
       "sns_name             \n",
       "F_SENSOR_L        1.0\n",
       "F_SENSOR_R        1.0\n",
       "TP_SiPM        1000.0"
      ]
     },
     "execution_count": 14,
     "metadata": {},
     "output_type": "execute_result"
    }
   ],
   "source": [
    "get_sensor_binning(ifnames[0])"
   ]
  },
  {
   "cell_type": "code",
   "execution_count": 15,
   "metadata": {},
   "outputs": [
    {
     "data": {
      "text/html": [
       "<div>\n",
       "<style scoped>\n",
       "    .dataframe tbody tr th:only-of-type {\n",
       "        vertical-align: middle;\n",
       "    }\n",
       "\n",
       "    .dataframe tbody tr th {\n",
       "        vertical-align: top;\n",
       "    }\n",
       "\n",
       "    .dataframe thead th {\n",
       "        text-align: right;\n",
       "    }\n",
       "</style>\n",
       "<table border=\"1\" class=\"dataframe\">\n",
       "  <thead>\n",
       "    <tr style=\"text-align: right;\">\n",
       "      <th></th>\n",
       "      <th>sensor_id</th>\n",
       "      <th>sensor_name</th>\n",
       "    </tr>\n",
       "  </thead>\n",
       "  <tbody>\n",
       "    <tr>\n",
       "      <th>0</th>\n",
       "      <td>101200</td>\n",
       "      <td>F_SENSOR_L</td>\n",
       "    </tr>\n",
       "    <tr>\n",
       "      <th>1</th>\n",
       "      <td>100109</td>\n",
       "      <td>F_SENSOR_L</td>\n",
       "    </tr>\n",
       "    <tr>\n",
       "      <th>2</th>\n",
       "      <td>100839</td>\n",
       "      <td>F_SENSOR_L</td>\n",
       "    </tr>\n",
       "    <tr>\n",
       "      <th>3</th>\n",
       "      <td>100819</td>\n",
       "      <td>F_SENSOR_L</td>\n",
       "    </tr>\n",
       "    <tr>\n",
       "      <th>4</th>\n",
       "      <td>100019</td>\n",
       "      <td>F_SENSOR_L</td>\n",
       "    </tr>\n",
       "  </tbody>\n",
       "</table>\n",
       "</div>"
      ],
      "text/plain": [
       "   sensor_id sensor_name\n",
       "0     101200  F_SENSOR_L\n",
       "1     100109  F_SENSOR_L\n",
       "2     100839  F_SENSOR_L\n",
       "3     100819  F_SENSOR_L\n",
       "4     100019  F_SENSOR_L"
      ]
     },
     "execution_count": 15,
     "metadata": {},
     "output_type": "execute_result"
    }
   ],
   "source": [
    "sns_types = get_sensor_types(ifnames[0])\n",
    "sns_types.head()"
   ]
  },
  {
   "cell_type": "code",
   "execution_count": 16,
   "metadata": {},
   "outputs": [
    {
     "data": {
      "text/html": [
       "<div>\n",
       "<style scoped>\n",
       "    .dataframe tbody tr th:only-of-type {\n",
       "        vertical-align: middle;\n",
       "    }\n",
       "\n",
       "    .dataframe tbody tr th {\n",
       "        vertical-align: top;\n",
       "    }\n",
       "\n",
       "    .dataframe thead th {\n",
       "        text-align: right;\n",
       "    }\n",
       "</style>\n",
       "<table border=\"1\" class=\"dataframe\">\n",
       "  <thead>\n",
       "    <tr style=\"text-align: right;\">\n",
       "      <th></th>\n",
       "      <th>sensor_id</th>\n",
       "      <th>sensor_name</th>\n",
       "      <th>x</th>\n",
       "      <th>y</th>\n",
       "      <th>z</th>\n",
       "    </tr>\n",
       "  </thead>\n",
       "  <tbody>\n",
       "    <tr>\n",
       "      <th>0</th>\n",
       "      <td>101200</td>\n",
       "      <td>F_SENSOR_L</td>\n",
       "      <td>-486.079315</td>\n",
       "      <td>82.315834</td>\n",
       "      <td>-30.299999</td>\n",
       "    </tr>\n",
       "    <tr>\n",
       "      <th>1</th>\n",
       "      <td>100109</td>\n",
       "      <td>F_SENSOR_L</td>\n",
       "      <td>211.449921</td>\n",
       "      <td>445.351471</td>\n",
       "      <td>-30.299999</td>\n",
       "    </tr>\n",
       "    <tr>\n",
       "      <th>2</th>\n",
       "      <td>100839</td>\n",
       "      <td>F_SENSOR_L</td>\n",
       "      <td>-131.708267</td>\n",
       "      <td>-475.080963</td>\n",
       "      <td>-30.299999</td>\n",
       "    </tr>\n",
       "    <tr>\n",
       "      <th>3</th>\n",
       "      <td>100819</td>\n",
       "      <td>F_SENSOR_L</td>\n",
       "      <td>-92.674385</td>\n",
       "      <td>-484.211182</td>\n",
       "      <td>-30.299999</td>\n",
       "    </tr>\n",
       "    <tr>\n",
       "      <th>4</th>\n",
       "      <td>100019</td>\n",
       "      <td>F_SENSOR_L</td>\n",
       "      <td>38.055695</td>\n",
       "      <td>491.528992</td>\n",
       "      <td>-30.299999</td>\n",
       "    </tr>\n",
       "  </tbody>\n",
       "</table>\n",
       "</div>"
      ],
      "text/plain": [
       "   sensor_id sensor_name           x           y          z\n",
       "0     101200  F_SENSOR_L -486.079315   82.315834 -30.299999\n",
       "1     100109  F_SENSOR_L  211.449921  445.351471 -30.299999\n",
       "2     100839  F_SENSOR_L -131.708267 -475.080963 -30.299999\n",
       "3     100819  F_SENSOR_L  -92.674385 -484.211182 -30.299999\n",
       "4     100019  F_SENSOR_L   38.055695  491.528992 -30.299999"
      ]
     },
     "execution_count": 16,
     "metadata": {},
     "output_type": "execute_result"
    }
   ],
   "source": [
    "sns_positions = load_mcsensor_positions(ifnames[0])\n",
    "sns_positions.head()"
   ]
  },
  {
   "cell_type": "markdown",
   "metadata": {},
   "source": [
    "## SiPM map"
   ]
  },
  {
   "cell_type": "code",
   "execution_count": 18,
   "metadata": {},
   "outputs": [
    {
     "data": {
      "text/html": [
       "<div>\n",
       "<style scoped>\n",
       "    .dataframe tbody tr th:only-of-type {\n",
       "        vertical-align: middle;\n",
       "    }\n",
       "\n",
       "    .dataframe tbody tr th {\n",
       "        vertical-align: top;\n",
       "    }\n",
       "\n",
       "    .dataframe thead th {\n",
       "        text-align: right;\n",
       "    }\n",
       "</style>\n",
       "<table border=\"1\" class=\"dataframe\">\n",
       "  <thead>\n",
       "    <tr style=\"text-align: right;\">\n",
       "      <th></th>\n",
       "      <th>index</th>\n",
       "      <th>sensor_id</th>\n",
       "      <th>sensor_name</th>\n",
       "      <th>x</th>\n",
       "      <th>y</th>\n",
       "      <th>z</th>\n",
       "    </tr>\n",
       "  </thead>\n",
       "  <tbody>\n",
       "    <tr>\n",
       "      <th>0</th>\n",
       "      <td>3090</td>\n",
       "      <td>3821</td>\n",
       "      <td>TP_SiPM</td>\n",
       "      <td>279.899994</td>\n",
       "      <td>342.100006</td>\n",
       "      <td>-23.4</td>\n",
       "    </tr>\n",
       "    <tr>\n",
       "      <th>1</th>\n",
       "      <td>3091</td>\n",
       "      <td>2853</td>\n",
       "      <td>TP_SiPM</td>\n",
       "      <td>-108.849998</td>\n",
       "      <td>77.750000</td>\n",
       "      <td>-23.4</td>\n",
       "    </tr>\n",
       "    <tr>\n",
       "      <th>2</th>\n",
       "      <td>3092</td>\n",
       "      <td>2732</td>\n",
       "      <td>TP_SiPM</td>\n",
       "      <td>-46.650002</td>\n",
       "      <td>46.650002</td>\n",
       "      <td>-23.4</td>\n",
       "    </tr>\n",
       "    <tr>\n",
       "      <th>3</th>\n",
       "      <td>3093</td>\n",
       "      <td>2669</td>\n",
       "      <td>TP_SiPM</td>\n",
       "      <td>-46.650002</td>\n",
       "      <td>31.100000</td>\n",
       "      <td>-23.4</td>\n",
       "    </tr>\n",
       "    <tr>\n",
       "      <th>4</th>\n",
       "      <td>3094</td>\n",
       "      <td>2479</td>\n",
       "      <td>TP_SiPM</td>\n",
       "      <td>-62.200001</td>\n",
       "      <td>-15.550000</td>\n",
       "      <td>-23.4</td>\n",
       "    </tr>\n",
       "  </tbody>\n",
       "</table>\n",
       "</div>"
      ],
      "text/plain": [
       "   index  sensor_id sensor_name           x           y     z\n",
       "0   3090       3821     TP_SiPM  279.899994  342.100006 -23.4\n",
       "1   3091       2853     TP_SiPM -108.849998   77.750000 -23.4\n",
       "2   3092       2732     TP_SiPM  -46.650002   46.650002 -23.4\n",
       "3   3093       2669     TP_SiPM  -46.650002   31.100000 -23.4\n",
       "4   3094       2479     TP_SiPM  -62.200001  -15.550000 -23.4"
      ]
     },
     "execution_count": 18,
     "metadata": {},
     "output_type": "execute_result"
    }
   ],
   "source": [
    "sipm_positions = sns_positions[sns_positions.sensor_id<sipm_index].reset_index()\n",
    "sipm_positions.head()"
   ]
  },
  {
   "cell_type": "code",
   "execution_count": 19,
   "metadata": {},
   "outputs": [
    {
     "name": "stdout",
     "output_type": "stream",
     "text": [
      "XMAX = 482.04998779296875 XMIN = -482.04998779296875 YMAX = 482.04998779296875 YMIN = -482.04998779296875\n"
     ]
    }
   ],
   "source": [
    "XMAX = sipm_positions.x.max()\n",
    "XMIN = sipm_positions.x.min()\n",
    "YMAX = sipm_positions.y.max()\n",
    "YMIN = sipm_positions.y.min()\n",
    "print(f'XMAX = {XMAX} XMIN = {XMIN} YMAX = {YMAX} YMIN = {YMIN}')"
   ]
  },
  {
   "cell_type": "code",
   "execution_count": 24,
   "metadata": {},
   "outputs": [],
   "source": [
    "sipm_map = sipm_pos(sipm_positions, pitch, verbose=False, eps=0.1)"
   ]
  },
  {
   "cell_type": "code",
   "execution_count": 25,
   "metadata": {},
   "outputs": [
    {
     "data": {
      "text/html": [
       "<div>\n",
       "<style scoped>\n",
       "    .dataframe tbody tr th:only-of-type {\n",
       "        vertical-align: middle;\n",
       "    }\n",
       "\n",
       "    .dataframe tbody tr th {\n",
       "        vertical-align: top;\n",
       "    }\n",
       "\n",
       "    .dataframe thead th {\n",
       "        text-align: right;\n",
       "    }\n",
       "</style>\n",
       "<table border=\"1\" class=\"dataframe\">\n",
       "  <thead>\n",
       "    <tr style=\"text-align: right;\">\n",
       "      <th></th>\n",
       "      <th>sensor_id</th>\n",
       "      <th>sensor_name</th>\n",
       "      <th>x</th>\n",
       "      <th>y</th>\n",
       "      <th>xl</th>\n",
       "      <th>xr</th>\n",
       "      <th>yu</th>\n",
       "      <th>yd</th>\n",
       "    </tr>\n",
       "  </thead>\n",
       "  <tbody>\n",
       "    <tr>\n",
       "      <th>0</th>\n",
       "      <td>3821</td>\n",
       "      <td>TP_SiPM</td>\n",
       "      <td>279.899994</td>\n",
       "      <td>342.100006</td>\n",
       "      <td>264.349994</td>\n",
       "      <td>295.449994</td>\n",
       "      <td>3.576500e+02</td>\n",
       "      <td>326.550006</td>\n",
       "    </tr>\n",
       "    <tr>\n",
       "      <th>1</th>\n",
       "      <td>2853</td>\n",
       "      <td>TP_SiPM</td>\n",
       "      <td>-108.849998</td>\n",
       "      <td>77.750000</td>\n",
       "      <td>-124.399998</td>\n",
       "      <td>-93.299998</td>\n",
       "      <td>9.330000e+01</td>\n",
       "      <td>62.200000</td>\n",
       "    </tr>\n",
       "    <tr>\n",
       "      <th>2</th>\n",
       "      <td>2732</td>\n",
       "      <td>TP_SiPM</td>\n",
       "      <td>-46.650002</td>\n",
       "      <td>46.650002</td>\n",
       "      <td>-62.200002</td>\n",
       "      <td>-31.100002</td>\n",
       "      <td>6.220000e+01</td>\n",
       "      <td>31.100002</td>\n",
       "    </tr>\n",
       "    <tr>\n",
       "      <th>3</th>\n",
       "      <td>2669</td>\n",
       "      <td>TP_SiPM</td>\n",
       "      <td>-46.650002</td>\n",
       "      <td>31.100000</td>\n",
       "      <td>-62.200002</td>\n",
       "      <td>-31.100002</td>\n",
       "      <td>4.665000e+01</td>\n",
       "      <td>15.550000</td>\n",
       "    </tr>\n",
       "    <tr>\n",
       "      <th>4</th>\n",
       "      <td>2479</td>\n",
       "      <td>TP_SiPM</td>\n",
       "      <td>-62.200001</td>\n",
       "      <td>-15.550000</td>\n",
       "      <td>-77.750001</td>\n",
       "      <td>-46.650001</td>\n",
       "      <td>-1.907349e-07</td>\n",
       "      <td>-31.100000</td>\n",
       "    </tr>\n",
       "    <tr>\n",
       "      <th>...</th>\n",
       "      <td>...</td>\n",
       "      <td>...</td>\n",
       "      <td>...</td>\n",
       "      <td>...</td>\n",
       "      <td>...</td>\n",
       "      <td>...</td>\n",
       "      <td>...</td>\n",
       "      <td>...</td>\n",
       "    </tr>\n",
       "    <tr>\n",
       "      <th>3088</th>\n",
       "      <td>1670</td>\n",
       "      <td>TP_SiPM</td>\n",
       "      <td>-419.850006</td>\n",
       "      <td>-217.699997</td>\n",
       "      <td>-435.400006</td>\n",
       "      <td>-404.300006</td>\n",
       "      <td>-2.021500e+02</td>\n",
       "      <td>-233.249997</td>\n",
       "    </tr>\n",
       "    <tr>\n",
       "      <th>3089</th>\n",
       "      <td>1569</td>\n",
       "      <td>TP_SiPM</td>\n",
       "      <td>-279.899994</td>\n",
       "      <td>-248.800003</td>\n",
       "      <td>-295.449994</td>\n",
       "      <td>-264.349994</td>\n",
       "      <td>-2.332500e+02</td>\n",
       "      <td>-264.350003</td>\n",
       "    </tr>\n",
       "    <tr>\n",
       "      <th>3090</th>\n",
       "      <td>3286</td>\n",
       "      <td>TP_SiPM</td>\n",
       "      <td>77.750000</td>\n",
       "      <td>186.600006</td>\n",
       "      <td>62.200000</td>\n",
       "      <td>93.300000</td>\n",
       "      <td>2.021500e+02</td>\n",
       "      <td>171.050006</td>\n",
       "    </tr>\n",
       "    <tr>\n",
       "      <th>3091</th>\n",
       "      <td>1528</td>\n",
       "      <td>TP_SiPM</td>\n",
       "      <td>-93.300003</td>\n",
       "      <td>-264.350006</td>\n",
       "      <td>-108.850003</td>\n",
       "      <td>-77.750003</td>\n",
       "      <td>-2.488000e+02</td>\n",
       "      <td>-279.900006</td>\n",
       "    </tr>\n",
       "    <tr>\n",
       "      <th>3092</th>\n",
       "      <td>3287</td>\n",
       "      <td>TP_SiPM</td>\n",
       "      <td>93.300003</td>\n",
       "      <td>186.600006</td>\n",
       "      <td>77.750003</td>\n",
       "      <td>108.850003</td>\n",
       "      <td>2.021500e+02</td>\n",
       "      <td>171.050006</td>\n",
       "    </tr>\n",
       "  </tbody>\n",
       "</table>\n",
       "<p>3093 rows × 8 columns</p>\n",
       "</div>"
      ],
      "text/plain": [
       "      sensor_id sensor_name           x           y          xl          xr  \\\n",
       "0          3821     TP_SiPM  279.899994  342.100006  264.349994  295.449994   \n",
       "1          2853     TP_SiPM -108.849998   77.750000 -124.399998  -93.299998   \n",
       "2          2732     TP_SiPM  -46.650002   46.650002  -62.200002  -31.100002   \n",
       "3          2669     TP_SiPM  -46.650002   31.100000  -62.200002  -31.100002   \n",
       "4          2479     TP_SiPM  -62.200001  -15.550000  -77.750001  -46.650001   \n",
       "...         ...         ...         ...         ...         ...         ...   \n",
       "3088       1670     TP_SiPM -419.850006 -217.699997 -435.400006 -404.300006   \n",
       "3089       1569     TP_SiPM -279.899994 -248.800003 -295.449994 -264.349994   \n",
       "3090       3286     TP_SiPM   77.750000  186.600006   62.200000   93.300000   \n",
       "3091       1528     TP_SiPM  -93.300003 -264.350006 -108.850003  -77.750003   \n",
       "3092       3287     TP_SiPM   93.300003  186.600006   77.750003  108.850003   \n",
       "\n",
       "                yu          yd  \n",
       "0     3.576500e+02  326.550006  \n",
       "1     9.330000e+01   62.200000  \n",
       "2     6.220000e+01   31.100002  \n",
       "3     4.665000e+01   15.550000  \n",
       "4    -1.907349e-07  -31.100000  \n",
       "...            ...         ...  \n",
       "3088 -2.021500e+02 -233.249997  \n",
       "3089 -2.332500e+02 -264.350003  \n",
       "3090  2.021500e+02  171.050006  \n",
       "3091 -2.488000e+02 -279.900006  \n",
       "3092  2.021500e+02  171.050006  \n",
       "\n",
       "[3093 rows x 8 columns]"
      ]
     },
     "execution_count": 25,
     "metadata": {},
     "output_type": "execute_result"
    }
   ],
   "source": [
    "sipm_map"
   ]
  },
  {
   "cell_type": "code",
   "execution_count": 26,
   "metadata": {},
   "outputs": [
    {
     "data": {
      "text/plain": [
       "True"
      ]
     },
     "execution_count": 26,
     "metadata": {},
     "output_type": "execute_result"
    }
   ],
   "source": [
    "sipm_pos_test(sipm_map, pitch, verbose=False, eps=0.1, icount=100)"
   ]
  },
  {
   "cell_type": "code",
   "execution_count": 28,
   "metadata": {},
   "outputs": [],
   "source": [
    "sipm_indx(sipm_map)"
   ]
  },
  {
   "cell_type": "code",
   "execution_count": 29,
   "metadata": {},
   "outputs": [
    {
     "data": {
      "text/html": [
       "<div>\n",
       "<style scoped>\n",
       "    .dataframe tbody tr th:only-of-type {\n",
       "        vertical-align: middle;\n",
       "    }\n",
       "\n",
       "    .dataframe tbody tr th {\n",
       "        vertical-align: top;\n",
       "    }\n",
       "\n",
       "    .dataframe thead th {\n",
       "        text-align: right;\n",
       "    }\n",
       "</style>\n",
       "<table border=\"1\" class=\"dataframe\">\n",
       "  <thead>\n",
       "    <tr style=\"text-align: right;\">\n",
       "      <th></th>\n",
       "      <th>sensor_id</th>\n",
       "      <th>sensor_name</th>\n",
       "      <th>x</th>\n",
       "      <th>y</th>\n",
       "      <th>xl</th>\n",
       "      <th>xr</th>\n",
       "      <th>yu</th>\n",
       "      <th>yd</th>\n",
       "      <th>id_xl</th>\n",
       "      <th>id_xr</th>\n",
       "      <th>id_yu</th>\n",
       "      <th>id_yd</th>\n",
       "    </tr>\n",
       "  </thead>\n",
       "  <tbody>\n",
       "    <tr>\n",
       "      <th>0</th>\n",
       "      <td>3821</td>\n",
       "      <td>TP_SiPM</td>\n",
       "      <td>279.899994</td>\n",
       "      <td>342.100006</td>\n",
       "      <td>264.349994</td>\n",
       "      <td>295.449994</td>\n",
       "      <td>3.576500e+02</td>\n",
       "      <td>326.550006</td>\n",
       "      <td>3820</td>\n",
       "      <td>3822</td>\n",
       "      <td>3865</td>\n",
       "      <td>3775</td>\n",
       "    </tr>\n",
       "    <tr>\n",
       "      <th>1</th>\n",
       "      <td>2853</td>\n",
       "      <td>TP_SiPM</td>\n",
       "      <td>-108.849998</td>\n",
       "      <td>77.750000</td>\n",
       "      <td>-124.399998</td>\n",
       "      <td>-93.299998</td>\n",
       "      <td>9.330000e+01</td>\n",
       "      <td>62.200000</td>\n",
       "      <td>2852</td>\n",
       "      <td>2854</td>\n",
       "      <td>2914</td>\n",
       "      <td>2791</td>\n",
       "    </tr>\n",
       "    <tr>\n",
       "      <th>2</th>\n",
       "      <td>2732</td>\n",
       "      <td>TP_SiPM</td>\n",
       "      <td>-46.650002</td>\n",
       "      <td>46.650002</td>\n",
       "      <td>-62.200002</td>\n",
       "      <td>-31.100002</td>\n",
       "      <td>6.220000e+01</td>\n",
       "      <td>31.100002</td>\n",
       "      <td>2731</td>\n",
       "      <td>2733</td>\n",
       "      <td>2795</td>\n",
       "      <td>2669</td>\n",
       "    </tr>\n",
       "    <tr>\n",
       "      <th>3</th>\n",
       "      <td>2669</td>\n",
       "      <td>TP_SiPM</td>\n",
       "      <td>-46.650002</td>\n",
       "      <td>31.100000</td>\n",
       "      <td>-62.200002</td>\n",
       "      <td>-31.100002</td>\n",
       "      <td>4.665000e+01</td>\n",
       "      <td>15.550000</td>\n",
       "      <td>2668</td>\n",
       "      <td>2670</td>\n",
       "      <td>2732</td>\n",
       "      <td>2606</td>\n",
       "    </tr>\n",
       "    <tr>\n",
       "      <th>4</th>\n",
       "      <td>2479</td>\n",
       "      <td>TP_SiPM</td>\n",
       "      <td>-62.200001</td>\n",
       "      <td>-15.550000</td>\n",
       "      <td>-77.750001</td>\n",
       "      <td>-46.650001</td>\n",
       "      <td>-1.907349e-07</td>\n",
       "      <td>-31.100000</td>\n",
       "      <td>2478</td>\n",
       "      <td>2480</td>\n",
       "      <td>2542</td>\n",
       "      <td>2416</td>\n",
       "    </tr>\n",
       "    <tr>\n",
       "      <th>...</th>\n",
       "      <td>...</td>\n",
       "      <td>...</td>\n",
       "      <td>...</td>\n",
       "      <td>...</td>\n",
       "      <td>...</td>\n",
       "      <td>...</td>\n",
       "      <td>...</td>\n",
       "      <td>...</td>\n",
       "      <td>...</td>\n",
       "      <td>...</td>\n",
       "      <td>...</td>\n",
       "      <td>...</td>\n",
       "    </tr>\n",
       "    <tr>\n",
       "      <th>3088</th>\n",
       "      <td>1670</td>\n",
       "      <td>TP_SiPM</td>\n",
       "      <td>-419.850006</td>\n",
       "      <td>-217.699997</td>\n",
       "      <td>-435.400006</td>\n",
       "      <td>-404.300006</td>\n",
       "      <td>-2.021500e+02</td>\n",
       "      <td>-233.249997</td>\n",
       "      <td>1669</td>\n",
       "      <td>1671</td>\n",
       "      <td>1727</td>\n",
       "      <td>1614</td>\n",
       "    </tr>\n",
       "    <tr>\n",
       "      <th>3089</th>\n",
       "      <td>1569</td>\n",
       "      <td>TP_SiPM</td>\n",
       "      <td>-279.899994</td>\n",
       "      <td>-248.800003</td>\n",
       "      <td>-295.449994</td>\n",
       "      <td>-264.349994</td>\n",
       "      <td>-2.332500e+02</td>\n",
       "      <td>-264.350003</td>\n",
       "      <td>1568</td>\n",
       "      <td>1570</td>\n",
       "      <td>1623</td>\n",
       "      <td>1516</td>\n",
       "    </tr>\n",
       "    <tr>\n",
       "      <th>3090</th>\n",
       "      <td>3286</td>\n",
       "      <td>TP_SiPM</td>\n",
       "      <td>77.750000</td>\n",
       "      <td>186.600006</td>\n",
       "      <td>62.200000</td>\n",
       "      <td>93.300000</td>\n",
       "      <td>2.021500e+02</td>\n",
       "      <td>171.050006</td>\n",
       "      <td>3285</td>\n",
       "      <td>3287</td>\n",
       "      <td>3343</td>\n",
       "      <td>3228</td>\n",
       "    </tr>\n",
       "    <tr>\n",
       "      <th>3091</th>\n",
       "      <td>1528</td>\n",
       "      <td>TP_SiPM</td>\n",
       "      <td>-93.300003</td>\n",
       "      <td>-264.350006</td>\n",
       "      <td>-108.850003</td>\n",
       "      <td>-77.750003</td>\n",
       "      <td>-2.488000e+02</td>\n",
       "      <td>-279.900006</td>\n",
       "      <td>1527</td>\n",
       "      <td>1529</td>\n",
       "      <td>1581</td>\n",
       "      <td>1476</td>\n",
       "    </tr>\n",
       "    <tr>\n",
       "      <th>3092</th>\n",
       "      <td>3287</td>\n",
       "      <td>TP_SiPM</td>\n",
       "      <td>93.300003</td>\n",
       "      <td>186.600006</td>\n",
       "      <td>77.750003</td>\n",
       "      <td>108.850003</td>\n",
       "      <td>2.021500e+02</td>\n",
       "      <td>171.050006</td>\n",
       "      <td>3286</td>\n",
       "      <td>3288</td>\n",
       "      <td>3344</td>\n",
       "      <td>3229</td>\n",
       "    </tr>\n",
       "  </tbody>\n",
       "</table>\n",
       "<p>3093 rows × 12 columns</p>\n",
       "</div>"
      ],
      "text/plain": [
       "      sensor_id sensor_name           x           y          xl          xr  \\\n",
       "0          3821     TP_SiPM  279.899994  342.100006  264.349994  295.449994   \n",
       "1          2853     TP_SiPM -108.849998   77.750000 -124.399998  -93.299998   \n",
       "2          2732     TP_SiPM  -46.650002   46.650002  -62.200002  -31.100002   \n",
       "3          2669     TP_SiPM  -46.650002   31.100000  -62.200002  -31.100002   \n",
       "4          2479     TP_SiPM  -62.200001  -15.550000  -77.750001  -46.650001   \n",
       "...         ...         ...         ...         ...         ...         ...   \n",
       "3088       1670     TP_SiPM -419.850006 -217.699997 -435.400006 -404.300006   \n",
       "3089       1569     TP_SiPM -279.899994 -248.800003 -295.449994 -264.349994   \n",
       "3090       3286     TP_SiPM   77.750000  186.600006   62.200000   93.300000   \n",
       "3091       1528     TP_SiPM  -93.300003 -264.350006 -108.850003  -77.750003   \n",
       "3092       3287     TP_SiPM   93.300003  186.600006   77.750003  108.850003   \n",
       "\n",
       "                yu          yd  id_xl  id_xr  id_yu  id_yd  \n",
       "0     3.576500e+02  326.550006   3820   3822   3865   3775  \n",
       "1     9.330000e+01   62.200000   2852   2854   2914   2791  \n",
       "2     6.220000e+01   31.100002   2731   2733   2795   2669  \n",
       "3     4.665000e+01   15.550000   2668   2670   2732   2606  \n",
       "4    -1.907349e-07  -31.100000   2478   2480   2542   2416  \n",
       "...            ...         ...    ...    ...    ...    ...  \n",
       "3088 -2.021500e+02 -233.249997   1669   1671   1727   1614  \n",
       "3089 -2.332500e+02 -264.350003   1568   1570   1623   1516  \n",
       "3090  2.021500e+02  171.050006   3285   3287   3343   3228  \n",
       "3091 -2.488000e+02 -279.900006   1527   1529   1581   1476  \n",
       "3092  2.021500e+02  171.050006   3286   3288   3344   3229  \n",
       "\n",
       "[3093 rows x 12 columns]"
      ]
     },
     "execution_count": 29,
     "metadata": {},
     "output_type": "execute_result"
    }
   ],
   "source": [
    "sipm_map"
   ]
  },
  {
   "cell_type": "code",
   "execution_count": 31,
   "metadata": {},
   "outputs": [
    {
     "data": {
      "text/plain": [
       "True"
      ]
     },
     "execution_count": 31,
     "metadata": {},
     "output_type": "execute_result"
    }
   ],
   "source": [
    "sipm_indx_test(sipm_map)"
   ]
  },
  {
   "cell_type": "code",
   "execution_count": 32,
   "metadata": {},
   "outputs": [
    {
     "data": {
      "text/plain": [
       "<matplotlib.axes._subplots.AxesSubplot at 0x7f82f002b850>"
      ]
     },
     "execution_count": 32,
     "metadata": {},
     "output_type": "execute_result"
    },
    {
     "data": {
      "image/png": "[encoded data removed]",
      "text/plain": [
       "<Figure size 576x432 with 1 Axes>"
      ]
     },
     "metadata": {
      "needs_background": "light"
     },
     "output_type": "display_data"
    }
   ],
   "source": [
    "sipm_map.plot(kind='scatter', x='x', y='y')"
   ]
  },
  {
   "cell_type": "code",
   "execution_count": 33,
   "metadata": {},
   "outputs": [
    {
     "data": {
      "text/plain": [
       "<matplotlib.axes._subplots.AxesSubplot at 0x7f834140c110>"
      ]
     },
     "execution_count": 33,
     "metadata": {},
     "output_type": "execute_result"
    },
    {
     "data": {
      "image/png": "[encoded data removed]",
      "text/plain": [
       "<Figure size 576x432 with 1 Axes>"
      ]
     },
     "metadata": {
      "needs_background": "light"
     },
     "output_type": "display_data"
    }
   ],
   "source": [
    "sipm_map.plot(kind='scatter', x='x', y='xl')"
   ]
  },
  {
   "cell_type": "code",
   "execution_count": 34,
   "metadata": {},
   "outputs": [
    {
     "data": {
      "text/plain": [
       "<matplotlib.axes._subplots.AxesSubplot at 0x7f836170e610>"
      ]
     },
     "execution_count": 34,
     "metadata": {},
     "output_type": "execute_result"
    },
    {
     "data": {
      "image/png": "[encoded data removed]",
      "text/plain": [
       "<Figure size 576x432 with 1 Axes>"
      ]
     },
     "metadata": {
      "needs_background": "light"
     },
     "output_type": "display_data"
    }
   ],
   "source": [
    "sipm_map.plot(kind='scatter', x='x', y='xr')"
   ]
  },
  {
   "cell_type": "code",
   "execution_count": 35,
   "metadata": {},
   "outputs": [
    {
     "data": {
      "text/plain": [
       "<matplotlib.axes._subplots.AxesSubplot at 0x7f8350288990>"
      ]
     },
     "execution_count": 35,
     "metadata": {},
     "output_type": "execute_result"
    },
    {
     "data": {
      "image/png": "[encoded data removed]",
      "text/plain": [
       "<Figure size 576x432 with 1 Axes>"
      ]
     },
     "metadata": {
      "needs_background": "light"
     },
     "output_type": "display_data"
    }
   ],
   "source": [
    "sipm_map.plot(kind='scatter', x='y', y='yu')"
   ]
  },
  {
   "cell_type": "code",
   "execution_count": 36,
   "metadata": {},
   "outputs": [
    {
     "data": {
      "text/plain": [
       "<matplotlib.axes._subplots.AxesSubplot at 0x7f82f0088590>"
      ]
     },
     "execution_count": 36,
     "metadata": {},
     "output_type": "execute_result"
    },
    {
     "data": {
      "image/png": "[encoded data removed]",
      "text/plain": [
       "<Figure size 576x432 with 1 Axes>"
      ]
     },
     "metadata": {
      "needs_background": "light"
     },
     "output_type": "display_data"
    }
   ],
   "source": [
    "sipm_map.plot(kind='scatter', x='y', y='yd')"
   ]
  },
  {
   "cell_type": "code",
   "execution_count": 37,
   "metadata": {},
   "outputs": [],
   "source": [
    "sipm_map.to_csv('sipm_map.csv')"
   ]
  }
 ],
 "metadata": {
  "kernelspec": {
   "display_name": "Python 3",
   "language": "python",
   "name": "python3"
  },
  "language_info": {
   "codemirror_mode": {
    "name": "ipython",
    "version": 3
   },
   "file_extension": ".py",
   "mimetype": "text/x-python",
   "name": "python",
   "nbconvert_exporter": "python",
   "pygments_lexer": "ipython3",
   "version": "3.7.7"
  }
 },
 "nbformat": 4,
 "nbformat_minor": 4
}
