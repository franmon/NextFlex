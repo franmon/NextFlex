{
 "cells": [
  {
   "cell_type": "markdown",
   "metadata": {},
   "source": [
    "<p style=\"font-family: Arial; font-size:3.75em;color:purple; font-style:bold\"><br>\n",
    "'SiPM DST' Study</p><br>"
   ]
  },
  {
   "cell_type": "markdown",
   "metadata": {},
   "source": [
    "# Prepares an analysis DST from FLEX data"
   ]
  },
  {
   "cell_type": "code",
   "execution_count": 1,
   "metadata": {},
   "outputs": [
    {
     "data": {
      "text/html": [
       "<style>body {\n",
       "    margin: 0;\n",
       "    font-family: Helvetica;\n",
       "}\n",
       "table.dataframe {\n",
       "    border-collapse: collapse;\n",
       "    border: none;\n",
       "}\n",
       "table.dataframe tr {\n",
       "    border: none;\n",
       "}\n",
       "table.dataframe td, table.dataframe th {\n",
       "    margin: 0;\n",
       "    border: 1px solid white;\n",
       "    padding-left: 0.25em;\n",
       "    padding-right: 0.25em;\n",
       "}\n",
       "table.dataframe th:not(:empty) {\n",
       "    background-color: #fec;\n",
       "    text-align: left;\n",
       "    font-weight: normal;\n",
       "}\n",
       "table.dataframe tr:nth-child(2) th:empty {\n",
       "    border-left: none;\n",
       "    border-right: 1px dashed #888;\n",
       "}\n",
       "table.dataframe td {\n",
       "    border: 2px solid #ccf;\n",
       "    background-color: #f4f4ff;\n",
       "}\n",
       "h3 {\n",
       "    color: white;\n",
       "    background-color: black;\n",
       "    padding: 0.5em;\n",
       "}\n",
       "</style>"
      ],
      "text/plain": [
       "<IPython.core.display.HTML object>"
      ]
     },
     "execution_count": 1,
     "metadata": {},
     "output_type": "execute_result"
    }
   ],
   "source": [
    "from IPython.core.display import HTML\n",
    "css = open('style-table.css').read() + open('style-notebook.css').read()\n",
    "HTML('<style>{}</style>'.format(css))"
   ]
  },
  {
   "cell_type": "code",
   "execution_count": 78,
   "metadata": {},
   "outputs": [],
   "source": [
    "# General importings\n",
    "import os\n",
    "import sys\n",
    "import glob\n",
    "import logging\n",
    "import math\n",
    "import numpy  as np\n",
    "from scipy.stats import norm\n",
    "import pandas as pd\n",
    "import matplotlib.pyplot as plt\n",
    "from matplotlib import colors\n",
    "\n",
    "# Specific IC stuff\n",
    "import invisible_cities.core.system_of_units  as units\n",
    "\n",
    "from invisible_cities.io.mcinfo_io import load_mcconfiguration\n",
    "from invisible_cities.io.mcinfo_io import load_mcparticles_df\n",
    "from invisible_cities.io.mcinfo_io import load_mchits_df\n",
    "from invisible_cities.io.mcinfo_io import load_mcsensor_positions\n",
    "from invisible_cities.io.mcinfo_io import load_mcsensor_response_df\n",
    "from invisible_cities.io.mcinfo_io import get_sensor_types\n",
    "from invisible_cities.io.mcinfo_io import get_sensor_binning\n",
    "from invisible_cities.io.mcinfo_io import get_event_numbers_in_file\n",
    "from invisible_cities.core.core_functions import in_range\n"
   ]
  },
  {
   "cell_type": "code",
   "execution_count": 3,
   "metadata": {},
   "outputs": [],
   "source": [
    "%matplotlib inline\n",
    "%load_ext autoreload\n",
    "%autoreload 2"
   ]
  },
  {
   "cell_type": "code",
   "execution_count": 4,
   "metadata": {},
   "outputs": [],
   "source": [
    "plt.rcParams[\"figure.figsize\"] = 8, 6\n",
    "plt.rcParams[\"font.size\"     ] = 14"
   ]
  },
  {
   "cell_type": "markdown",
   "metadata": {},
   "source": [
    "# Code"
   ]
  },
  {
   "cell_type": "code",
   "execution_count": 5,
   "metadata": {},
   "outputs": [],
   "source": [
    "NN= -999999  # No Number, a trick to aovid nans in data structs\n",
    "\n",
    "\n",
    "class NNN:\n",
    "\n",
    "    def __getattr__(self, _):\n",
    "        return NN\n"
   ]
  },
  {
   "cell_type": "code",
   "execution_count": 7,
   "metadata": {},
   "outputs": [],
   "source": [
    "def get_evt_true_positions_df(mcParts):\n",
    "    \"\"\"Prepares a DF with the true position of the events using \n",
    "    the initial vertex of the first particle that is always primary\n",
    "    \n",
    "    \"\"\"\n",
    "    evt_truePos = mcParts.loc[pd.IndexSlice[:, 1], ['initial_x', 'initial_y', 'initial_z']]\n",
    "    \n",
    "    # Removing the 'particle_id' column\n",
    "    evt_truePos = pd.DataFrame(evt_truePos.values,\n",
    "                               index=evt_truePos.index.droplevel(1),\n",
    "                               columns = ['true_x', 'true_y', 'true_z'])\n",
    "    \n",
    "    return evt_truePos"
   ]
  },
  {
   "cell_type": "markdown",
   "metadata": {},
   "source": [
    "# DATA"
   ]
  },
  {
   "cell_type": "code",
   "execution_count": 8,
   "metadata": {},
   "outputs": [],
   "source": [
    "VERBOSITY = True"
   ]
  },
  {
   "cell_type": "markdown",
   "metadata": {},
   "source": [
    "# Input data"
   ]
  },
  {
   "cell_type": "code",
   "execution_count": 9,
   "metadata": {},
   "outputs": [],
   "source": [
    "iPATH = \"/Users/jj/Development/demoData/flex\""
   ]
  },
  {
   "cell_type": "code",
   "execution_count": 10,
   "metadata": {},
   "outputs": [
    {
     "name": "stdout",
     "output_type": "stream",
     "text": [
      "2 input file names ...\n",
      "\n",
      "/Users/jj/Development/demoData/flex/NEXT_FLEX.Kr83.ACTIVE.0.next.h5\n",
      "[ 0  1  2  3  4  5  6  7  8  9 10 11 12 13 14 15 16 17 18 19 20 21 22 23\n",
      " 24 25 26 27 28 29 30 31 32 33 34 35 36 37 38 39 40 41 42 43 44 45 46 47\n",
      " 48 49 50 51 52 53 54 55 56 57 58 59 60 61 62 63 64 65 66 67 68 69 70 71\n",
      " 72 73 74 75 76 77 78 79 80 81 82 83 84 85 86 87 88 89 90 91 92 93 94 95\n",
      " 96 97 98 99]\n",
      "/Users/jj/Development/demoData/flex/NEXT_FLEX.Kr83.ACTIVE.1.next.h5\n",
      "[100 101 102 103 104 105 106 107 108 109 110 111 112 113 114 115 116 117\n",
      " 118 119 120 121 122 123 124 125 126 127 128 129 130 131 132 133 134 135\n",
      " 136 137 138 139 140 141 142 143 144 145 146 147 148 149 150 151 152 153\n",
      " 154 155 156 157 158 159 160 161 162 163 164 165 166 167 168 169 170 171\n",
      " 172 173 174 175 176 177 178 179 180 181 182 183 184 185 186 187 188 189\n",
      " 190 191 192 193 194 195 196 197 198 199]\n"
     ]
    }
   ],
   "source": [
    "ifnames = glob.glob(f\"{iPATH}/*.h5\")\n",
    "\n",
    "if VERBOSITY:\n",
    "    print(f\"{len(ifnames)} input file names ...\\n\")\n",
    "    for ifname in ifnames:\n",
    "        print(ifname)\n",
    "        print(get_event_numbers_in_file(ifname))"
   ]
  },
  {
   "cell_type": "code",
   "execution_count": 11,
   "metadata": {},
   "outputs": [
    {
     "name": "stdout",
     "output_type": "stream",
     "text": [
      "                                                param_value\n",
      "param_key                                                  \n",
      "/Geometry/NextFlex/e_lifetime                     10000. ms\n",
      "/Geometry/NextFlex/el_gap_length                    10.  mm\n",
      "/Geometry/NextFlex/el_field_int             16. kilovolt/cm\n",
      "/Geometry/NextFlex/tp_sipm_anode_dist              13.1  mm\n",
      "/Geometry/NextFlex/tp_teflon_thickness               2.1 mm\n",
      "/Geometry/NextFlex/tp_teflon_hole_diam               3.  mm\n",
      "/Geometry/NextFlex/tp_sipm_sizeX                    1.0  mm\n",
      "/Geometry/NextFlex/tp_sipm_pitchX                  15.55 mm\n",
      "num_events                                              100\n",
      "TP_SiPM_binning                                1.000000 mus\n",
      "F_SENSOR_L_binning                             0.001000 mus\n",
      "F_SENSOR_R_binning                             0.001000 mus\n"
     ]
    }
   ],
   "source": [
    "# Verbosing main config parameters\n",
    "if VERBOSITY:\n",
    "    mcConfig = load_mcconfiguration(ifnames[0])\n",
    "    mcConfig.set_index(\"param_key\", inplace = True)\n",
    "    main_params = [\"/Geometry/NextFlex/e_lifetime\", \"/Geometry/NextFlex/el_gap_length\",\n",
    "                   \"/Geometry/NextFlex/el_field_int\", \"/Geometry/NextFlex/tp_sipm_anode_dist\",\n",
    "                   \"/Geometry/NextFlex/tp_teflon_thickness\", \"/Geometry/NextFlex/tp_teflon_hole_diam\",\n",
    "                   \"/Geometry/NextFlex/tp_sipm_sizeX\", \"/Geometry/NextFlex/tp_sipm_pitchX\",\n",
    "                   \"num_events\", \"TP_SiPM_binning\", \"F_SENSOR_L_binning\", \"F_SENSOR_R_binning\"]\n",
    "    print(mcConfig.loc[main_params])\n"
   ]
  },
  {
   "cell_type": "code",
   "execution_count": 12,
   "metadata": {},
   "outputs": [
    {
     "data": {
      "text/plain": [
       "param_value           15.55 mm\n",
       "Name: /Geometry/NextFlex/tp_sipm_pitchX, dtype: object"
      ]
     },
     "execution_count": 12,
     "metadata": {},
     "output_type": "execute_result"
    }
   ],
   "source": [
    "par = mcConfig.loc[\"/Geometry/NextFlex/tp_sipm_pitchX\"]\n",
    "par"
   ]
  },
  {
   "cell_type": "markdown",
   "metadata": {},
   "source": [
    "## Extract pitch from params"
   ]
  },
  {
   "cell_type": "code",
   "execution_count": 13,
   "metadata": {},
   "outputs": [
    {
     "data": {
      "text/plain": [
       "15.55"
      ]
     },
     "execution_count": 13,
     "metadata": {},
     "output_type": "execute_result"
    }
   ],
   "source": [
    "pitch = float(par.param_value.split(' ')[-2])\n",
    "pitch"
   ]
  },
  {
   "cell_type": "markdown",
   "metadata": {},
   "source": [
    "## SiPMs are at indices < 10000 in dataframes "
   ]
  },
  {
   "cell_type": "code",
   "execution_count": 14,
   "metadata": {},
   "outputs": [],
   "source": [
    "sipm_index = 10000"
   ]
  },
  {
   "cell_type": "markdown",
   "metadata": {},
   "source": [
    "## read SiPM map"
   ]
  },
  {
   "cell_type": "code",
   "execution_count": 15,
   "metadata": {},
   "outputs": [],
   "source": [
    "sipm_map = pd.read_csv('sipm_map.csv')"
   ]
  },
  {
   "cell_type": "code",
   "execution_count": 16,
   "metadata": {},
   "outputs": [
    {
     "data": {
      "text/html": [
       "<div>\n",
       "<style scoped>\n",
       "    .dataframe tbody tr th:only-of-type {\n",
       "        vertical-align: middle;\n",
       "    }\n",
       "\n",
       "    .dataframe tbody tr th {\n",
       "        vertical-align: top;\n",
       "    }\n",
       "\n",
       "    .dataframe thead th {\n",
       "        text-align: right;\n",
       "    }\n",
       "</style>\n",
       "<table border=\"1\" class=\"dataframe\">\n",
       "  <thead>\n",
       "    <tr style=\"text-align: right;\">\n",
       "      <th></th>\n",
       "      <th>Unnamed: 0</th>\n",
       "      <th>sensor_id</th>\n",
       "      <th>sensor_name</th>\n",
       "      <th>x</th>\n",
       "      <th>y</th>\n",
       "      <th>xl</th>\n",
       "      <th>xr</th>\n",
       "      <th>yu</th>\n",
       "      <th>yd</th>\n",
       "      <th>id_xl</th>\n",
       "      <th>id_xr</th>\n",
       "      <th>id_yu</th>\n",
       "      <th>id_yd</th>\n",
       "    </tr>\n",
       "  </thead>\n",
       "  <tbody>\n",
       "    <tr>\n",
       "      <th>0</th>\n",
       "      <td>0</td>\n",
       "      <td>3821</td>\n",
       "      <td>TP_SiPM</td>\n",
       "      <td>279.90</td>\n",
       "      <td>342.10</td>\n",
       "      <td>264.349994</td>\n",
       "      <td>295.449994</td>\n",
       "      <td>3.576500e+02</td>\n",
       "      <td>326.550006</td>\n",
       "      <td>3820</td>\n",
       "      <td>3822</td>\n",
       "      <td>3865</td>\n",
       "      <td>3775</td>\n",
       "    </tr>\n",
       "    <tr>\n",
       "      <th>1</th>\n",
       "      <td>1</td>\n",
       "      <td>2853</td>\n",
       "      <td>TP_SiPM</td>\n",
       "      <td>-108.85</td>\n",
       "      <td>77.75</td>\n",
       "      <td>-124.399998</td>\n",
       "      <td>-93.299998</td>\n",
       "      <td>9.330000e+01</td>\n",
       "      <td>62.200000</td>\n",
       "      <td>2852</td>\n",
       "      <td>2854</td>\n",
       "      <td>2914</td>\n",
       "      <td>2791</td>\n",
       "    </tr>\n",
       "    <tr>\n",
       "      <th>2</th>\n",
       "      <td>2</td>\n",
       "      <td>2732</td>\n",
       "      <td>TP_SiPM</td>\n",
       "      <td>-46.65</td>\n",
       "      <td>46.65</td>\n",
       "      <td>-62.200002</td>\n",
       "      <td>-31.100002</td>\n",
       "      <td>6.220000e+01</td>\n",
       "      <td>31.100002</td>\n",
       "      <td>2731</td>\n",
       "      <td>2733</td>\n",
       "      <td>2795</td>\n",
       "      <td>2669</td>\n",
       "    </tr>\n",
       "    <tr>\n",
       "      <th>3</th>\n",
       "      <td>3</td>\n",
       "      <td>2669</td>\n",
       "      <td>TP_SiPM</td>\n",
       "      <td>-46.65</td>\n",
       "      <td>31.10</td>\n",
       "      <td>-62.200002</td>\n",
       "      <td>-31.100002</td>\n",
       "      <td>4.665000e+01</td>\n",
       "      <td>15.550000</td>\n",
       "      <td>2668</td>\n",
       "      <td>2670</td>\n",
       "      <td>2732</td>\n",
       "      <td>2606</td>\n",
       "    </tr>\n",
       "    <tr>\n",
       "      <th>4</th>\n",
       "      <td>4</td>\n",
       "      <td>2479</td>\n",
       "      <td>TP_SiPM</td>\n",
       "      <td>-62.20</td>\n",
       "      <td>-15.55</td>\n",
       "      <td>-77.750001</td>\n",
       "      <td>-46.650001</td>\n",
       "      <td>-1.907349e-07</td>\n",
       "      <td>-31.100000</td>\n",
       "      <td>2478</td>\n",
       "      <td>2480</td>\n",
       "      <td>2542</td>\n",
       "      <td>2416</td>\n",
       "    </tr>\n",
       "    <tr>\n",
       "      <th>...</th>\n",
       "      <td>...</td>\n",
       "      <td>...</td>\n",
       "      <td>...</td>\n",
       "      <td>...</td>\n",
       "      <td>...</td>\n",
       "      <td>...</td>\n",
       "      <td>...</td>\n",
       "      <td>...</td>\n",
       "      <td>...</td>\n",
       "      <td>...</td>\n",
       "      <td>...</td>\n",
       "      <td>...</td>\n",
       "      <td>...</td>\n",
       "    </tr>\n",
       "    <tr>\n",
       "      <th>3088</th>\n",
       "      <td>3088</td>\n",
       "      <td>1670</td>\n",
       "      <td>TP_SiPM</td>\n",
       "      <td>-419.85</td>\n",
       "      <td>-217.70</td>\n",
       "      <td>-435.400006</td>\n",
       "      <td>-404.300006</td>\n",
       "      <td>-2.021500e+02</td>\n",
       "      <td>-233.249997</td>\n",
       "      <td>1669</td>\n",
       "      <td>1671</td>\n",
       "      <td>1727</td>\n",
       "      <td>1614</td>\n",
       "    </tr>\n",
       "    <tr>\n",
       "      <th>3089</th>\n",
       "      <td>3089</td>\n",
       "      <td>1569</td>\n",
       "      <td>TP_SiPM</td>\n",
       "      <td>-279.90</td>\n",
       "      <td>-248.80</td>\n",
       "      <td>-295.449994</td>\n",
       "      <td>-264.349994</td>\n",
       "      <td>-2.332500e+02</td>\n",
       "      <td>-264.350003</td>\n",
       "      <td>1568</td>\n",
       "      <td>1570</td>\n",
       "      <td>1623</td>\n",
       "      <td>1516</td>\n",
       "    </tr>\n",
       "    <tr>\n",
       "      <th>3090</th>\n",
       "      <td>3090</td>\n",
       "      <td>3286</td>\n",
       "      <td>TP_SiPM</td>\n",
       "      <td>77.75</td>\n",
       "      <td>186.60</td>\n",
       "      <td>62.200000</td>\n",
       "      <td>93.300000</td>\n",
       "      <td>2.021500e+02</td>\n",
       "      <td>171.050006</td>\n",
       "      <td>3285</td>\n",
       "      <td>3287</td>\n",
       "      <td>3343</td>\n",
       "      <td>3228</td>\n",
       "    </tr>\n",
       "    <tr>\n",
       "      <th>3091</th>\n",
       "      <td>3091</td>\n",
       "      <td>1528</td>\n",
       "      <td>TP_SiPM</td>\n",
       "      <td>-93.30</td>\n",
       "      <td>-264.35</td>\n",
       "      <td>-108.850003</td>\n",
       "      <td>-77.750003</td>\n",
       "      <td>-2.488000e+02</td>\n",
       "      <td>-279.900006</td>\n",
       "      <td>1527</td>\n",
       "      <td>1529</td>\n",
       "      <td>1581</td>\n",
       "      <td>1476</td>\n",
       "    </tr>\n",
       "    <tr>\n",
       "      <th>3092</th>\n",
       "      <td>3092</td>\n",
       "      <td>3287</td>\n",
       "      <td>TP_SiPM</td>\n",
       "      <td>93.30</td>\n",
       "      <td>186.60</td>\n",
       "      <td>77.750003</td>\n",
       "      <td>108.850003</td>\n",
       "      <td>2.021500e+02</td>\n",
       "      <td>171.050006</td>\n",
       "      <td>3286</td>\n",
       "      <td>3288</td>\n",
       "      <td>3344</td>\n",
       "      <td>3229</td>\n",
       "    </tr>\n",
       "  </tbody>\n",
       "</table>\n",
       "<p>3093 rows × 13 columns</p>\n",
       "</div>"
      ],
      "text/plain": [
       "      Unnamed: 0  sensor_id sensor_name       x       y          xl  \\\n",
       "0              0       3821     TP_SiPM  279.90  342.10  264.349994   \n",
       "1              1       2853     TP_SiPM -108.85   77.75 -124.399998   \n",
       "2              2       2732     TP_SiPM  -46.65   46.65  -62.200002   \n",
       "3              3       2669     TP_SiPM  -46.65   31.10  -62.200002   \n",
       "4              4       2479     TP_SiPM  -62.20  -15.55  -77.750001   \n",
       "...          ...        ...         ...     ...     ...         ...   \n",
       "3088        3088       1670     TP_SiPM -419.85 -217.70 -435.400006   \n",
       "3089        3089       1569     TP_SiPM -279.90 -248.80 -295.449994   \n",
       "3090        3090       3286     TP_SiPM   77.75  186.60   62.200000   \n",
       "3091        3091       1528     TP_SiPM  -93.30 -264.35 -108.850003   \n",
       "3092        3092       3287     TP_SiPM   93.30  186.60   77.750003   \n",
       "\n",
       "              xr            yu          yd  id_xl  id_xr  id_yu  id_yd  \n",
       "0     295.449994  3.576500e+02  326.550006   3820   3822   3865   3775  \n",
       "1     -93.299998  9.330000e+01   62.200000   2852   2854   2914   2791  \n",
       "2     -31.100002  6.220000e+01   31.100002   2731   2733   2795   2669  \n",
       "3     -31.100002  4.665000e+01   15.550000   2668   2670   2732   2606  \n",
       "4     -46.650001 -1.907349e-07  -31.100000   2478   2480   2542   2416  \n",
       "...          ...           ...         ...    ...    ...    ...    ...  \n",
       "3088 -404.300006 -2.021500e+02 -233.249997   1669   1671   1727   1614  \n",
       "3089 -264.349994 -2.332500e+02 -264.350003   1568   1570   1623   1516  \n",
       "3090   93.300000  2.021500e+02  171.050006   3285   3287   3343   3228  \n",
       "3091  -77.750003 -2.488000e+02 -279.900006   1527   1529   1581   1476  \n",
       "3092  108.850003  2.021500e+02  171.050006   3286   3288   3344   3229  \n",
       "\n",
       "[3093 rows x 13 columns]"
      ]
     },
     "execution_count": 16,
     "metadata": {},
     "output_type": "execute_result"
    }
   ],
   "source": [
    "sipm_map"
   ]
  },
  {
   "cell_type": "markdown",
   "metadata": {},
   "source": [
    "## Sensors"
   ]
  },
  {
   "cell_type": "code",
   "execution_count": 17,
   "metadata": {},
   "outputs": [
    {
     "data": {
      "text/html": [
       "<div>\n",
       "<style scoped>\n",
       "    .dataframe tbody tr th:only-of-type {\n",
       "        vertical-align: middle;\n",
       "    }\n",
       "\n",
       "    .dataframe tbody tr th {\n",
       "        vertical-align: top;\n",
       "    }\n",
       "\n",
       "    .dataframe thead th {\n",
       "        text-align: right;\n",
       "    }\n",
       "</style>\n",
       "<table border=\"1\" class=\"dataframe\">\n",
       "  <thead>\n",
       "    <tr style=\"text-align: right;\">\n",
       "      <th></th>\n",
       "      <th>bin_width</th>\n",
       "    </tr>\n",
       "    <tr>\n",
       "      <th>sns_name</th>\n",
       "      <th></th>\n",
       "    </tr>\n",
       "  </thead>\n",
       "  <tbody>\n",
       "    <tr>\n",
       "      <th>F_SENSOR_L</th>\n",
       "      <td>1.0</td>\n",
       "    </tr>\n",
       "    <tr>\n",
       "      <th>F_SENSOR_R</th>\n",
       "      <td>1.0</td>\n",
       "    </tr>\n",
       "    <tr>\n",
       "      <th>TP_SiPM</th>\n",
       "      <td>1000.0</td>\n",
       "    </tr>\n",
       "  </tbody>\n",
       "</table>\n",
       "</div>"
      ],
      "text/plain": [
       "            bin_width\n",
       "sns_name             \n",
       "F_SENSOR_L        1.0\n",
       "F_SENSOR_R        1.0\n",
       "TP_SiPM        1000.0"
      ]
     },
     "execution_count": 17,
     "metadata": {},
     "output_type": "execute_result"
    }
   ],
   "source": [
    "get_sensor_binning(ifnames[0])"
   ]
  },
  {
   "cell_type": "code",
   "execution_count": 18,
   "metadata": {},
   "outputs": [
    {
     "data": {
      "text/html": [
       "<div>\n",
       "<style scoped>\n",
       "    .dataframe tbody tr th:only-of-type {\n",
       "        vertical-align: middle;\n",
       "    }\n",
       "\n",
       "    .dataframe tbody tr th {\n",
       "        vertical-align: top;\n",
       "    }\n",
       "\n",
       "    .dataframe thead th {\n",
       "        text-align: right;\n",
       "    }\n",
       "</style>\n",
       "<table border=\"1\" class=\"dataframe\">\n",
       "  <thead>\n",
       "    <tr style=\"text-align: right;\">\n",
       "      <th></th>\n",
       "      <th>sensor_id</th>\n",
       "      <th>sensor_name</th>\n",
       "    </tr>\n",
       "  </thead>\n",
       "  <tbody>\n",
       "    <tr>\n",
       "      <th>0</th>\n",
       "      <td>101200</td>\n",
       "      <td>F_SENSOR_L</td>\n",
       "    </tr>\n",
       "    <tr>\n",
       "      <th>1</th>\n",
       "      <td>100109</td>\n",
       "      <td>F_SENSOR_L</td>\n",
       "    </tr>\n",
       "    <tr>\n",
       "      <th>2</th>\n",
       "      <td>100839</td>\n",
       "      <td>F_SENSOR_L</td>\n",
       "    </tr>\n",
       "    <tr>\n",
       "      <th>3</th>\n",
       "      <td>100819</td>\n",
       "      <td>F_SENSOR_L</td>\n",
       "    </tr>\n",
       "    <tr>\n",
       "      <th>4</th>\n",
       "      <td>100019</td>\n",
       "      <td>F_SENSOR_L</td>\n",
       "    </tr>\n",
       "  </tbody>\n",
       "</table>\n",
       "</div>"
      ],
      "text/plain": [
       "   sensor_id sensor_name\n",
       "0     101200  F_SENSOR_L\n",
       "1     100109  F_SENSOR_L\n",
       "2     100839  F_SENSOR_L\n",
       "3     100819  F_SENSOR_L\n",
       "4     100019  F_SENSOR_L"
      ]
     },
     "execution_count": 18,
     "metadata": {},
     "output_type": "execute_result"
    }
   ],
   "source": [
    "sns_types = get_sensor_types(ifnames[0])\n",
    "sns_types.head()"
   ]
  },
  {
   "cell_type": "code",
   "execution_count": 19,
   "metadata": {},
   "outputs": [
    {
     "data": {
      "text/html": [
       "<div>\n",
       "<style scoped>\n",
       "    .dataframe tbody tr th:only-of-type {\n",
       "        vertical-align: middle;\n",
       "    }\n",
       "\n",
       "    .dataframe tbody tr th {\n",
       "        vertical-align: top;\n",
       "    }\n",
       "\n",
       "    .dataframe thead th {\n",
       "        text-align: right;\n",
       "    }\n",
       "</style>\n",
       "<table border=\"1\" class=\"dataframe\">\n",
       "  <thead>\n",
       "    <tr style=\"text-align: right;\">\n",
       "      <th></th>\n",
       "      <th>sensor_id</th>\n",
       "      <th>sensor_name</th>\n",
       "      <th>x</th>\n",
       "      <th>y</th>\n",
       "      <th>z</th>\n",
       "    </tr>\n",
       "  </thead>\n",
       "  <tbody>\n",
       "    <tr>\n",
       "      <th>0</th>\n",
       "      <td>101200</td>\n",
       "      <td>F_SENSOR_L</td>\n",
       "      <td>-486.079315</td>\n",
       "      <td>82.315834</td>\n",
       "      <td>-30.299999</td>\n",
       "    </tr>\n",
       "    <tr>\n",
       "      <th>1</th>\n",
       "      <td>100109</td>\n",
       "      <td>F_SENSOR_L</td>\n",
       "      <td>211.449921</td>\n",
       "      <td>445.351471</td>\n",
       "      <td>-30.299999</td>\n",
       "    </tr>\n",
       "    <tr>\n",
       "      <th>2</th>\n",
       "      <td>100839</td>\n",
       "      <td>F_SENSOR_L</td>\n",
       "      <td>-131.708267</td>\n",
       "      <td>-475.080963</td>\n",
       "      <td>-30.299999</td>\n",
       "    </tr>\n",
       "    <tr>\n",
       "      <th>3</th>\n",
       "      <td>100819</td>\n",
       "      <td>F_SENSOR_L</td>\n",
       "      <td>-92.674385</td>\n",
       "      <td>-484.211182</td>\n",
       "      <td>-30.299999</td>\n",
       "    </tr>\n",
       "    <tr>\n",
       "      <th>4</th>\n",
       "      <td>100019</td>\n",
       "      <td>F_SENSOR_L</td>\n",
       "      <td>38.055695</td>\n",
       "      <td>491.528992</td>\n",
       "      <td>-30.299999</td>\n",
       "    </tr>\n",
       "  </tbody>\n",
       "</table>\n",
       "</div>"
      ],
      "text/plain": [
       "   sensor_id sensor_name           x           y          z\n",
       "0     101200  F_SENSOR_L -486.079315   82.315834 -30.299999\n",
       "1     100109  F_SENSOR_L  211.449921  445.351471 -30.299999\n",
       "2     100839  F_SENSOR_L -131.708267 -475.080963 -30.299999\n",
       "3     100819  F_SENSOR_L  -92.674385 -484.211182 -30.299999\n",
       "4     100019  F_SENSOR_L   38.055695  491.528992 -30.299999"
      ]
     },
     "execution_count": 19,
     "metadata": {},
     "output_type": "execute_result"
    }
   ],
   "source": [
    "sns_positions = load_mcsensor_positions(ifnames[0])\n",
    "sns_positions.head()"
   ]
  },
  {
   "cell_type": "markdown",
   "metadata": {},
   "source": [
    "## True position from MC particles"
   ]
  },
  {
   "cell_type": "markdown",
   "metadata": {},
   "source": [
    "#### MC Particles"
   ]
  },
  {
   "cell_type": "code",
   "execution_count": 20,
   "metadata": {},
   "outputs": [
    {
     "name": "stdout",
     "output_type": "stream",
     "text": [
      "Index(['particle_name', 'primary', 'mother_id', 'initial_x', 'initial_y',\n",
      "       'initial_z', 'initial_t', 'final_x', 'final_y', 'final_z', 'final_t',\n",
      "       'initial_volume', 'final_volume', 'initial_momentum_x',\n",
      "       'initial_momentum_y', 'initial_momentum_z', 'final_momentum_x',\n",
      "       'final_momentum_y', 'final_momentum_z', 'kin_energy', 'length',\n",
      "       'creator_proc', 'final_proc'],\n",
      "      dtype='object')\n"
     ]
    },
    {
     "data": {
      "text/html": [
       "<div>\n",
       "<style scoped>\n",
       "    .dataframe tbody tr th:only-of-type {\n",
       "        vertical-align: middle;\n",
       "    }\n",
       "\n",
       "    .dataframe tbody tr th {\n",
       "        vertical-align: top;\n",
       "    }\n",
       "\n",
       "    .dataframe thead th {\n",
       "        text-align: right;\n",
       "    }\n",
       "</style>\n",
       "<table border=\"1\" class=\"dataframe\">\n",
       "  <thead>\n",
       "    <tr style=\"text-align: right;\">\n",
       "      <th></th>\n",
       "      <th></th>\n",
       "      <th>particle_name</th>\n",
       "      <th>primary</th>\n",
       "      <th>mother_id</th>\n",
       "      <th>initial_x</th>\n",
       "      <th>initial_y</th>\n",
       "      <th>initial_z</th>\n",
       "      <th>initial_t</th>\n",
       "      <th>final_x</th>\n",
       "      <th>final_y</th>\n",
       "      <th>final_z</th>\n",
       "      <th>...</th>\n",
       "      <th>initial_momentum_x</th>\n",
       "      <th>initial_momentum_y</th>\n",
       "      <th>initial_momentum_z</th>\n",
       "      <th>final_momentum_x</th>\n",
       "      <th>final_momentum_y</th>\n",
       "      <th>final_momentum_z</th>\n",
       "      <th>kin_energy</th>\n",
       "      <th>length</th>\n",
       "      <th>creator_proc</th>\n",
       "      <th>final_proc</th>\n",
       "    </tr>\n",
       "    <tr>\n",
       "      <th>event_id</th>\n",
       "      <th>particle_id</th>\n",
       "      <th></th>\n",
       "      <th></th>\n",
       "      <th></th>\n",
       "      <th></th>\n",
       "      <th></th>\n",
       "      <th></th>\n",
       "      <th></th>\n",
       "      <th></th>\n",
       "      <th></th>\n",
       "      <th></th>\n",
       "      <th></th>\n",
       "      <th></th>\n",
       "      <th></th>\n",
       "      <th></th>\n",
       "      <th></th>\n",
       "      <th></th>\n",
       "      <th></th>\n",
       "      <th></th>\n",
       "      <th></th>\n",
       "      <th></th>\n",
       "      <th></th>\n",
       "    </tr>\n",
       "  </thead>\n",
       "  <tbody>\n",
       "    <tr>\n",
       "      <th rowspan=\"5\" valign=\"top\">0</th>\n",
       "      <th>3</th>\n",
       "      <td>e-</td>\n",
       "      <td>True</td>\n",
       "      <td>0</td>\n",
       "      <td>-56.189575</td>\n",
       "      <td>45.298237</td>\n",
       "      <td>699.266174</td>\n",
       "      <td>0.000000</td>\n",
       "      <td>-56.189659</td>\n",
       "      <td>45.280075</td>\n",
       "      <td>699.270569</td>\n",
       "      <td>...</td>\n",
       "      <td>0.084066</td>\n",
       "      <td>-0.019819</td>\n",
       "      <td>-0.047235</td>\n",
       "      <td>-0.0</td>\n",
       "      <td>0.0</td>\n",
       "      <td>-0.0</td>\n",
       "      <td>0.009396</td>\n",
       "      <td>0.073767</td>\n",
       "      <td>none</td>\n",
       "      <td>Scintillation</td>\n",
       "    </tr>\n",
       "    <tr>\n",
       "      <th>2</th>\n",
       "      <td>gamma</td>\n",
       "      <td>True</td>\n",
       "      <td>0</td>\n",
       "      <td>-56.189575</td>\n",
       "      <td>45.298237</td>\n",
       "      <td>699.266174</td>\n",
       "      <td>0.000000</td>\n",
       "      <td>-56.465294</td>\n",
       "      <td>45.457912</td>\n",
       "      <td>699.239929</td>\n",
       "      <td>...</td>\n",
       "      <td>-0.010865</td>\n",
       "      <td>0.006292</td>\n",
       "      <td>-0.001036</td>\n",
       "      <td>-0.0</td>\n",
       "      <td>0.0</td>\n",
       "      <td>-0.0</td>\n",
       "      <td>0.012598</td>\n",
       "      <td>0.319702</td>\n",
       "      <td>none</td>\n",
       "      <td>phot</td>\n",
       "    </tr>\n",
       "    <tr>\n",
       "      <th>380669</th>\n",
       "      <td>e-</td>\n",
       "      <td>False</td>\n",
       "      <td>2</td>\n",
       "      <td>-56.465294</td>\n",
       "      <td>45.457912</td>\n",
       "      <td>699.239929</td>\n",
       "      <td>0.001066</td>\n",
       "      <td>-56.465298</td>\n",
       "      <td>45.457909</td>\n",
       "      <td>699.239929</td>\n",
       "      <td>...</td>\n",
       "      <td>-0.002828</td>\n",
       "      <td>-0.003819</td>\n",
       "      <td>-0.003370</td>\n",
       "      <td>-0.0</td>\n",
       "      <td>-0.0</td>\n",
       "      <td>0.0</td>\n",
       "      <td>0.000033</td>\n",
       "      <td>0.000002</td>\n",
       "      <td>phot</td>\n",
       "      <td>Scintillation</td>\n",
       "    </tr>\n",
       "    <tr>\n",
       "      <th>380668</th>\n",
       "      <td>e-</td>\n",
       "      <td>False</td>\n",
       "      <td>2</td>\n",
       "      <td>-56.465294</td>\n",
       "      <td>45.457912</td>\n",
       "      <td>699.239929</td>\n",
       "      <td>0.001066</td>\n",
       "      <td>-56.465298</td>\n",
       "      <td>45.457912</td>\n",
       "      <td>699.239868</td>\n",
       "      <td>...</td>\n",
       "      <td>-0.004023</td>\n",
       "      <td>0.001364</td>\n",
       "      <td>-0.004243</td>\n",
       "      <td>-0.0</td>\n",
       "      <td>-0.0</td>\n",
       "      <td>-0.0</td>\n",
       "      <td>0.000035</td>\n",
       "      <td>0.000004</td>\n",
       "      <td>phot</td>\n",
       "      <td>Scintillation</td>\n",
       "    </tr>\n",
       "    <tr>\n",
       "      <th>380667</th>\n",
       "      <td>e-</td>\n",
       "      <td>False</td>\n",
       "      <td>2</td>\n",
       "      <td>-56.465294</td>\n",
       "      <td>45.457912</td>\n",
       "      <td>699.239929</td>\n",
       "      <td>0.001066</td>\n",
       "      <td>-56.465477</td>\n",
       "      <td>45.458103</td>\n",
       "      <td>699.239685</td>\n",
       "      <td>...</td>\n",
       "      <td>-0.012960</td>\n",
       "      <td>0.013636</td>\n",
       "      <td>-0.014555</td>\n",
       "      <td>-0.0</td>\n",
       "      <td>0.0</td>\n",
       "      <td>-0.0</td>\n",
       "      <td>0.000553</td>\n",
       "      <td>0.001049</td>\n",
       "      <td>phot</td>\n",
       "      <td>Scintillation</td>\n",
       "    </tr>\n",
       "    <tr>\n",
       "      <th>...</th>\n",
       "      <th>...</th>\n",
       "      <td>...</td>\n",
       "      <td>...</td>\n",
       "      <td>...</td>\n",
       "      <td>...</td>\n",
       "      <td>...</td>\n",
       "      <td>...</td>\n",
       "      <td>...</td>\n",
       "      <td>...</td>\n",
       "      <td>...</td>\n",
       "      <td>...</td>\n",
       "      <td>...</td>\n",
       "      <td>...</td>\n",
       "      <td>...</td>\n",
       "      <td>...</td>\n",
       "      <td>...</td>\n",
       "      <td>...</td>\n",
       "      <td>...</td>\n",
       "      <td>...</td>\n",
       "      <td>...</td>\n",
       "      <td>...</td>\n",
       "      <td>...</td>\n",
       "    </tr>\n",
       "    <tr>\n",
       "      <th rowspan=\"5\" valign=\"top\">99</th>\n",
       "      <th>378070</th>\n",
       "      <td>e-</td>\n",
       "      <td>False</td>\n",
       "      <td>2</td>\n",
       "      <td>-65.055962</td>\n",
       "      <td>-2.292888</td>\n",
       "      <td>215.728058</td>\n",
       "      <td>0.013221</td>\n",
       "      <td>-65.055962</td>\n",
       "      <td>-2.292828</td>\n",
       "      <td>215.728012</td>\n",
       "      <td>...</td>\n",
       "      <td>-0.000158</td>\n",
       "      <td>0.005609</td>\n",
       "      <td>-0.004196</td>\n",
       "      <td>0.0</td>\n",
       "      <td>-0.0</td>\n",
       "      <td>-0.0</td>\n",
       "      <td>0.000048</td>\n",
       "      <td>0.000119</td>\n",
       "      <td>phot</td>\n",
       "      <td>Scintillation</td>\n",
       "    </tr>\n",
       "    <tr>\n",
       "      <th>378069</th>\n",
       "      <td>e-</td>\n",
       "      <td>False</td>\n",
       "      <td>2</td>\n",
       "      <td>-65.055962</td>\n",
       "      <td>-2.292888</td>\n",
       "      <td>215.728058</td>\n",
       "      <td>0.013221</td>\n",
       "      <td>-65.055893</td>\n",
       "      <td>-2.292759</td>\n",
       "      <td>215.728195</td>\n",
       "      <td>...</td>\n",
       "      <td>0.006837</td>\n",
       "      <td>0.013215</td>\n",
       "      <td>0.014162</td>\n",
       "      <td>0.0</td>\n",
       "      <td>0.0</td>\n",
       "      <td>0.0</td>\n",
       "      <td>0.000413</td>\n",
       "      <td>0.000730</td>\n",
       "      <td>phot</td>\n",
       "      <td>Scintillation</td>\n",
       "    </tr>\n",
       "    <tr>\n",
       "      <th>378068</th>\n",
       "      <td>e-</td>\n",
       "      <td>False</td>\n",
       "      <td>2</td>\n",
       "      <td>-65.055962</td>\n",
       "      <td>-2.292888</td>\n",
       "      <td>215.728058</td>\n",
       "      <td>0.013221</td>\n",
       "      <td>-65.057037</td>\n",
       "      <td>-2.292559</td>\n",
       "      <td>215.729309</td>\n",
       "      <td>...</td>\n",
       "      <td>0.062572</td>\n",
       "      <td>-0.003227</td>\n",
       "      <td>0.015918</td>\n",
       "      <td>-0.0</td>\n",
       "      <td>-0.0</td>\n",
       "      <td>-0.0</td>\n",
       "      <td>0.004073</td>\n",
       "      <td>0.027836</td>\n",
       "      <td>phot</td>\n",
       "      <td>Scintillation</td>\n",
       "    </tr>\n",
       "    <tr>\n",
       "      <th>378067</th>\n",
       "      <td>e-</td>\n",
       "      <td>False</td>\n",
       "      <td>2</td>\n",
       "      <td>-65.055962</td>\n",
       "      <td>-2.292888</td>\n",
       "      <td>215.728058</td>\n",
       "      <td>0.013221</td>\n",
       "      <td>-65.071854</td>\n",
       "      <td>-2.298036</td>\n",
       "      <td>215.733459</td>\n",
       "      <td>...</td>\n",
       "      <td>-0.061036</td>\n",
       "      <td>-0.007538</td>\n",
       "      <td>0.063829</td>\n",
       "      <td>-0.0</td>\n",
       "      <td>0.0</td>\n",
       "      <td>0.0</td>\n",
       "      <td>0.007630</td>\n",
       "      <td>0.027251</td>\n",
       "      <td>phot</td>\n",
       "      <td>Scintillation</td>\n",
       "    </tr>\n",
       "    <tr>\n",
       "      <th>1</th>\n",
       "      <td>e-</td>\n",
       "      <td>True</td>\n",
       "      <td>0</td>\n",
       "      <td>-63.312759</td>\n",
       "      <td>-1.815126</td>\n",
       "      <td>219.255478</td>\n",
       "      <td>0.000000</td>\n",
       "      <td>-63.310474</td>\n",
       "      <td>-1.763670</td>\n",
       "      <td>219.302505</td>\n",
       "      <td>...</td>\n",
       "      <td>-0.012102</td>\n",
       "      <td>0.116082</td>\n",
       "      <td>0.083336</td>\n",
       "      <td>-0.0</td>\n",
       "      <td>0.0</td>\n",
       "      <td>0.0</td>\n",
       "      <td>0.019742</td>\n",
       "      <td>0.236522</td>\n",
       "      <td>none</td>\n",
       "      <td>Scintillation</td>\n",
       "    </tr>\n",
       "  </tbody>\n",
       "</table>\n",
       "<p>527 rows × 23 columns</p>\n",
       "</div>"
      ],
      "text/plain": [
       "                     particle_name  primary  mother_id  initial_x  initial_y  \\\n",
       "event_id particle_id                                                           \n",
       "0        3                      e-     True          0 -56.189575  45.298237   \n",
       "         2                   gamma     True          0 -56.189575  45.298237   \n",
       "         380669                 e-    False          2 -56.465294  45.457912   \n",
       "         380668                 e-    False          2 -56.465294  45.457912   \n",
       "         380667                 e-    False          2 -56.465294  45.457912   \n",
       "...                            ...      ...        ...        ...        ...   \n",
       "99       378070                 e-    False          2 -65.055962  -2.292888   \n",
       "         378069                 e-    False          2 -65.055962  -2.292888   \n",
       "         378068                 e-    False          2 -65.055962  -2.292888   \n",
       "         378067                 e-    False          2 -65.055962  -2.292888   \n",
       "         1                      e-     True          0 -63.312759  -1.815126   \n",
       "\n",
       "                       initial_z  initial_t    final_x    final_y     final_z  \\\n",
       "event_id particle_id                                                            \n",
       "0        3            699.266174   0.000000 -56.189659  45.280075  699.270569   \n",
       "         2            699.266174   0.000000 -56.465294  45.457912  699.239929   \n",
       "         380669       699.239929   0.001066 -56.465298  45.457909  699.239929   \n",
       "         380668       699.239929   0.001066 -56.465298  45.457912  699.239868   \n",
       "         380667       699.239929   0.001066 -56.465477  45.458103  699.239685   \n",
       "...                          ...        ...        ...        ...         ...   \n",
       "99       378070       215.728058   0.013221 -65.055962  -2.292828  215.728012   \n",
       "         378069       215.728058   0.013221 -65.055893  -2.292759  215.728195   \n",
       "         378068       215.728058   0.013221 -65.057037  -2.292559  215.729309   \n",
       "         378067       215.728058   0.013221 -65.071854  -2.298036  215.733459   \n",
       "         1            219.255478   0.000000 -63.310474  -1.763670  219.302505   \n",
       "\n",
       "                      ...  initial_momentum_x initial_momentum_y  \\\n",
       "event_id particle_id  ...                                          \n",
       "0        3            ...            0.084066          -0.019819   \n",
       "         2            ...           -0.010865           0.006292   \n",
       "         380669       ...           -0.002828          -0.003819   \n",
       "         380668       ...           -0.004023           0.001364   \n",
       "         380667       ...           -0.012960           0.013636   \n",
       "...                   ...                 ...                ...   \n",
       "99       378070       ...           -0.000158           0.005609   \n",
       "         378069       ...            0.006837           0.013215   \n",
       "         378068       ...            0.062572          -0.003227   \n",
       "         378067       ...           -0.061036          -0.007538   \n",
       "         1            ...           -0.012102           0.116082   \n",
       "\n",
       "                     initial_momentum_z  final_momentum_x  final_momentum_y  \\\n",
       "event_id particle_id                                                          \n",
       "0        3                    -0.047235              -0.0               0.0   \n",
       "         2                    -0.001036              -0.0               0.0   \n",
       "         380669               -0.003370              -0.0              -0.0   \n",
       "         380668               -0.004243              -0.0              -0.0   \n",
       "         380667               -0.014555              -0.0               0.0   \n",
       "...                                 ...               ...               ...   \n",
       "99       378070               -0.004196               0.0              -0.0   \n",
       "         378069                0.014162               0.0               0.0   \n",
       "         378068                0.015918              -0.0              -0.0   \n",
       "         378067                0.063829              -0.0               0.0   \n",
       "         1                     0.083336              -0.0               0.0   \n",
       "\n",
       "                      final_momentum_z  kin_energy    length  creator_proc  \\\n",
       "event_id particle_id                                                         \n",
       "0        3                        -0.0    0.009396  0.073767          none   \n",
       "         2                        -0.0    0.012598  0.319702          none   \n",
       "         380669                    0.0    0.000033  0.000002          phot   \n",
       "         380668                   -0.0    0.000035  0.000004          phot   \n",
       "         380667                   -0.0    0.000553  0.001049          phot   \n",
       "...                                ...         ...       ...           ...   \n",
       "99       378070                   -0.0    0.000048  0.000119          phot   \n",
       "         378069                    0.0    0.000413  0.000730          phot   \n",
       "         378068                   -0.0    0.004073  0.027836          phot   \n",
       "         378067                    0.0    0.007630  0.027251          phot   \n",
       "         1                         0.0    0.019742  0.236522          none   \n",
       "\n",
       "                         final_proc  \n",
       "event_id particle_id                 \n",
       "0        3            Scintillation  \n",
       "         2                     phot  \n",
       "         380669       Scintillation  \n",
       "         380668       Scintillation  \n",
       "         380667       Scintillation  \n",
       "...                             ...  \n",
       "99       378070       Scintillation  \n",
       "         378069       Scintillation  \n",
       "         378068       Scintillation  \n",
       "         378067       Scintillation  \n",
       "         1            Scintillation  \n",
       "\n",
       "[527 rows x 23 columns]"
      ]
     },
     "execution_count": 20,
     "metadata": {},
     "output_type": "execute_result"
    }
   ],
   "source": [
    "mcParts = load_mcparticles_df(ifnames[0])\n",
    "print(mcParts.columns)\n",
    "mcParts"
   ]
  },
  {
   "cell_type": "code",
   "execution_count": 21,
   "metadata": {},
   "outputs": [],
   "source": [
    "evt0 = mcParts[mcParts.primary].loc[0]"
   ]
  },
  {
   "cell_type": "code",
   "execution_count": 22,
   "metadata": {},
   "outputs": [
    {
     "data": {
      "text/html": [
       "<div>\n",
       "<style scoped>\n",
       "    .dataframe tbody tr th:only-of-type {\n",
       "        vertical-align: middle;\n",
       "    }\n",
       "\n",
       "    .dataframe tbody tr th {\n",
       "        vertical-align: top;\n",
       "    }\n",
       "\n",
       "    .dataframe thead th {\n",
       "        text-align: right;\n",
       "    }\n",
       "</style>\n",
       "<table border=\"1\" class=\"dataframe\">\n",
       "  <thead>\n",
       "    <tr style=\"text-align: right;\">\n",
       "      <th></th>\n",
       "      <th>particle_name</th>\n",
       "      <th>primary</th>\n",
       "      <th>mother_id</th>\n",
       "      <th>initial_x</th>\n",
       "      <th>initial_y</th>\n",
       "      <th>initial_z</th>\n",
       "      <th>initial_t</th>\n",
       "      <th>final_x</th>\n",
       "      <th>final_y</th>\n",
       "      <th>final_z</th>\n",
       "      <th>...</th>\n",
       "      <th>initial_momentum_x</th>\n",
       "      <th>initial_momentum_y</th>\n",
       "      <th>initial_momentum_z</th>\n",
       "      <th>final_momentum_x</th>\n",
       "      <th>final_momentum_y</th>\n",
       "      <th>final_momentum_z</th>\n",
       "      <th>kin_energy</th>\n",
       "      <th>length</th>\n",
       "      <th>creator_proc</th>\n",
       "      <th>final_proc</th>\n",
       "    </tr>\n",
       "    <tr>\n",
       "      <th>particle_id</th>\n",
       "      <th></th>\n",
       "      <th></th>\n",
       "      <th></th>\n",
       "      <th></th>\n",
       "      <th></th>\n",
       "      <th></th>\n",
       "      <th></th>\n",
       "      <th></th>\n",
       "      <th></th>\n",
       "      <th></th>\n",
       "      <th></th>\n",
       "      <th></th>\n",
       "      <th></th>\n",
       "      <th></th>\n",
       "      <th></th>\n",
       "      <th></th>\n",
       "      <th></th>\n",
       "      <th></th>\n",
       "      <th></th>\n",
       "      <th></th>\n",
       "      <th></th>\n",
       "    </tr>\n",
       "  </thead>\n",
       "  <tbody>\n",
       "    <tr>\n",
       "      <th>3</th>\n",
       "      <td>e-</td>\n",
       "      <td>True</td>\n",
       "      <td>0</td>\n",
       "      <td>-56.189575</td>\n",
       "      <td>45.298237</td>\n",
       "      <td>699.266174</td>\n",
       "      <td>0.0</td>\n",
       "      <td>-56.189659</td>\n",
       "      <td>45.280075</td>\n",
       "      <td>699.270569</td>\n",
       "      <td>...</td>\n",
       "      <td>0.084066</td>\n",
       "      <td>-0.019819</td>\n",
       "      <td>-0.047235</td>\n",
       "      <td>-0.0</td>\n",
       "      <td>0.0</td>\n",
       "      <td>-0.0</td>\n",
       "      <td>0.009396</td>\n",
       "      <td>0.073767</td>\n",
       "      <td>none</td>\n",
       "      <td>Scintillation</td>\n",
       "    </tr>\n",
       "    <tr>\n",
       "      <th>2</th>\n",
       "      <td>gamma</td>\n",
       "      <td>True</td>\n",
       "      <td>0</td>\n",
       "      <td>-56.189575</td>\n",
       "      <td>45.298237</td>\n",
       "      <td>699.266174</td>\n",
       "      <td>0.0</td>\n",
       "      <td>-56.465294</td>\n",
       "      <td>45.457912</td>\n",
       "      <td>699.239929</td>\n",
       "      <td>...</td>\n",
       "      <td>-0.010865</td>\n",
       "      <td>0.006292</td>\n",
       "      <td>-0.001036</td>\n",
       "      <td>-0.0</td>\n",
       "      <td>0.0</td>\n",
       "      <td>-0.0</td>\n",
       "      <td>0.012598</td>\n",
       "      <td>0.319702</td>\n",
       "      <td>none</td>\n",
       "      <td>phot</td>\n",
       "    </tr>\n",
       "    <tr>\n",
       "      <th>1</th>\n",
       "      <td>e-</td>\n",
       "      <td>True</td>\n",
       "      <td>0</td>\n",
       "      <td>-56.189575</td>\n",
       "      <td>45.298237</td>\n",
       "      <td>699.266174</td>\n",
       "      <td>0.0</td>\n",
       "      <td>-56.165462</td>\n",
       "      <td>45.262466</td>\n",
       "      <td>699.318176</td>\n",
       "      <td>...</td>\n",
       "      <td>-0.137422</td>\n",
       "      <td>-0.017296</td>\n",
       "      <td>0.034315</td>\n",
       "      <td>-0.0</td>\n",
       "      <td>0.0</td>\n",
       "      <td>-0.0</td>\n",
       "      <td>0.019549</td>\n",
       "      <td>0.191136</td>\n",
       "      <td>none</td>\n",
       "      <td>Scintillation</td>\n",
       "    </tr>\n",
       "  </tbody>\n",
       "</table>\n",
       "<p>3 rows × 23 columns</p>\n",
       "</div>"
      ],
      "text/plain": [
       "            particle_name  primary  mother_id  initial_x  initial_y  \\\n",
       "particle_id                                                           \n",
       "3                      e-     True          0 -56.189575  45.298237   \n",
       "2                   gamma     True          0 -56.189575  45.298237   \n",
       "1                      e-     True          0 -56.189575  45.298237   \n",
       "\n",
       "              initial_z  initial_t    final_x    final_y     final_z  ...  \\\n",
       "particle_id                                                           ...   \n",
       "3            699.266174        0.0 -56.189659  45.280075  699.270569  ...   \n",
       "2            699.266174        0.0 -56.465294  45.457912  699.239929  ...   \n",
       "1            699.266174        0.0 -56.165462  45.262466  699.318176  ...   \n",
       "\n",
       "             initial_momentum_x initial_momentum_y initial_momentum_z  \\\n",
       "particle_id                                                             \n",
       "3                      0.084066          -0.019819          -0.047235   \n",
       "2                     -0.010865           0.006292          -0.001036   \n",
       "1                     -0.137422          -0.017296           0.034315   \n",
       "\n",
       "             final_momentum_x  final_momentum_y  final_momentum_z  kin_energy  \\\n",
       "particle_id                                                                     \n",
       "3                        -0.0               0.0              -0.0    0.009396   \n",
       "2                        -0.0               0.0              -0.0    0.012598   \n",
       "1                        -0.0               0.0              -0.0    0.019549   \n",
       "\n",
       "               length  creator_proc     final_proc  \n",
       "particle_id                                         \n",
       "3            0.073767          none  Scintillation  \n",
       "2            0.319702          none           phot  \n",
       "1            0.191136          none  Scintillation  \n",
       "\n",
       "[3 rows x 23 columns]"
      ]
     },
     "execution_count": 22,
     "metadata": {},
     "output_type": "execute_result"
    }
   ],
   "source": [
    "evt0"
   ]
  },
  {
   "cell_type": "markdown",
   "metadata": {},
   "source": [
    "## Krypton energy in keV"
   ]
  },
  {
   "cell_type": "code",
   "execution_count": 24,
   "metadata": {},
   "outputs": [
    {
     "name": "stdout",
     "output_type": "stream",
     "text": [
      "Krypton energy in keV = 41.543297469615936\n"
     ]
    }
   ],
   "source": [
    "Ekr = np.sum(evt0.kin_energy)*1e+3\n",
    "print(f'Krypton energy in keV = {Ekr}')"
   ]
  },
  {
   "cell_type": "markdown",
   "metadata": {},
   "source": [
    "## S1 time"
   ]
  },
  {
   "cell_type": "code",
   "execution_count": 47,
   "metadata": {},
   "outputs": [],
   "source": [
    "s1_time = 1 * units.mus"
   ]
  },
  {
   "cell_type": "markdown",
   "metadata": {},
   "source": [
    "#### MC Hits"
   ]
  },
  {
   "cell_type": "code",
   "execution_count": 25,
   "metadata": {},
   "outputs": [
    {
     "name": "stdout",
     "output_type": "stream",
     "text": [
      "Index(['x', 'y', 'z', 'time', 'energy', 'label'], dtype='object')\n"
     ]
    },
    {
     "data": {
      "text/html": [
       "<div>\n",
       "<style scoped>\n",
       "    .dataframe tbody tr th:only-of-type {\n",
       "        vertical-align: middle;\n",
       "    }\n",
       "\n",
       "    .dataframe tbody tr th {\n",
       "        vertical-align: top;\n",
       "    }\n",
       "\n",
       "    .dataframe thead th {\n",
       "        text-align: right;\n",
       "    }\n",
       "</style>\n",
       "<table border=\"1\" class=\"dataframe\">\n",
       "  <thead>\n",
       "    <tr style=\"text-align: right;\">\n",
       "      <th></th>\n",
       "      <th></th>\n",
       "      <th></th>\n",
       "      <th>x</th>\n",
       "      <th>y</th>\n",
       "      <th>z</th>\n",
       "      <th>time</th>\n",
       "      <th>energy</th>\n",
       "      <th>label</th>\n",
       "    </tr>\n",
       "    <tr>\n",
       "      <th>event_id</th>\n",
       "      <th>particle_id</th>\n",
       "      <th>hit_id</th>\n",
       "      <th></th>\n",
       "      <th></th>\n",
       "      <th></th>\n",
       "      <th></th>\n",
       "      <th></th>\n",
       "      <th></th>\n",
       "    </tr>\n",
       "  </thead>\n",
       "  <tbody>\n",
       "    <tr>\n",
       "      <th rowspan=\"5\" valign=\"top\">0</th>\n",
       "      <th rowspan=\"5\" valign=\"top\">3</th>\n",
       "      <th>0</th>\n",
       "      <td>-56.185802</td>\n",
       "      <td>45.296860</td>\n",
       "      <td>699.264343</td>\n",
       "      <td>0.000078</td>\n",
       "      <td>0.000186</td>\n",
       "      <td>ACTIVE</td>\n",
       "    </tr>\n",
       "    <tr>\n",
       "      <th>1</th>\n",
       "      <td>-56.184433</td>\n",
       "      <td>45.293285</td>\n",
       "      <td>699.263428</td>\n",
       "      <td>0.000148</td>\n",
       "      <td>0.000096</td>\n",
       "      <td>ACTIVE</td>\n",
       "    </tr>\n",
       "    <tr>\n",
       "      <th>2</th>\n",
       "      <td>-56.183174</td>\n",
       "      <td>45.289669</td>\n",
       "      <td>699.262085</td>\n",
       "      <td>0.000221</td>\n",
       "      <td>0.000547</td>\n",
       "      <td>ACTIVE</td>\n",
       "    </tr>\n",
       "    <tr>\n",
       "      <th>3</th>\n",
       "      <td>-56.180603</td>\n",
       "      <td>45.288792</td>\n",
       "      <td>699.261841</td>\n",
       "      <td>0.000271</td>\n",
       "      <td>0.001003</td>\n",
       "      <td>ACTIVE</td>\n",
       "    </tr>\n",
       "    <tr>\n",
       "      <th>4</th>\n",
       "      <td>-56.180313</td>\n",
       "      <td>45.288155</td>\n",
       "      <td>699.264465</td>\n",
       "      <td>0.000323</td>\n",
       "      <td>0.000052</td>\n",
       "      <td>ACTIVE</td>\n",
       "    </tr>\n",
       "  </tbody>\n",
       "</table>\n",
       "</div>"
      ],
      "text/plain": [
       "                                     x          y           z      time  \\\n",
       "event_id particle_id hit_id                                               \n",
       "0        3           0      -56.185802  45.296860  699.264343  0.000078   \n",
       "                     1      -56.184433  45.293285  699.263428  0.000148   \n",
       "                     2      -56.183174  45.289669  699.262085  0.000221   \n",
       "                     3      -56.180603  45.288792  699.261841  0.000271   \n",
       "                     4      -56.180313  45.288155  699.264465  0.000323   \n",
       "\n",
       "                               energy   label  \n",
       "event_id particle_id hit_id                    \n",
       "0        3           0       0.000186  ACTIVE  \n",
       "                     1       0.000096  ACTIVE  \n",
       "                     2       0.000547  ACTIVE  \n",
       "                     3       0.001003  ACTIVE  \n",
       "                     4       0.000052  ACTIVE  "
      ]
     },
     "execution_count": 25,
     "metadata": {},
     "output_type": "execute_result"
    }
   ],
   "source": [
    "mcHits = load_mchits_df(ifnames[0])\n",
    "print(mcHits.columns)\n",
    "mcHits.head()"
   ]
  },
  {
   "cell_type": "code",
   "execution_count": 26,
   "metadata": {},
   "outputs": [],
   "source": [
    "true_positions = get_evt_true_positions_df(mcParts)"
   ]
  },
  {
   "cell_type": "code",
   "execution_count": 27,
   "metadata": {},
   "outputs": [
    {
     "data": {
      "text/html": [
       "<div>\n",
       "<style scoped>\n",
       "    .dataframe tbody tr th:only-of-type {\n",
       "        vertical-align: middle;\n",
       "    }\n",
       "\n",
       "    .dataframe tbody tr th {\n",
       "        vertical-align: top;\n",
       "    }\n",
       "\n",
       "    .dataframe thead th {\n",
       "        text-align: right;\n",
       "    }\n",
       "</style>\n",
       "<table border=\"1\" class=\"dataframe\">\n",
       "  <thead>\n",
       "    <tr style=\"text-align: right;\">\n",
       "      <th></th>\n",
       "      <th>true_x</th>\n",
       "      <th>true_y</th>\n",
       "      <th>true_z</th>\n",
       "    </tr>\n",
       "    <tr>\n",
       "      <th>event_id</th>\n",
       "      <th></th>\n",
       "      <th></th>\n",
       "      <th></th>\n",
       "    </tr>\n",
       "  </thead>\n",
       "  <tbody>\n",
       "    <tr>\n",
       "      <th>0</th>\n",
       "      <td>-56.189575</td>\n",
       "      <td>45.298237</td>\n",
       "      <td>699.266174</td>\n",
       "    </tr>\n",
       "    <tr>\n",
       "      <th>1</th>\n",
       "      <td>-204.040588</td>\n",
       "      <td>82.765907</td>\n",
       "      <td>1015.823975</td>\n",
       "    </tr>\n",
       "    <tr>\n",
       "      <th>2</th>\n",
       "      <td>-106.802177</td>\n",
       "      <td>361.837128</td>\n",
       "      <td>72.865242</td>\n",
       "    </tr>\n",
       "    <tr>\n",
       "      <th>3</th>\n",
       "      <td>-286.395020</td>\n",
       "      <td>30.258028</td>\n",
       "      <td>601.792908</td>\n",
       "    </tr>\n",
       "    <tr>\n",
       "      <th>4</th>\n",
       "      <td>-211.909500</td>\n",
       "      <td>72.846420</td>\n",
       "      <td>256.701111</td>\n",
       "    </tr>\n",
       "    <tr>\n",
       "      <th>...</th>\n",
       "      <td>...</td>\n",
       "      <td>...</td>\n",
       "      <td>...</td>\n",
       "    </tr>\n",
       "    <tr>\n",
       "      <th>95</th>\n",
       "      <td>-255.406860</td>\n",
       "      <td>-186.872360</td>\n",
       "      <td>828.706848</td>\n",
       "    </tr>\n",
       "    <tr>\n",
       "      <th>96</th>\n",
       "      <td>464.921906</td>\n",
       "      <td>127.380112</td>\n",
       "      <td>96.327408</td>\n",
       "    </tr>\n",
       "    <tr>\n",
       "      <th>97</th>\n",
       "      <td>26.906584</td>\n",
       "      <td>373.798248</td>\n",
       "      <td>688.268555</td>\n",
       "    </tr>\n",
       "    <tr>\n",
       "      <th>98</th>\n",
       "      <td>-237.737595</td>\n",
       "      <td>343.886963</td>\n",
       "      <td>1076.010620</td>\n",
       "    </tr>\n",
       "    <tr>\n",
       "      <th>99</th>\n",
       "      <td>-63.312759</td>\n",
       "      <td>-1.815126</td>\n",
       "      <td>219.255478</td>\n",
       "    </tr>\n",
       "  </tbody>\n",
       "</table>\n",
       "<p>100 rows × 3 columns</p>\n",
       "</div>"
      ],
      "text/plain": [
       "              true_x      true_y       true_z\n",
       "event_id                                     \n",
       "0         -56.189575   45.298237   699.266174\n",
       "1        -204.040588   82.765907  1015.823975\n",
       "2        -106.802177  361.837128    72.865242\n",
       "3        -286.395020   30.258028   601.792908\n",
       "4        -211.909500   72.846420   256.701111\n",
       "...              ...         ...          ...\n",
       "95       -255.406860 -186.872360   828.706848\n",
       "96        464.921906  127.380112    96.327408\n",
       "97         26.906584  373.798248   688.268555\n",
       "98       -237.737595  343.886963  1076.010620\n",
       "99        -63.312759   -1.815126   219.255478\n",
       "\n",
       "[100 rows x 3 columns]"
      ]
     },
     "execution_count": 27,
     "metadata": {},
     "output_type": "execute_result"
    }
   ],
   "source": [
    "true_positions"
   ]
  },
  {
   "cell_type": "code",
   "execution_count": 28,
   "metadata": {},
   "outputs": [
    {
     "data": {
      "text/plain": [
       "<matplotlib.axes._subplots.AxesSubplot at 0x7f91318b6910>"
      ]
     },
     "execution_count": 28,
     "metadata": {},
     "output_type": "execute_result"
    },
    {
     "data": {
      "image/png": "[encoded data removed]",
      "text/plain": [
       "<Figure size 576x432 with 1 Axes>"
      ]
     },
     "metadata": {
      "needs_background": "light"
     },
     "output_type": "display_data"
    }
   ],
   "source": [
    "true_positions.plot(kind='scatter', x='true_x', y='true_y')"
   ]
  },
  {
   "cell_type": "code",
   "execution_count": 29,
   "metadata": {},
   "outputs": [
    {
     "data": {
      "text/plain": [
       "<matplotlib.axes._subplots.AxesSubplot at 0x7f9140d23a50>"
      ]
     },
     "execution_count": 29,
     "metadata": {},
     "output_type": "execute_result"
    },
    {
     "data": {
      "image/png": "[encoded data removed]",
      "text/plain": [
       "<Figure size 576x432 with 1 Axes>"
      ]
     },
     "metadata": {
      "needs_background": "light"
     },
     "output_type": "display_data"
    }
   ],
   "source": [
    "true_positions.plot(kind='scatter', x='true_z', y='true_y')"
   ]
  },
  {
   "cell_type": "markdown",
   "metadata": {},
   "source": [
    "## SENSORS RESPONSE"
   ]
  },
  {
   "cell_type": "code",
   "execution_count": 30,
   "metadata": {},
   "outputs": [
    {
     "data": {
      "text/html": [
       "<div>\n",
       "<style scoped>\n",
       "    .dataframe tbody tr th:only-of-type {\n",
       "        vertical-align: middle;\n",
       "    }\n",
       "\n",
       "    .dataframe tbody tr th {\n",
       "        vertical-align: top;\n",
       "    }\n",
       "\n",
       "    .dataframe thead th {\n",
       "        text-align: right;\n",
       "    }\n",
       "</style>\n",
       "<table border=\"1\" class=\"dataframe\">\n",
       "  <thead>\n",
       "    <tr style=\"text-align: right;\">\n",
       "      <th></th>\n",
       "      <th></th>\n",
       "      <th>charge</th>\n",
       "      <th>time</th>\n",
       "    </tr>\n",
       "    <tr>\n",
       "      <th>event_id</th>\n",
       "      <th>sensor_id</th>\n",
       "      <th></th>\n",
       "      <th></th>\n",
       "    </tr>\n",
       "  </thead>\n",
       "  <tbody>\n",
       "    <tr>\n",
       "      <th rowspan=\"5\" valign=\"top\">0</th>\n",
       "      <th>101200</th>\n",
       "      <td>1</td>\n",
       "      <td>698166.0</td>\n",
       "    </tr>\n",
       "    <tr>\n",
       "      <th>101200</th>\n",
       "      <td>1</td>\n",
       "      <td>698239.0</td>\n",
       "    </tr>\n",
       "    <tr>\n",
       "      <th>101200</th>\n",
       "      <td>1</td>\n",
       "      <td>698512.0</td>\n",
       "    </tr>\n",
       "    <tr>\n",
       "      <th>101200</th>\n",
       "      <td>1</td>\n",
       "      <td>698939.0</td>\n",
       "    </tr>\n",
       "    <tr>\n",
       "      <th>101200</th>\n",
       "      <td>1</td>\n",
       "      <td>699360.0</td>\n",
       "    </tr>\n",
       "    <tr>\n",
       "      <th>...</th>\n",
       "      <th>...</th>\n",
       "      <td>...</td>\n",
       "      <td>...</td>\n",
       "    </tr>\n",
       "    <tr>\n",
       "      <th>56</th>\n",
       "      <th>3287</th>\n",
       "      <td>1</td>\n",
       "      <td>599000.0</td>\n",
       "    </tr>\n",
       "    <tr>\n",
       "      <th rowspan=\"3\" valign=\"top\">61</th>\n",
       "      <th>3287</th>\n",
       "      <td>1</td>\n",
       "      <td>671000.0</td>\n",
       "    </tr>\n",
       "    <tr>\n",
       "      <th>3287</th>\n",
       "      <td>3</td>\n",
       "      <td>672000.0</td>\n",
       "    </tr>\n",
       "    <tr>\n",
       "      <th>3287</th>\n",
       "      <td>1</td>\n",
       "      <td>673000.0</td>\n",
       "    </tr>\n",
       "    <tr>\n",
       "      <th>79</th>\n",
       "      <th>3287</th>\n",
       "      <td>1</td>\n",
       "      <td>59000.0</td>\n",
       "    </tr>\n",
       "  </tbody>\n",
       "</table>\n",
       "<p>5502635 rows × 2 columns</p>\n",
       "</div>"
      ],
      "text/plain": [
       "                    charge      time\n",
       "event_id sensor_id                  \n",
       "0        101200          1  698166.0\n",
       "         101200          1  698239.0\n",
       "         101200          1  698512.0\n",
       "         101200          1  698939.0\n",
       "         101200          1  699360.0\n",
       "...                    ...       ...\n",
       "56       3287            1  599000.0\n",
       "61       3287            1  671000.0\n",
       "         3287            3  672000.0\n",
       "         3287            1  673000.0\n",
       "79       3287            1   59000.0\n",
       "\n",
       "[5502635 rows x 2 columns]"
      ]
     },
     "execution_count": 30,
     "metadata": {},
     "output_type": "execute_result"
    }
   ],
   "source": [
    "sns_response = load_mcsensor_response_df(ifnames[0])\n",
    "sns_response"
   ]
  },
  {
   "cell_type": "code",
   "execution_count": 31,
   "metadata": {},
   "outputs": [],
   "source": [
    "sipm_response = sns_response[sns_response.index \\\n",
    "                               .get_level_values(\"sensor_id\") < sipm_index]"
   ]
  },
  {
   "cell_type": "code",
   "execution_count": 32,
   "metadata": {},
   "outputs": [
    {
     "data": {
      "text/html": [
       "<div>\n",
       "<style scoped>\n",
       "    .dataframe tbody tr th:only-of-type {\n",
       "        vertical-align: middle;\n",
       "    }\n",
       "\n",
       "    .dataframe tbody tr th {\n",
       "        vertical-align: top;\n",
       "    }\n",
       "\n",
       "    .dataframe thead th {\n",
       "        text-align: right;\n",
       "    }\n",
       "</style>\n",
       "<table border=\"1\" class=\"dataframe\">\n",
       "  <thead>\n",
       "    <tr style=\"text-align: right;\">\n",
       "      <th></th>\n",
       "      <th></th>\n",
       "      <th>charge</th>\n",
       "      <th>time</th>\n",
       "    </tr>\n",
       "    <tr>\n",
       "      <th>event_id</th>\n",
       "      <th>sensor_id</th>\n",
       "      <th></th>\n",
       "      <th></th>\n",
       "    </tr>\n",
       "  </thead>\n",
       "  <tbody>\n",
       "    <tr>\n",
       "      <th>0</th>\n",
       "      <th>3821</th>\n",
       "      <td>1</td>\n",
       "      <td>699000.0</td>\n",
       "    </tr>\n",
       "    <tr>\n",
       "      <th>2</th>\n",
       "      <th>3821</th>\n",
       "      <td>1</td>\n",
       "      <td>74000.0</td>\n",
       "    </tr>\n",
       "    <tr>\n",
       "      <th>19</th>\n",
       "      <th>3821</th>\n",
       "      <td>1</td>\n",
       "      <td>779000.0</td>\n",
       "    </tr>\n",
       "    <tr>\n",
       "      <th>25</th>\n",
       "      <th>3821</th>\n",
       "      <td>1</td>\n",
       "      <td>487000.0</td>\n",
       "    </tr>\n",
       "    <tr>\n",
       "      <th>27</th>\n",
       "      <th>3821</th>\n",
       "      <td>2</td>\n",
       "      <td>150000.0</td>\n",
       "    </tr>\n",
       "    <tr>\n",
       "      <th>...</th>\n",
       "      <th>...</th>\n",
       "      <td>...</td>\n",
       "      <td>...</td>\n",
       "    </tr>\n",
       "    <tr>\n",
       "      <th>56</th>\n",
       "      <th>3287</th>\n",
       "      <td>1</td>\n",
       "      <td>599000.0</td>\n",
       "    </tr>\n",
       "    <tr>\n",
       "      <th rowspan=\"3\" valign=\"top\">61</th>\n",
       "      <th>3287</th>\n",
       "      <td>1</td>\n",
       "      <td>671000.0</td>\n",
       "    </tr>\n",
       "    <tr>\n",
       "      <th>3287</th>\n",
       "      <td>3</td>\n",
       "      <td>672000.0</td>\n",
       "    </tr>\n",
       "    <tr>\n",
       "      <th>3287</th>\n",
       "      <td>1</td>\n",
       "      <td>673000.0</td>\n",
       "    </tr>\n",
       "    <tr>\n",
       "      <th>79</th>\n",
       "      <th>3287</th>\n",
       "      <td>1</td>\n",
       "      <td>59000.0</td>\n",
       "    </tr>\n",
       "  </tbody>\n",
       "</table>\n",
       "<p>93470 rows × 2 columns</p>\n",
       "</div>"
      ],
      "text/plain": [
       "                    charge      time\n",
       "event_id sensor_id                  \n",
       "0        3821            1  699000.0\n",
       "2        3821            1   74000.0\n",
       "19       3821            1  779000.0\n",
       "25       3821            1  487000.0\n",
       "27       3821            2  150000.0\n",
       "...                    ...       ...\n",
       "56       3287            1  599000.0\n",
       "61       3287            1  671000.0\n",
       "         3287            3  672000.0\n",
       "         3287            1  673000.0\n",
       "79       3287            1   59000.0\n",
       "\n",
       "[93470 rows x 2 columns]"
      ]
     },
     "execution_count": 32,
     "metadata": {},
     "output_type": "execute_result"
    }
   ],
   "source": [
    "sipm_response"
   ]
  },
  {
   "cell_type": "code",
   "execution_count": 33,
   "metadata": {},
   "outputs": [],
   "source": [
    "fibers_response = sns_response[sns_response.index.get_level_values(\"sensor_id\") >= sipm_index]"
   ]
  },
  {
   "cell_type": "code",
   "execution_count": 34,
   "metadata": {},
   "outputs": [
    {
     "data": {
      "text/html": [
       "<div>\n",
       "<style scoped>\n",
       "    .dataframe tbody tr th:only-of-type {\n",
       "        vertical-align: middle;\n",
       "    }\n",
       "\n",
       "    .dataframe tbody tr th {\n",
       "        vertical-align: top;\n",
       "    }\n",
       "\n",
       "    .dataframe thead th {\n",
       "        text-align: right;\n",
       "    }\n",
       "</style>\n",
       "<table border=\"1\" class=\"dataframe\">\n",
       "  <thead>\n",
       "    <tr style=\"text-align: right;\">\n",
       "      <th></th>\n",
       "      <th></th>\n",
       "      <th>charge</th>\n",
       "      <th>time</th>\n",
       "    </tr>\n",
       "    <tr>\n",
       "      <th>event_id</th>\n",
       "      <th>sensor_id</th>\n",
       "      <th></th>\n",
       "      <th></th>\n",
       "    </tr>\n",
       "  </thead>\n",
       "  <tbody>\n",
       "    <tr>\n",
       "      <th rowspan=\"5\" valign=\"top\">0</th>\n",
       "      <th>101200</th>\n",
       "      <td>1</td>\n",
       "      <td>698166.0</td>\n",
       "    </tr>\n",
       "    <tr>\n",
       "      <th>101200</th>\n",
       "      <td>1</td>\n",
       "      <td>698239.0</td>\n",
       "    </tr>\n",
       "    <tr>\n",
       "      <th>101200</th>\n",
       "      <td>1</td>\n",
       "      <td>698512.0</td>\n",
       "    </tr>\n",
       "    <tr>\n",
       "      <th>101200</th>\n",
       "      <td>1</td>\n",
       "      <td>698939.0</td>\n",
       "    </tr>\n",
       "    <tr>\n",
       "      <th>101200</th>\n",
       "      <td>1</td>\n",
       "      <td>699360.0</td>\n",
       "    </tr>\n",
       "    <tr>\n",
       "      <th>...</th>\n",
       "      <th>...</th>\n",
       "      <td>...</td>\n",
       "      <td>...</td>\n",
       "    </tr>\n",
       "    <tr>\n",
       "      <th rowspan=\"5\" valign=\"top\">99</th>\n",
       "      <th>201117</th>\n",
       "      <td>1</td>\n",
       "      <td>222542.0</td>\n",
       "    </tr>\n",
       "    <tr>\n",
       "      <th>201117</th>\n",
       "      <td>1</td>\n",
       "      <td>222612.0</td>\n",
       "    </tr>\n",
       "    <tr>\n",
       "      <th>201117</th>\n",
       "      <td>1</td>\n",
       "      <td>222930.0</td>\n",
       "    </tr>\n",
       "    <tr>\n",
       "      <th>201117</th>\n",
       "      <td>1</td>\n",
       "      <td>223517.0</td>\n",
       "    </tr>\n",
       "    <tr>\n",
       "      <th>201117</th>\n",
       "      <td>1</td>\n",
       "      <td>224182.0</td>\n",
       "    </tr>\n",
       "  </tbody>\n",
       "</table>\n",
       "<p>5409165 rows × 2 columns</p>\n",
       "</div>"
      ],
      "text/plain": [
       "                    charge      time\n",
       "event_id sensor_id                  \n",
       "0        101200          1  698166.0\n",
       "         101200          1  698239.0\n",
       "         101200          1  698512.0\n",
       "         101200          1  698939.0\n",
       "         101200          1  699360.0\n",
       "...                    ...       ...\n",
       "99       201117          1  222542.0\n",
       "         201117          1  222612.0\n",
       "         201117          1  222930.0\n",
       "         201117          1  223517.0\n",
       "         201117          1  224182.0\n",
       "\n",
       "[5409165 rows x 2 columns]"
      ]
     },
     "execution_count": 34,
     "metadata": {},
     "output_type": "execute_result"
    }
   ],
   "source": [
    "fibers_response"
   ]
  },
  {
   "cell_type": "code",
   "execution_count": 35,
   "metadata": {},
   "outputs": [
    {
     "data": {
      "text/html": [
       "<div>\n",
       "<style scoped>\n",
       "    .dataframe tbody tr th:only-of-type {\n",
       "        vertical-align: middle;\n",
       "    }\n",
       "\n",
       "    .dataframe tbody tr th {\n",
       "        vertical-align: top;\n",
       "    }\n",
       "\n",
       "    .dataframe thead th {\n",
       "        text-align: right;\n",
       "    }\n",
       "</style>\n",
       "<table border=\"1\" class=\"dataframe\">\n",
       "  <thead>\n",
       "    <tr style=\"text-align: right;\">\n",
       "      <th></th>\n",
       "      <th>event_id</th>\n",
       "      <th>sensor_id</th>\n",
       "      <th>tot_charge</th>\n",
       "    </tr>\n",
       "  </thead>\n",
       "  <tbody>\n",
       "    <tr>\n",
       "      <th>0</th>\n",
       "      <td>0</td>\n",
       "      <td>1010</td>\n",
       "      <td>1</td>\n",
       "    </tr>\n",
       "    <tr>\n",
       "      <th>1</th>\n",
       "      <td>0</td>\n",
       "      <td>1016</td>\n",
       "      <td>1</td>\n",
       "    </tr>\n",
       "    <tr>\n",
       "      <th>2</th>\n",
       "      <td>0</td>\n",
       "      <td>1019</td>\n",
       "      <td>2</td>\n",
       "    </tr>\n",
       "    <tr>\n",
       "      <th>3</th>\n",
       "      <td>0</td>\n",
       "      <td>1024</td>\n",
       "      <td>1</td>\n",
       "    </tr>\n",
       "    <tr>\n",
       "      <th>4</th>\n",
       "      <td>0</td>\n",
       "      <td>1027</td>\n",
       "      <td>2</td>\n",
       "    </tr>\n",
       "    <tr>\n",
       "      <th>...</th>\n",
       "      <td>...</td>\n",
       "      <td>...</td>\n",
       "      <td>...</td>\n",
       "    </tr>\n",
       "    <tr>\n",
       "      <th>62511</th>\n",
       "      <td>99</td>\n",
       "      <td>4083</td>\n",
       "      <td>2</td>\n",
       "    </tr>\n",
       "    <tr>\n",
       "      <th>62512</th>\n",
       "      <td>99</td>\n",
       "      <td>4088</td>\n",
       "      <td>1</td>\n",
       "    </tr>\n",
       "    <tr>\n",
       "      <th>62513</th>\n",
       "      <td>99</td>\n",
       "      <td>4089</td>\n",
       "      <td>2</td>\n",
       "    </tr>\n",
       "    <tr>\n",
       "      <th>62514</th>\n",
       "      <td>99</td>\n",
       "      <td>4090</td>\n",
       "      <td>1</td>\n",
       "    </tr>\n",
       "    <tr>\n",
       "      <th>62515</th>\n",
       "      <td>99</td>\n",
       "      <td>4091</td>\n",
       "      <td>2</td>\n",
       "    </tr>\n",
       "  </tbody>\n",
       "</table>\n",
       "<p>62516 rows × 3 columns</p>\n",
       "</div>"
      ],
      "text/plain": [
       "       event_id  sensor_id  tot_charge\n",
       "0             0       1010           1\n",
       "1             0       1016           1\n",
       "2             0       1019           2\n",
       "3             0       1024           1\n",
       "4             0       1027           2\n",
       "...         ...        ...         ...\n",
       "62511        99       4083           2\n",
       "62512        99       4088           1\n",
       "62513        99       4089           2\n",
       "62514        99       4090           1\n",
       "62515        99       4091           2\n",
       "\n",
       "[62516 rows x 3 columns]"
      ]
     },
     "execution_count": 35,
     "metadata": {},
     "output_type": "execute_result"
    }
   ],
   "source": [
    "grouped_multiple = sipm_response.groupby(['event_id', 'sensor_id']).agg({'charge': ['sum']})\n",
    "grouped_multiple.columns = ['tot_charge']\n",
    "sipmdf = grouped_multiple.reset_index()\n",
    "sipmdf\n"
   ]
  },
  {
   "cell_type": "code",
   "execution_count": 42,
   "metadata": {},
   "outputs": [
    {
     "data": {
      "text/html": [
       "<div>\n",
       "<style scoped>\n",
       "    .dataframe tbody tr th:only-of-type {\n",
       "        vertical-align: middle;\n",
       "    }\n",
       "\n",
       "    .dataframe tbody tr th {\n",
       "        vertical-align: top;\n",
       "    }\n",
       "\n",
       "    .dataframe thead th {\n",
       "        text-align: right;\n",
       "    }\n",
       "</style>\n",
       "<table border=\"1\" class=\"dataframe\">\n",
       "  <thead>\n",
       "    <tr style=\"text-align: right;\">\n",
       "      <th></th>\n",
       "      <th>event_id</th>\n",
       "      <th>sensor_id</th>\n",
       "      <th>tot_charge</th>\n",
       "    </tr>\n",
       "  </thead>\n",
       "  <tbody>\n",
       "    <tr>\n",
       "      <th>0</th>\n",
       "      <td>0</td>\n",
       "      <td>1010</td>\n",
       "      <td>1</td>\n",
       "    </tr>\n",
       "    <tr>\n",
       "      <th>1</th>\n",
       "      <td>0</td>\n",
       "      <td>1016</td>\n",
       "      <td>1</td>\n",
       "    </tr>\n",
       "    <tr>\n",
       "      <th>2</th>\n",
       "      <td>0</td>\n",
       "      <td>1019</td>\n",
       "      <td>2</td>\n",
       "    </tr>\n",
       "    <tr>\n",
       "      <th>3</th>\n",
       "      <td>0</td>\n",
       "      <td>1024</td>\n",
       "      <td>1</td>\n",
       "    </tr>\n",
       "    <tr>\n",
       "      <th>4</th>\n",
       "      <td>0</td>\n",
       "      <td>1027</td>\n",
       "      <td>2</td>\n",
       "    </tr>\n",
       "    <tr>\n",
       "      <th>...</th>\n",
       "      <td>...</td>\n",
       "      <td>...</td>\n",
       "      <td>...</td>\n",
       "    </tr>\n",
       "    <tr>\n",
       "      <th>683</th>\n",
       "      <td>0</td>\n",
       "      <td>4086</td>\n",
       "      <td>1</td>\n",
       "    </tr>\n",
       "    <tr>\n",
       "      <th>684</th>\n",
       "      <td>0</td>\n",
       "      <td>4087</td>\n",
       "      <td>1</td>\n",
       "    </tr>\n",
       "    <tr>\n",
       "      <th>685</th>\n",
       "      <td>0</td>\n",
       "      <td>4088</td>\n",
       "      <td>1</td>\n",
       "    </tr>\n",
       "    <tr>\n",
       "      <th>686</th>\n",
       "      <td>0</td>\n",
       "      <td>4090</td>\n",
       "      <td>1</td>\n",
       "    </tr>\n",
       "    <tr>\n",
       "      <th>687</th>\n",
       "      <td>0</td>\n",
       "      <td>4091</td>\n",
       "      <td>1</td>\n",
       "    </tr>\n",
       "  </tbody>\n",
       "</table>\n",
       "<p>688 rows × 3 columns</p>\n",
       "</div>"
      ],
      "text/plain": [
       "     event_id  sensor_id  tot_charge\n",
       "0           0       1010           1\n",
       "1           0       1016           1\n",
       "2           0       1019           2\n",
       "3           0       1024           1\n",
       "4           0       1027           2\n",
       "..        ...        ...         ...\n",
       "683         0       4086           1\n",
       "684         0       4087           1\n",
       "685         0       4088           1\n",
       "686         0       4090           1\n",
       "687         0       4091           1\n",
       "\n",
       "[688 rows x 3 columns]"
      ]
     },
     "execution_count": 42,
     "metadata": {},
     "output_type": "execute_result"
    }
   ],
   "source": [
    "sipm0 = sipmdf[sipmdf.event_id==0]\n",
    "sipm0"
   ]
  },
  {
   "cell_type": "code",
   "execution_count": 44,
   "metadata": {},
   "outputs": [
    {
     "data": {
      "text/plain": [
       "74"
      ]
     },
     "execution_count": 44,
     "metadata": {},
     "output_type": "execute_result"
    }
   ],
   "source": [
    "sipm0.tot_charge.max()"
   ]
  },
  {
   "cell_type": "code",
   "execution_count": 45,
   "metadata": {},
   "outputs": [
    {
     "data": {
      "text/plain": [
       "<matplotlib.axes._subplots.AxesSubplot at 0x7f9170965ad0>"
      ]
     },
     "execution_count": 45,
     "metadata": {},
     "output_type": "execute_result"
    },
    {
     "data": {
      "image/png": "[encoded data removed]",
      "text/plain": [
       "<Figure size 576x432 with 1 Axes>"
      ]
     },
     "metadata": {
      "needs_background": "light"
     },
     "output_type": "display_data"
    }
   ],
   "source": [
    "sipmdf['tot_charge'].plot(kind='hist', color='blue')"
   ]
  },
  {
   "cell_type": "code",
   "execution_count": 46,
   "metadata": {},
   "outputs": [
    {
     "data": {
      "image/png": "[encoded data removed]",
      "text/plain": [
       "<Figure size 576x432 with 1 Axes>"
      ]
     },
     "metadata": {
      "needs_background": "light"
     },
     "output_type": "display_data"
    }
   ],
   "source": [
    "_, _, _ = plt.hist(sipmdf.groupby('sensor_id').tot_charge.max(), bins=50)"
   ]
  },
  {
   "cell_type": "code",
   "execution_count": 48,
   "metadata": {},
   "outputs": [],
   "source": [
    "true_positions['S1e'] = fibers_response[fibers_response.time < s1_time].groupby('event_id').charge.sum()\n",
    "true_positions['S2e'] = fibers_response[fibers_response.time > s1_time].groupby('event_id').charge.sum()"
   ]
  },
  {
   "cell_type": "code",
   "execution_count": 49,
   "metadata": {},
   "outputs": [
    {
     "data": {
      "text/html": [
       "<div>\n",
       "<style scoped>\n",
       "    .dataframe tbody tr th:only-of-type {\n",
       "        vertical-align: middle;\n",
       "    }\n",
       "\n",
       "    .dataframe tbody tr th {\n",
       "        vertical-align: top;\n",
       "    }\n",
       "\n",
       "    .dataframe thead th {\n",
       "        text-align: right;\n",
       "    }\n",
       "</style>\n",
       "<table border=\"1\" class=\"dataframe\">\n",
       "  <thead>\n",
       "    <tr style=\"text-align: right;\">\n",
       "      <th></th>\n",
       "      <th>true_x</th>\n",
       "      <th>true_y</th>\n",
       "      <th>true_z</th>\n",
       "      <th>S1e</th>\n",
       "      <th>S2e</th>\n",
       "    </tr>\n",
       "    <tr>\n",
       "      <th>event_id</th>\n",
       "      <th></th>\n",
       "      <th></th>\n",
       "      <th></th>\n",
       "      <th></th>\n",
       "      <th></th>\n",
       "    </tr>\n",
       "  </thead>\n",
       "  <tbody>\n",
       "    <tr>\n",
       "      <th>0</th>\n",
       "      <td>-56.189575</td>\n",
       "      <td>45.298237</td>\n",
       "      <td>699.266174</td>\n",
       "      <td>104</td>\n",
       "      <td>51393</td>\n",
       "    </tr>\n",
       "    <tr>\n",
       "      <th>1</th>\n",
       "      <td>-204.040588</td>\n",
       "      <td>82.765907</td>\n",
       "      <td>1015.823975</td>\n",
       "      <td>109</td>\n",
       "      <td>52672</td>\n",
       "    </tr>\n",
       "    <tr>\n",
       "      <th>2</th>\n",
       "      <td>-106.802177</td>\n",
       "      <td>361.837128</td>\n",
       "      <td>72.865242</td>\n",
       "      <td>86</td>\n",
       "      <td>53380</td>\n",
       "    </tr>\n",
       "    <tr>\n",
       "      <th>3</th>\n",
       "      <td>-286.395020</td>\n",
       "      <td>30.258028</td>\n",
       "      <td>601.792908</td>\n",
       "      <td>111</td>\n",
       "      <td>52792</td>\n",
       "    </tr>\n",
       "    <tr>\n",
       "      <th>4</th>\n",
       "      <td>-211.909500</td>\n",
       "      <td>72.846420</td>\n",
       "      <td>256.701111</td>\n",
       "      <td>94</td>\n",
       "      <td>51836</td>\n",
       "    </tr>\n",
       "    <tr>\n",
       "      <th>...</th>\n",
       "      <td>...</td>\n",
       "      <td>...</td>\n",
       "      <td>...</td>\n",
       "      <td>...</td>\n",
       "      <td>...</td>\n",
       "    </tr>\n",
       "    <tr>\n",
       "      <th>95</th>\n",
       "      <td>-255.406860</td>\n",
       "      <td>-186.872360</td>\n",
       "      <td>828.706848</td>\n",
       "      <td>90</td>\n",
       "      <td>52152</td>\n",
       "    </tr>\n",
       "    <tr>\n",
       "      <th>96</th>\n",
       "      <td>464.921906</td>\n",
       "      <td>127.380112</td>\n",
       "      <td>96.327408</td>\n",
       "      <td>92</td>\n",
       "      <td>67676</td>\n",
       "    </tr>\n",
       "    <tr>\n",
       "      <th>97</th>\n",
       "      <td>26.906584</td>\n",
       "      <td>373.798248</td>\n",
       "      <td>688.268555</td>\n",
       "      <td>108</td>\n",
       "      <td>54002</td>\n",
       "    </tr>\n",
       "    <tr>\n",
       "      <th>98</th>\n",
       "      <td>-237.737595</td>\n",
       "      <td>343.886963</td>\n",
       "      <td>1076.010620</td>\n",
       "      <td>116</td>\n",
       "      <td>57705</td>\n",
       "    </tr>\n",
       "    <tr>\n",
       "      <th>99</th>\n",
       "      <td>-63.312759</td>\n",
       "      <td>-1.815126</td>\n",
       "      <td>219.255478</td>\n",
       "      <td>122</td>\n",
       "      <td>50741</td>\n",
       "    </tr>\n",
       "  </tbody>\n",
       "</table>\n",
       "<p>100 rows × 5 columns</p>\n",
       "</div>"
      ],
      "text/plain": [
       "              true_x      true_y       true_z  S1e    S2e\n",
       "event_id                                                 \n",
       "0         -56.189575   45.298237   699.266174  104  51393\n",
       "1        -204.040588   82.765907  1015.823975  109  52672\n",
       "2        -106.802177  361.837128    72.865242   86  53380\n",
       "3        -286.395020   30.258028   601.792908  111  52792\n",
       "4        -211.909500   72.846420   256.701111   94  51836\n",
       "...              ...         ...          ...  ...    ...\n",
       "95       -255.406860 -186.872360   828.706848   90  52152\n",
       "96        464.921906  127.380112    96.327408   92  67676\n",
       "97         26.906584  373.798248   688.268555  108  54002\n",
       "98       -237.737595  343.886963  1076.010620  116  57705\n",
       "99        -63.312759   -1.815126   219.255478  122  50741\n",
       "\n",
       "[100 rows x 5 columns]"
      ]
     },
     "execution_count": 49,
     "metadata": {},
     "output_type": "execute_result"
    }
   ],
   "source": [
    "true_positions"
   ]
  },
  {
   "cell_type": "code",
   "execution_count": 50,
   "metadata": {},
   "outputs": [
    {
     "data": {
      "text/plain": [
       "<matplotlib.axes._subplots.AxesSubplot at 0x7f9150201310>"
      ]
     },
     "execution_count": 50,
     "metadata": {},
     "output_type": "execute_result"
    },
    {
     "data": {
      "image/png": "[encoded data removed]",
      "text/plain": [
       "<Figure size 576x432 with 2 Axes>"
      ]
     },
     "metadata": {
      "needs_background": "light"
     },
     "output_type": "display_data"
    }
   ],
   "source": [
    "true_positions.plot(kind='scatter', x='true_x', y='true_y', c='S2e', cmap='viridis')"
   ]
  },
  {
   "cell_type": "code",
   "execution_count": 51,
   "metadata": {},
   "outputs": [
    {
     "data": {
      "text/plain": [
       "<matplotlib.axes._subplots.AxesSubplot at 0x7f915036bc50>"
      ]
     },
     "execution_count": 51,
     "metadata": {},
     "output_type": "execute_result"
    },
    {
     "data": {
      "image/png": "[encoded data removed]",
      "text/plain": [
       "<Figure size 576x432 with 2 Axes>"
      ]
     },
     "metadata": {
      "needs_background": "light"
     },
     "output_type": "display_data"
    }
   ],
   "source": [
    "true_positions.plot(kind='scatter', x='true_x', y='true_y', c='S1e', cmap='viridis')"
   ]
  },
  {
   "cell_type": "code",
   "execution_count": 52,
   "metadata": {},
   "outputs": [
    {
     "data": {
      "text/plain": [
       "3.7416573867739413"
      ]
     },
     "execution_count": 52,
     "metadata": {},
     "output_type": "execute_result"
    }
   ],
   "source": [
    "v = [1,2,3]\n",
    "np.linalg.norm(v) "
   ]
  },
  {
   "cell_type": "code",
   "execution_count": 54,
   "metadata": {},
   "outputs": [
    {
     "data": {
      "text/plain": [
       "3.7416573867739413"
      ]
     },
     "execution_count": 54,
     "metadata": {},
     "output_type": "execute_result"
    }
   ],
   "source": [
    "np.sqrt(np.dot(v,v))"
   ]
  },
  {
   "cell_type": "code",
   "execution_count": 56,
   "metadata": {},
   "outputs": [],
   "source": [
    "def kr_dst(ifnames, sipm_map, key_sensor_fibres = 100000, s1_time = 1.*units.mus, verbose=False, ic=100):\n",
    "    \"\"\"Prepares an analysis dst for Krypton, including:\n",
    "    \n",
    "    1. True positions from the MC\n",
    "    2. Computed positions from Barycenter (around SiPM with max charge) -- after integrating all time bins\n",
    "    3. S1e from fibers --- MC response\n",
    "    2. S2e from MC     --- MC response\n",
    "    \n",
    "    \"\"\"\n",
    "    \n",
    "    def sipm_time_integral():\n",
    "        grouped_multiple = sipm_response.groupby(['event_id', 'sensor_id']).agg({'charge': ['sum']})\n",
    "        grouped_multiple.columns = ['tot_charge']\n",
    "        return grouped_multiple.reset_index()\n",
    "            \n",
    "    def get_q(ix):\n",
    "        if ix != NN:\n",
    "            q = evt[evt.sensor_id==ix].tot_charge.values[0]\n",
    "        else:\n",
    "            q = 0        \n",
    "        return q\n",
    "    \n",
    "    def get_pos(vz, vq):\n",
    "        return np.dot(vz, vq) / np.sum(vq) \n",
    "    \n",
    "    \n",
    "    mcParts         = pd.DataFrame()\n",
    "    fibers_response = pd.DataFrame()\n",
    "    sipm_response   = pd.DataFrame()\n",
    "    for ifname in ifnames:\n",
    "        mcParts         = mcParts.append(load_mcparticles_df(ifname))\n",
    "    \n",
    "        sns_response    = load_mcsensor_response_df(ifname)    \n",
    "        fibers_response = fibers_response.append(sns_response[sns_response.index\n",
    "                                                          .get_level_values(\"sensor_id\") >= key_sensor_fibres])\n",
    "        sipm_response   = sipm_response.append(sns_response[sns_response.index\n",
    "                                                          .get_level_values(\"sensor_id\") < key_sensor_fibres])\n",
    "    sipmdf = sipm_time_integral()\n",
    "    \n",
    "    krdf = get_evt_true_positions_df(mcParts)\n",
    "    krdf['S1e'] = fibers_response[fibers_response.time < s1_time].groupby('event_id').charge.sum()\n",
    "    krdf['S2e'] = fibers_response[fibers_response.time > s1_time].groupby('event_id').charge.sum()\n",
    "    \n",
    "    \n",
    "    xMax = []\n",
    "    xPos = []\n",
    "    yMax = []\n",
    "    yPos = []\n",
    "    for i in krdf.index:\n",
    "        if verbose and i%ic == 0:\n",
    "            print(i)\n",
    "            \n",
    "        evt          = sipmdf[sipmdf.event_id==i]\n",
    "        qmax         = evt.tot_charge.max()\n",
    "        iqmax        = evt[evt.tot_charge==qmax].sensor_id.values[0]\n",
    "\n",
    "        qmaxdf       = sipm_map[sipm_map.sensor_id==iqmax]\n",
    "        xqmax, yqmax =  qmaxdf.x.values[0], qmaxdf.y.values[0]\n",
    "        xl, xr       =  qmaxdf.xl.values[0], qmaxdf.xr.values[0]\n",
    "        yu, yd       =  qmaxdf.yu.values[0], qmaxdf.yd.values[0]\n",
    "        \n",
    "        ql = get_q(qmaxdf.id_xl.values[0])\n",
    "        qr = get_q(qmaxdf.id_xr.values[0])\n",
    "        qu = get_q(qmaxdf.id_yu.values[0])\n",
    "        qd = get_q(qmaxdf.id_yd.values[0])\n",
    "        \n",
    "        xp = get_pos(np.array([xqmax, xl, xr]), np.array([qmax, ql, qr]))\n",
    "        yp = get_pos(np.array([yqmax, yu, yd]), np.array([qmax, qu, qd]))\n",
    " \n",
    "        xMax.append(xqmax)\n",
    "        xPos.append(xp)\n",
    "        yMax.append(yqmax)\n",
    "        yPos.append(yp)\n",
    "\n",
    "    krdf['xmax'] = xMax\n",
    "    krdf['ymax'] = yMax\n",
    "    krdf['xpos'] = xPos\n",
    "    krdf['ypos'] = yPos\n",
    "\n",
    "    \n",
    "    return krdf"
   ]
  },
  {
   "cell_type": "code",
   "execution_count": 60,
   "metadata": {},
   "outputs": [
    {
     "name": "stdout",
     "output_type": "stream",
     "text": [
      "0\n",
      "10\n",
      "20\n",
      "30\n",
      "40\n",
      "50\n",
      "60\n",
      "70\n",
      "80\n",
      "90\n",
      "100\n",
      "110\n",
      "120\n",
      "130\n",
      "140\n",
      "150\n",
      "160\n",
      "170\n",
      "180\n",
      "190\n"
     ]
    }
   ],
   "source": [
    "krdst = kr_dst(ifnames, sipm_map, verbose=True, ic=10)"
   ]
  },
  {
   "cell_type": "code",
   "execution_count": 61,
   "metadata": {},
   "outputs": [
    {
     "data": {
      "text/html": [
       "<div>\n",
       "<style scoped>\n",
       "    .dataframe tbody tr th:only-of-type {\n",
       "        vertical-align: middle;\n",
       "    }\n",
       "\n",
       "    .dataframe tbody tr th {\n",
       "        vertical-align: top;\n",
       "    }\n",
       "\n",
       "    .dataframe thead th {\n",
       "        text-align: right;\n",
       "    }\n",
       "</style>\n",
       "<table border=\"1\" class=\"dataframe\">\n",
       "  <thead>\n",
       "    <tr style=\"text-align: right;\">\n",
       "      <th></th>\n",
       "      <th>true_x</th>\n",
       "      <th>true_y</th>\n",
       "      <th>true_z</th>\n",
       "      <th>S1e</th>\n",
       "      <th>S2e</th>\n",
       "      <th>xmax</th>\n",
       "      <th>ymax</th>\n",
       "      <th>xpos</th>\n",
       "      <th>ypos</th>\n",
       "    </tr>\n",
       "    <tr>\n",
       "      <th>event_id</th>\n",
       "      <th></th>\n",
       "      <th></th>\n",
       "      <th></th>\n",
       "      <th></th>\n",
       "      <th></th>\n",
       "      <th></th>\n",
       "      <th></th>\n",
       "      <th></th>\n",
       "      <th></th>\n",
       "    </tr>\n",
       "  </thead>\n",
       "  <tbody>\n",
       "    <tr>\n",
       "      <th>0</th>\n",
       "      <td>-56.189575</td>\n",
       "      <td>45.298237</td>\n",
       "      <td>699.266174</td>\n",
       "      <td>104</td>\n",
       "      <td>51393</td>\n",
       "      <td>-62.20</td>\n",
       "      <td>46.65</td>\n",
       "      <td>-59.487791</td>\n",
       "      <td>45.345807</td>\n",
       "    </tr>\n",
       "    <tr>\n",
       "      <th>1</th>\n",
       "      <td>-204.040588</td>\n",
       "      <td>82.765907</td>\n",
       "      <td>1015.823975</td>\n",
       "      <td>109</td>\n",
       "      <td>52672</td>\n",
       "      <td>-202.15</td>\n",
       "      <td>77.75</td>\n",
       "      <td>-202.911186</td>\n",
       "      <td>80.142308</td>\n",
       "    </tr>\n",
       "    <tr>\n",
       "      <th>2</th>\n",
       "      <td>-106.802177</td>\n",
       "      <td>361.837128</td>\n",
       "      <td>72.865242</td>\n",
       "      <td>86</td>\n",
       "      <td>53380</td>\n",
       "      <td>-108.85</td>\n",
       "      <td>357.65</td>\n",
       "      <td>-107.739285</td>\n",
       "      <td>359.490233</td>\n",
       "    </tr>\n",
       "    <tr>\n",
       "      <th>3</th>\n",
       "      <td>-286.395020</td>\n",
       "      <td>30.258028</td>\n",
       "      <td>601.792908</td>\n",
       "      <td>111</td>\n",
       "      <td>52792</td>\n",
       "      <td>-279.90</td>\n",
       "      <td>31.10</td>\n",
       "      <td>-282.940499</td>\n",
       "      <td>30.074725</td>\n",
       "    </tr>\n",
       "    <tr>\n",
       "      <th>4</th>\n",
       "      <td>-211.909500</td>\n",
       "      <td>72.846420</td>\n",
       "      <td>256.701111</td>\n",
       "      <td>94</td>\n",
       "      <td>51836</td>\n",
       "      <td>-202.15</td>\n",
       "      <td>77.75</td>\n",
       "      <td>-205.451114</td>\n",
       "      <td>76.414417</td>\n",
       "    </tr>\n",
       "    <tr>\n",
       "      <th>...</th>\n",
       "      <td>...</td>\n",
       "      <td>...</td>\n",
       "      <td>...</td>\n",
       "      <td>...</td>\n",
       "      <td>...</td>\n",
       "      <td>...</td>\n",
       "      <td>...</td>\n",
       "      <td>...</td>\n",
       "      <td>...</td>\n",
       "    </tr>\n",
       "    <tr>\n",
       "      <th>195</th>\n",
       "      <td>-328.773773</td>\n",
       "      <td>-64.463905</td>\n",
       "      <td>540.061523</td>\n",
       "      <td>91</td>\n",
       "      <td>52999</td>\n",
       "      <td>-326.55</td>\n",
       "      <td>-62.20</td>\n",
       "      <td>-328.598497</td>\n",
       "      <td>-64.558708</td>\n",
       "    </tr>\n",
       "    <tr>\n",
       "      <th>196</th>\n",
       "      <td>431.723480</td>\n",
       "      <td>-211.044281</td>\n",
       "      <td>1140.764893</td>\n",
       "      <td>96</td>\n",
       "      <td>57871</td>\n",
       "      <td>435.40</td>\n",
       "      <td>-202.15</td>\n",
       "      <td>429.877568</td>\n",
       "      <td>-204.661177</td>\n",
       "    </tr>\n",
       "    <tr>\n",
       "      <th>197</th>\n",
       "      <td>226.877975</td>\n",
       "      <td>31.063253</td>\n",
       "      <td>352.058563</td>\n",
       "      <td>103</td>\n",
       "      <td>51846</td>\n",
       "      <td>233.25</td>\n",
       "      <td>31.10</td>\n",
       "      <td>229.784036</td>\n",
       "      <td>30.601070</td>\n",
       "    </tr>\n",
       "    <tr>\n",
       "      <th>198</th>\n",
       "      <td>-43.364094</td>\n",
       "      <td>-440.346436</td>\n",
       "      <td>749.897278</td>\n",
       "      <td>91</td>\n",
       "      <td>59202</td>\n",
       "      <td>-46.65</td>\n",
       "      <td>-435.40</td>\n",
       "      <td>-44.609063</td>\n",
       "      <td>-438.173245</td>\n",
       "    </tr>\n",
       "    <tr>\n",
       "      <th>199</th>\n",
       "      <td>-285.468109</td>\n",
       "      <td>-246.853149</td>\n",
       "      <td>145.531128</td>\n",
       "      <td>66</td>\n",
       "      <td>55727</td>\n",
       "      <td>-295.45</td>\n",
       "      <td>-248.80</td>\n",
       "      <td>-290.926371</td>\n",
       "      <td>-247.676946</td>\n",
       "    </tr>\n",
       "  </tbody>\n",
       "</table>\n",
       "<p>200 rows × 9 columns</p>\n",
       "</div>"
      ],
      "text/plain": [
       "              true_x      true_y       true_z  S1e    S2e    xmax    ymax  \\\n",
       "event_id                                                                    \n",
       "0         -56.189575   45.298237   699.266174  104  51393  -62.20   46.65   \n",
       "1        -204.040588   82.765907  1015.823975  109  52672 -202.15   77.75   \n",
       "2        -106.802177  361.837128    72.865242   86  53380 -108.85  357.65   \n",
       "3        -286.395020   30.258028   601.792908  111  52792 -279.90   31.10   \n",
       "4        -211.909500   72.846420   256.701111   94  51836 -202.15   77.75   \n",
       "...              ...         ...          ...  ...    ...     ...     ...   \n",
       "195      -328.773773  -64.463905   540.061523   91  52999 -326.55  -62.20   \n",
       "196       431.723480 -211.044281  1140.764893   96  57871  435.40 -202.15   \n",
       "197       226.877975   31.063253   352.058563  103  51846  233.25   31.10   \n",
       "198       -43.364094 -440.346436   749.897278   91  59202  -46.65 -435.40   \n",
       "199      -285.468109 -246.853149   145.531128   66  55727 -295.45 -248.80   \n",
       "\n",
       "                xpos        ypos  \n",
       "event_id                          \n",
       "0         -59.487791   45.345807  \n",
       "1        -202.911186   80.142308  \n",
       "2        -107.739285  359.490233  \n",
       "3        -282.940499   30.074725  \n",
       "4        -205.451114   76.414417  \n",
       "...              ...         ...  \n",
       "195      -328.598497  -64.558708  \n",
       "196       429.877568 -204.661177  \n",
       "197       229.784036   30.601070  \n",
       "198       -44.609063 -438.173245  \n",
       "199      -290.926371 -247.676946  \n",
       "\n",
       "[200 rows x 9 columns]"
      ]
     },
     "execution_count": 61,
     "metadata": {},
     "output_type": "execute_result"
    }
   ],
   "source": [
    "krdst"
   ]
  },
  {
   "cell_type": "code",
   "execution_count": 74,
   "metadata": {},
   "outputs": [],
   "source": [
    "def sigma_max_true(krdst, true='true_x', var='xmax', bins=10, alpha=0.6, color='g'):\n",
    "    dx = (krdst[true] - krdst[var]).values\n",
    "    mu, std = norm.fit(dx)\n",
    "    plt.hist(dx, bins=bins, density=True, alpha=alpha, color=color)\n",
    "    xmin, xmax = plt.xlim()\n",
    "    x = np.linspace(xmin, xmax, 100)\n",
    "    p = norm.pdf(x, mu, std)\n",
    "    plt.plot(x, p, 'k', linewidth=2)\n",
    "    title = \"Fit results: mu = %.2f,  std = %.2f\" % (mu, std)\n",
    "    plt.title(title)\n",
    "    plt.show()\n",
    "    "
   ]
  },
  {
   "cell_type": "code",
   "execution_count": 75,
   "metadata": {},
   "outputs": [
    {
     "data": {
      "image/png": "[encoded data removed]",
      "text/plain": [
       "<Figure size 576x432 with 1 Axes>"
      ]
     },
     "metadata": {
      "needs_background": "light"
     },
     "output_type": "display_data"
    }
   ],
   "source": [
    "sigma_max_true(krdst, true='true_x', var='xmax', bins=10, alpha=0.6, color='g')"
   ]
  },
  {
   "cell_type": "code",
   "execution_count": 76,
   "metadata": {},
   "outputs": [
    {
     "data": {
      "image/png": "[encoded data removed]",
      "text/plain": [
       "<Figure size 576x432 with 1 Axes>"
      ]
     },
     "metadata": {
      "needs_background": "light"
     },
     "output_type": "display_data"
    }
   ],
   "source": [
    "sigma_max_true(krdst, true='true_x', var='xpos', bins=10, alpha=0.6, color='g')"
   ]
  },
  {
   "cell_type": "code",
   "execution_count": 77,
   "metadata": {},
   "outputs": [
    {
     "data": {
      "image/png": "[encoded data removed]",
      "text/plain": [
       "<Figure size 576x432 with 1 Axes>"
      ]
     },
     "metadata": {
      "needs_background": "light"
     },
     "output_type": "display_data"
    }
   ],
   "source": [
    "sigma_max_true(krdst, true='true_y', var='ypos', bins=10, alpha=0.6, color='g')"
   ]
  },
  {
   "cell_type": "code",
   "execution_count": 80,
   "metadata": {},
   "outputs": [
    {
     "data": {
      "text/plain": [
       "<matplotlib.axes._subplots.AxesSubplot at 0x7f9170faa050>"
      ]
     },
     "execution_count": 80,
     "metadata": {},
     "output_type": "execute_result"
    },
    {
     "data": {
      "image/png": "[encoded data removed]",
      "text/plain": [
       "<Figure size 576x432 with 2 Axes>"
      ]
     },
     "metadata": {
      "needs_background": "light"
     },
     "output_type": "display_data"
    }
   ],
   "source": [
    "krdst.plot(kind='scatter', x='xpos', y='ypos', c='S2e', cmap='viridis')"
   ]
  },
  {
   "cell_type": "code",
   "execution_count": 81,
   "metadata": {},
   "outputs": [
    {
     "data": {
      "text/plain": [
       "<matplotlib.axes._subplots.AxesSubplot at 0x7f9132481ad0>"
      ]
     },
     "execution_count": 81,
     "metadata": {},
     "output_type": "execute_result"
    },
    {
     "data": {
      "image/png": "[encoded data removed]",
      "text/plain": [
       "<Figure size 576x432 with 2 Axes>"
      ]
     },
     "metadata": {
      "needs_background": "light"
     },
     "output_type": "display_data"
    }
   ],
   "source": [
    "krdst.plot(kind='scatter', x='xmax', y='ymax', c='S2e', cmap='viridis')"
   ]
  },
  {
   "cell_type": "code",
   "execution_count": 82,
   "metadata": {},
   "outputs": [
    {
     "data": {
      "text/plain": [
       "<matplotlib.axes._subplots.AxesSubplot at 0x7f914106d090>"
      ]
     },
     "execution_count": 82,
     "metadata": {},
     "output_type": "execute_result"
    },
    {
     "data": {
      "image/png": "[encoded data removed]",
      "text/plain": [
       "<Figure size 576x432 with 2 Axes>"
      ]
     },
     "metadata": {
      "needs_background": "light"
     },
     "output_type": "display_data"
    }
   ],
   "source": [
    "krdst.plot(kind='scatter', x='true_x', y='true_y', c='S2e', cmap='viridis')"
   ]
  },
  {
   "cell_type": "code",
   "execution_count": 84,
   "metadata": {},
   "outputs": [
    {
     "data": {
      "text/plain": [
       "<matplotlib.axes._subplots.AxesSubplot at 0x7f9170ce6e50>"
      ]
     },
     "execution_count": 84,
     "metadata": {},
     "output_type": "execute_result"
    },
    {
     "data": {
      "image/png": "[encoded data removed]",
      "text/plain": [
       "<Figure size 576x432 with 1 Axes>"
      ]
     },
     "metadata": {
      "needs_background": "light"
     },
     "output_type": "display_data"
    }
   ],
   "source": [
    "krdst['S2e'].plot(kind='hist', color='blue')"
   ]
  },
  {
   "cell_type": "code",
   "execution_count": 85,
   "metadata": {},
   "outputs": [
    {
     "data": {
      "text/plain": [
       "<matplotlib.axes._subplots.AxesSubplot at 0x7f91709c8c50>"
      ]
     },
     "execution_count": 85,
     "metadata": {},
     "output_type": "execute_result"
    },
    {
     "data": {
      "image/png": "[encoded data removed]",
      "text/plain": [
       "<Figure size 576x432 with 1 Axes>"
      ]
     },
     "metadata": {
      "needs_background": "light"
     },
     "output_type": "display_data"
    }
   ],
   "source": [
    "krdst['S1e'].plot(kind='hist', color='blue')"
   ]
  },
  {
   "cell_type": "code",
   "execution_count": 86,
   "metadata": {},
   "outputs": [],
   "source": [
    "krdst.to_csv('krdst.csv')"
   ]
  }
 ],
 "metadata": {
  "kernelspec": {
   "display_name": "Python 3",
   "language": "python",
   "name": "python3"
  },
  "language_info": {
   "codemirror_mode": {
    "name": "ipython",
    "version": 3
   },
   "file_extension": ".py",
   "mimetype": "text/x-python",
   "name": "python",
   "nbconvert_exporter": "python",
   "pygments_lexer": "ipython3",
   "version": "3.7.7"
  }
 },
 "nbformat": 4,
 "nbformat_minor": 4
}
